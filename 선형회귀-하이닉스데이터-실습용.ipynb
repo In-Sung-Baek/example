{
 "cells": [
  {
   "cell_type": "markdown",
   "metadata": {},
   "source": [
    "# [선형회귀모델 실습: 하이닉스 데이터]"
   ]
  },
  {
   "cell_type": "markdown",
   "metadata": {},
   "source": [
    "## 1. 모듈 불러오기"
   ]
  },
  {
   "cell_type": "markdown",
   "metadata": {},
   "source": [
    "#### import 불러올 패키지명 as 그패키지를 파이썬에서 사용할 이름"
   ]
  },
  {
   "cell_type": "code",
   "execution_count": null,
   "metadata": {},
   "outputs": [],
   "source": [
    "# 데이터 전처리 패키지\n",
    "import pandas as pd\n",
    "import numpy as np\n",
    "\n",
    "# 선형회귀 모델 구축 및 평가 패키지\n",
    "import statsmodels.api as sm\n",
    "from sklearn.model_selection import train_test_split\n",
    "from sklearn.preprocessing import StandardScaler\n",
    "from sklearn.metrics import mean_squared_error, r2_score\n",
    "\n",
    "# 데이터 시각화 패키지\n",
    "import matplotlib.pyplot as plt"
   ]
  },
  {
   "cell_type": "markdown",
   "metadata": {},
   "source": [
    "## 2. 데이터 불러오기: 하이닉스 FDC 데이터"
   ]
  },
  {
   "cell_type": "markdown",
   "metadata": {},
   "source": [
    "#### X 데이터(입력변수) 불러오기"
   ]
  },
  {
   "cell_type": "markdown",
   "metadata": {},
   "source": [
    "+ 관측치 개수: 508,206개\n",
    "+ 변수 개수: 24개\n",
    "    + TIME: 관측 시간\n",
    "    + EQP 2: 장비\n",
    "    + MODULE 2: 모듈\n",
    "    + LOT_ID 2: LOT ID\n",
    "    + TIME_PROCESS: LOT별 관측 번호\n",
    "    + Para 01~19: 관측값"
   ]
  },
  {
   "cell_type": "code",
   "execution_count": null,
   "metadata": {},
   "outputs": [],
   "source": [
    "x_data = pd.read_csv('C:/Users/Baek/Downloads/FD2_Analysis.L_XDATA.csv')\n",
    "print(x_data.columns)"
   ]
  },
  {
   "cell_type": "code",
   "execution_count": null,
   "metadata": {},
   "outputs": [],
   "source": [
    "x_data.shape"
   ]
  },
  {
   "cell_type": "code",
   "execution_count": null,
   "metadata": {},
   "outputs": [],
   "source": [
    "x_data"
   ]
  },
  {
   "cell_type": "markdown",
   "metadata": {},
   "source": [
    "#### Y data(출력변수) 불러오기"
   ]
  },
  {
   "cell_type": "markdown",
   "metadata": {},
   "source": [
    "+ 관측치 개수: 35,178개\n",
    "+ 변수 개수: 6개\n",
    "    + LOT_ID 2: LOT ID\n",
    "    + WF_ID: Wafer ID\n",
    "    + Site: Wafer 내 관측 위치\n",
    "    + X axis: Wafer 내 관측 X 좌표\n",
    "    + Y axis: Wafer 내 관측 Y 좌표\n",
    "    + Response: 반응률(예측하고자 하는 반응 변수)"
   ]
  },
  {
   "cell_type": "code",
   "execution_count": null,
   "metadata": {},
   "outputs": [],
   "source": [
    "y_data = pd.read_csv('C:/Users/Baek/Downloads/FD2_Analysis.L_YDATA.csv')\n",
    "print(y_data.columns)"
   ]
  },
  {
   "cell_type": "code",
   "execution_count": null,
   "metadata": {},
   "outputs": [],
   "source": [
    "y_data.shape"
   ]
  },
  {
   "cell_type": "code",
   "execution_count": null,
   "metadata": {},
   "outputs": [],
   "source": [
    "y_data"
   ]
  },
  {
   "cell_type": "markdown",
   "metadata": {},
   "source": [
    "## 3. 데이터 전처리"
   ]
  },
  {
   "cell_type": "markdown",
   "metadata": {},
   "source": [
    "#### 데이터 내에 결측치 파악"
   ]
  },
  {
   "cell_type": "code",
   "execution_count": null,
   "metadata": {},
   "outputs": [],
   "source": [
    "x_data.isnull().sum()"
   ]
  },
  {
   "cell_type": "code",
   "execution_count": null,
   "metadata": {},
   "outputs": [],
   "source": [
    "y_data.isnull().sum()"
   ]
  },
  {
   "cell_type": "markdown",
   "metadata": {},
   "source": [
    "#### 결측치가 존재하는 관측치 제거"
   ]
  },
  {
   "cell_type": "code",
   "execution_count": null,
   "metadata": {},
   "outputs": [],
   "source": [
    "y_data = y_data.dropna()"
   ]
  },
  {
   "cell_type": "code",
   "execution_count": null,
   "metadata": {},
   "outputs": [],
   "source": [
    "y_data.shape"
   ]
  },
  {
   "cell_type": "markdown",
   "metadata": {},
   "source": [
    "#### 범주형 변수, 수치형 변수 분리"
   ]
  },
  {
   "cell_type": "markdown",
   "metadata": {},
   "source": [
    "+ X 데이터(입력 변수): 24개\n",
    "+ Key 변수: 1개\n",
    "    + LOT_ID 2\n",
    "+ 범주형 변수: 2개\n",
    "    + EQP 2, MODULE 2\n",
    "+ 수치형 변수: 19개\n",
    "    + Para01~19\n",
    "+ 사용하지 않는 변수: 2개\n",
    "    + TIME, TIME_PROCESS"
   ]
  },
  {
   "cell_type": "code",
   "execution_count": null,
   "metadata": {},
   "outputs": [],
   "source": [
    "# 범주형 변수 & Key 변수 분리\n",
    "data_categorical = x_data[['EQP 2', 'MODULE 2', 'LOT_ID 2']]"
   ]
  },
  {
   "cell_type": "code",
   "execution_count": null,
   "metadata": {},
   "outputs": [],
   "source": [
    "# 범주형 변수 중복값 제거\n",
    "data_categorical = data_categorical.drop_duplicates()\n",
    "data_categorical = data_categorical.reset_index(drop=True)"
   ]
  },
  {
   "cell_type": "code",
   "execution_count": null,
   "metadata": {},
   "outputs": [],
   "source": [
    "# Key 변수 분리\n",
    "lot_id = data_categorical['LOT_ID 2']"
   ]
  },
  {
   "cell_type": "code",
   "execution_count": null,
   "metadata": {},
   "outputs": [],
   "source": [
    "# 범주형 변수 분리\n",
    "data_categorical = data_categorical.drop(['LOT_ID 2'], axis=1)"
   ]
  },
  {
   "cell_type": "code",
   "execution_count": null,
   "metadata": {},
   "outputs": [],
   "source": [
    "# 범주형 변수 one-hot-encoding\n",
    "data_categorical = pd.get_dummies(data_categorical, drop_first=True)"
   ]
  },
  {
   "cell_type": "code",
   "execution_count": null,
   "metadata": {},
   "outputs": [],
   "source": [
    "# 범주형 변수, Key 변수 결합\n",
    "data_categorical =  pd.concat([lot_id, data_categorical], axis=1)"
   ]
  },
  {
   "cell_type": "code",
   "execution_count": null,
   "metadata": {},
   "outputs": [],
   "source": [
    "data_categorical"
   ]
  },
  {
   "cell_type": "code",
   "execution_count": null,
   "metadata": {},
   "outputs": [],
   "source": [
    "# 수치형 변수 분리\n",
    "x_data_num = x_data.drop(['TIME','EQP 2', 'MODULE 2','TIME_PROCESS'], axis=1)"
   ]
  },
  {
   "cell_type": "code",
   "execution_count": null,
   "metadata": {},
   "outputs": [],
   "source": [
    "x_data_num"
   ]
  },
  {
   "cell_type": "markdown",
   "metadata": {},
   "source": [
    "#### LOT_ID별 mean, max, min, variance, median, sum 값 요약"
   ]
  },
  {
   "cell_type": "code",
   "execution_count": null,
   "metadata": {},
   "outputs": [],
   "source": [
    "# mean값 요약\n",
    "mean_data = x_data_num.groupby(x_data_num['LOT_ID 2']).mean()\n",
    "mean_data.rename(columns = lambda x: x.replace('Para', 'mean'), inplace=True)"
   ]
  },
  {
   "cell_type": "code",
   "execution_count": null,
   "metadata": {},
   "outputs": [],
   "source": [
    "# max값 요약\n",
    "max_data = x_data_num.groupby(x_data_num['LOT_ID 2']).max()\n",
    "max_data.rename(columns = lambda x: x.replace('Para', 'max'), inplace=True)"
   ]
  },
  {
   "cell_type": "code",
   "execution_count": null,
   "metadata": {},
   "outputs": [],
   "source": [
    "# min값 요약\n",
    "min_data = x_data_num.groupby(x_data_num['LOT_ID 2']).min() \n",
    "min_data.rename(columns = lambda x: x.replace('Para', 'min'), inplace=True)"
   ]
  },
  {
   "cell_type": "code",
   "execution_count": null,
   "metadata": {},
   "outputs": [],
   "source": [
    "# variance값 요약\n",
    "var_data = x_data_num.groupby(x_data_num['LOT_ID 2']).var()\n",
    "var_data.rename(columns = lambda x: x.replace('Para', 'var'), inplace=True)"
   ]
  },
  {
   "cell_type": "code",
   "execution_count": null,
   "metadata": {},
   "outputs": [],
   "source": [
    "# median값 요약\n",
    "median_data = x_data_num.groupby(x_data_num['LOT_ID 2']).median()\n",
    "median_data.rename(columns = lambda x: x.replace('Para', 'median'), inplace=True)"
   ]
  },
  {
   "cell_type": "code",
   "execution_count": null,
   "metadata": {},
   "outputs": [],
   "source": [
    "# sum값 요약\n",
    "sum_data = x_data_num.groupby(x_data_num['LOT_ID 2']).sum()\n",
    "sum_data.rename(columns = lambda x: x.replace('Para', 'sum'), inplace=True)"
   ]
  },
  {
   "cell_type": "markdown",
   "metadata": {},
   "source": [
    "#### 분석 데이터 Set 구축\n",
    "+ LOT_ID 기준으로 X, Y 데이터 병합\n",
    "+ 최종 데이터\n",
    "    + 관측치 개수: 35,164개\n",
    "    + 입력변수: 119개\n",
    "    + 출력변수: 1개(Response)"
   ]
  },
  {
   "cell_type": "code",
   "execution_count": null,
   "metadata": {},
   "outputs": [],
   "source": [
    "# LOT_ID별 요약 데이터 결합(수치형 데이터)\n",
    "full_data = y_data.merge(mean_data, on='LOT_ID 2').merge(max_data, on='LOT_ID 2').merge(min_data, on='LOT_ID 2').merge(var_data, on='LOT_ID 2').merge(median_data, on='LOT_ID 2').merge(sum_data, on='LOT_ID 2')"
   ]
  },
  {
   "cell_type": "code",
   "execution_count": null,
   "metadata": {},
   "outputs": [],
   "source": [
    "# 범주형 변수 데이터 결합\n",
    "full_data = full_data.merge(data_categorical, on='LOT_ID 2')"
   ]
  },
  {
   "cell_type": "code",
   "execution_count": null,
   "metadata": {},
   "outputs": [],
   "source": [
    "full_data.columns"
   ]
  },
  {
   "cell_type": "code",
   "execution_count": null,
   "metadata": {},
   "outputs": [],
   "source": [
    "full_data"
   ]
  },
  {
   "cell_type": "code",
   "execution_count": null,
   "metadata": {},
   "outputs": [],
   "source": [
    "# X & Y 데이터 SET 구축\n",
    "data_x = full_data.drop(['LOT_ID 2', 'WF_ID', 'Site', 'X axis', 'Y axis', 'Response'], axis=1)\n",
    "data_y = full_data['Response']"
   ]
  },
  {
   "cell_type": "code",
   "execution_count": null,
   "metadata": {},
   "outputs": [],
   "source": [
    "data_x"
   ]
  },
  {
   "cell_type": "code",
   "execution_count": null,
   "metadata": {},
   "outputs": [],
   "source": [
    "data_y"
   ]
  },
  {
   "cell_type": "markdown",
   "metadata": {},
   "source": [
    "## 4. 전체 데이터에 대한 모델링"
   ]
  },
  {
   "cell_type": "markdown",
   "metadata": {},
   "source": [
    "#### 모델 구축을 위한 Train, Test 데이터 분리"
   ]
  },
  {
   "cell_type": "code",
   "execution_count": null,
   "metadata": {},
   "outputs": [],
   "source": [
    "train_x, test_x, train_y, test_y = train_test_split(data_x, data_y, test_size=0.3, random_state=2020)"
   ]
  },
  {
   "cell_type": "markdown",
   "metadata": {},
   "source": [
    "#### 평균, 분산을 활용한 Column 별 정규화 진행"
   ]
  },
  {
   "cell_type": "code",
   "execution_count": null,
   "metadata": {},
   "outputs": [],
   "source": [
    "sc = StandardScaler()\n",
    "train_x_sc = sc.fit_transform(train_x)\n",
    "test_x_sc = sc.fit_transform(test_x)"
   ]
  },
  {
   "cell_type": "markdown",
   "metadata": {},
   "source": [
    "### 전체 data에 대한 Linear 모델 구축\n",
    "#### statsmodels 의 OLS를 사용하여 선형회귀분석 시행(OLS: Ordinary Least Squares)\n",
    "+ 모델 선언: model = sm.OLS(Y데이터, X데이터)\n",
    "+ 모델 학습: model_trained = model.fit()"
   ]
  },
  {
   "cell_type": "code",
   "execution_count": null,
   "metadata": {},
   "outputs": [],
   "source": [
    "model = sm.OLS(train_y, train_x_sc)"
   ]
  },
  {
   "cell_type": "code",
   "execution_count": null,
   "metadata": {},
   "outputs": [],
   "source": [
    "model_trained = model.fit()"
   ]
  },
  {
   "cell_type": "markdown",
   "metadata": {},
   "source": [
    "## 5. 전체 데이터에 대한 모델 결과 해석"
   ]
  },
  {
   "cell_type": "markdown",
   "metadata": {},
   "source": [
    "+ R-sqared (결정계수, coefficient of determination): 모형의 성능\n",
    "+ coef (회귀계수): X가 한단위 증가할 때 Y의 변화량\n",
    "+ P>[t] (p-value): 0.1(or 0.05)이하일 때 변수가 유의미"
   ]
  },
  {
   "cell_type": "code",
   "execution_count": null,
   "metadata": {},
   "outputs": [],
   "source": [
    "model_trained.summary()"
   ]
  },
  {
   "cell_type": "markdown",
   "metadata": {},
   "source": [
    "## 6. 실제값 vs 모델 예측값 비교"
   ]
  },
  {
   "cell_type": "markdown",
   "metadata": {},
   "source": [
    "#### Linear Model 예측값 출력"
   ]
  },
  {
   "cell_type": "code",
   "execution_count": null,
   "metadata": {},
   "outputs": [],
   "source": [
    "y_pred_tr = model_trained.predict(train_x_sc)\n",
    "y_pred_ts = model_trained.predict(test_x_sc)"
   ]
  },
  {
   "cell_type": "markdown",
   "metadata": {},
   "source": [
    "#### [TEST] 실제값과 모델 예측값에 대한 산점도"
   ]
  },
  {
   "cell_type": "code",
   "execution_count": null,
   "metadata": {},
   "outputs": [],
   "source": [
    "plt.figure(figsize=(8,8))\n",
    "plt.title('[Testing]True vs Predictied')\n",
    "plt.xlim(-0.75,0.75)\n",
    "plt.ylim(-0.75,0.75)\n",
    "plt.xlabel('true value')\n",
    "plt.ylabel('prediction')\n",
    "plt.scatter(test_y, y_pred_ts)\n",
    "plt.show()"
   ]
  },
  {
   "cell_type": "markdown",
   "metadata": {},
   "source": [
    "### 모델 예측값 평가를 위한 지표들(MSE, MAE, R-squared, MAPE)"
   ]
  },
  {
   "cell_type": "code",
   "execution_count": null,
   "metadata": {},
   "outputs": [],
   "source": [
    "from sklearn.metrics import mean_squared_error\n",
    "from sklearn.metrics import mean_absolute_error\n",
    "from sklearn.metrics import r2_score\n",
    "\n",
    "def mean_absolute_percentage_error(y_true, y_pred):\n",
    "    y_true, y_pred = np.array(y_true), np.array(y_pred)\n",
    "    return np.mean(np.abs((y_true-y_pred)/y_true))*100"
   ]
  },
  {
   "cell_type": "code",
   "execution_count": null,
   "metadata": {},
   "outputs": [],
   "source": [
    "print('Training MSE in Linear: {:.3f}' .format(mean_squared_error(train_y, y_pred_tr)))\n",
    "print('Testing MSE in Linear: {:.3f}' .format(mean_squared_error(test_y, y_pred_ts)))"
   ]
  },
  {
   "cell_type": "code",
   "execution_count": null,
   "metadata": {},
   "outputs": [],
   "source": [
    "print('Training MAE in Linear: {:.3f}' .format(mean_absolute_error(train_y, y_pred_tr)))\n",
    "print('Testing MAE in Linear: {:.3f}' .format(mean_absolute_error(test_y, y_pred_ts)))"
   ]
  },
  {
   "cell_type": "code",
   "execution_count": null,
   "metadata": {},
   "outputs": [],
   "source": [
    "print('Training R2 in Linear: {:.3f}' .format(r2_score(train_y, y_pred_tr)))\n",
    "print('Testing R2 in Linear: {:.3f}' .format(r2_score(test_y, y_pred_ts)))"
   ]
  },
  {
   "cell_type": "markdown",
   "metadata": {},
   "source": [
    "#### 실제값에 '0'이 존재하는 경우에는 MAPE를 계산할 수 없음"
   ]
  },
  {
   "cell_type": "code",
   "execution_count": null,
   "metadata": {},
   "outputs": [],
   "source": [
    "print('Training MAPE in Linear: {:.3f}' .format(mean_absolute_percentage_error(train_y, y_pred_tr)))\n",
    "print('Testing MAPE in Linear: {:.3f}' .format(mean_absolute_percentage_error(test_y, y_pred_ts)))"
   ]
  },
  {
   "cell_type": "markdown",
   "metadata": {},
   "source": [
    "## 7. Site(측정 위치 동일)별 선형 회귀 모델(Linear Regression) 구축"
   ]
  },
  {
   "cell_type": "markdown",
   "metadata": {},
   "source": [
    "### Site=1인 데이터로 분석"
   ]
  },
  {
   "cell_type": "markdown",
   "metadata": {},
   "source": [
    "#### 모델 구축을 위한 데이터 전처리"
   ]
  },
  {
   "cell_type": "code",
   "execution_count": null,
   "metadata": {},
   "outputs": [],
   "source": [
    "data_1 = full_data[full_data['Site'] == 1]"
   ]
  },
  {
   "cell_type": "code",
   "execution_count": null,
   "metadata": {},
   "outputs": [],
   "source": [
    "data_1 = data_1.drop(['LOT_ID 2', 'WF_ID', 'Site', 'X axis', 'Y axis'], axis=1)"
   ]
  },
  {
   "cell_type": "code",
   "execution_count": null,
   "metadata": {},
   "outputs": [],
   "source": [
    "data_1_X = data_1.drop(['Response'], axis=1)\n",
    "data_1_Y = data_1['Response']"
   ]
  },
  {
   "cell_type": "markdown",
   "metadata": {},
   "source": [
    "#### 선형 회귀 모델 구축"
   ]
  },
  {
   "cell_type": "code",
   "execution_count": null,
   "metadata": {},
   "outputs": [],
   "source": [
    "train_x, test_x, train_y, test_y = train_test_split(data_1_X, data_1_Y, test_size=0.3, random_state=2020)"
   ]
  },
  {
   "cell_type": "code",
   "execution_count": null,
   "metadata": {},
   "outputs": [],
   "source": [
    "sc = StandardScaler()\n",
    "train_x_sc = sc.fit_transform(train_x)\n",
    "test_x_sc = sc.fit_transform(test_x)"
   ]
  },
  {
   "cell_type": "code",
   "execution_count": null,
   "metadata": {},
   "outputs": [],
   "source": [
    "model = sm.OLS(train_y, train_x_sc)\n",
    "model_trained = model.fit()"
   ]
  },
  {
   "cell_type": "code",
   "execution_count": null,
   "metadata": {},
   "outputs": [],
   "source": [
    "y_pred_tr = model_trained.predict(train_x_sc)\n",
    "y_pred_ts = model_trained.predict(test_x_sc)"
   ]
  },
  {
   "cell_type": "markdown",
   "metadata": {},
   "source": [
    "#### 모델에 대한 성능 평가"
   ]
  },
  {
   "cell_type": "code",
   "execution_count": null,
   "metadata": {},
   "outputs": [],
   "source": [
    "print('Training MSE in Linear: {:.3f}' .format(mean_squared_error(train_y, y_pred_tr)))\n",
    "print('Testing MSE in Linear: {:.3f}' .format(mean_squared_error(test_y, y_pred_ts)))\n",
    "\n",
    "print('Training MAE in Linear: {:.3f}' .format(mean_absolute_error(train_y, y_pred_tr)))\n",
    "print('Testing MAE in Linear: {:.3f}' .format(mean_absolute_error(test_y, y_pred_ts)))\n",
    "\n",
    "print('Training R2 in Linear: {:.3f}' .format(r2_score(train_y, y_pred_tr)))\n",
    "print('Testing R2 in Linear: {:.3f}' .format(r2_score(test_y, y_pred_ts)))"
   ]
  },
  {
   "cell_type": "code",
   "execution_count": null,
   "metadata": {},
   "outputs": [],
   "source": [
    "plt.figure(figsize=(8,8))\n",
    "plt.title('[Testing]True vs Predictied')\n",
    "plt.xlim(-0.75,0.75)\n",
    "plt.ylim(-0.75,0.75)\n",
    "plt.xlabel('true value')\n",
    "plt.ylabel('prediction')\n",
    "plt.scatter(test_y, y_pred_ts)"
   ]
  },
  {
   "cell_type": "markdown",
   "metadata": {},
   "source": [
    "## Site=2일 때 결과 도출"
   ]
  },
  {
   "cell_type": "code",
   "execution_count": null,
   "metadata": {},
   "outputs": [],
   "source": [
    "data_2 = full_data[full_data['Site'] == 2]\n",
    "data_2 = data_2.drop(['LOT_ID 2', 'WF_ID', 'Site', 'X axis', 'Y axis'], axis=1)\n",
    "\n",
    "data_2_X = data_2.drop(['Response'], axis=1)\n",
    "data_2_Y = data_2['Response']\n",
    "\n",
    "train_x, test_x, train_y, test_y = train_test_split(data_2_X, data_2_Y, test_size=0.3, random_state=2020)\n",
    "\n",
    "sc = StandardScaler()\n",
    "train_x_sc = sc.fit_transform(train_x)\n",
    "test_x_sc = sc.fit_transform(test_x)\n",
    "\n",
    "model= sm.OLS(train_y, train_x_sc)\n",
    "model_trained = model.fit()\n",
    "\n",
    "y_pred_tr = model_trained.predict(train_x_sc)\n",
    "y_pred_ts = model_trained.predict(test_x_sc)\n",
    "\n",
    "print('Training MSE in Linear: {:.3f}' .format(mean_squared_error(train_y, y_pred_tr)))\n",
    "print('Testing MSE in Linear: {:.3f}' .format(mean_squared_error(test_y, y_pred_ts)))\n",
    "\n",
    "print('Training MAE in Linear: {:.3f}' .format(mean_absolute_error(train_y, y_pred_tr)))\n",
    "print('Testing MAE in Linear: {:.3f}' .format(mean_absolute_error(test_y, y_pred_ts)))\n",
    "\n",
    "print('Training R2 in Linear: {:.3f}' .format(r2_score(train_y, y_pred_tr)))\n",
    "print('Testing R2 in Linear: {:.3f}' .format(r2_score(test_y, y_pred_ts)))\n",
    "\n",
    "plt.figure(figsize=(8,8))\n",
    "plt.title('[Testing]True vs Predictied')\n",
    "plt.xlim(-0.75,0.75)\n",
    "plt.ylim(-0.75,0.75)\n",
    "plt.xlabel('true value')\n",
    "plt.ylabel('prediction')\n",
    "plt.scatter(test_y, y_pred_ts)"
   ]
  },
  {
   "cell_type": "markdown",
   "metadata": {},
   "source": [
    "## Site=3일 때 결과 도출"
   ]
  },
  {
   "cell_type": "code",
   "execution_count": null,
   "metadata": {},
   "outputs": [],
   "source": [
    "data_3 = full_data[full_data['Site'] == 3]\n",
    "data_3 = data_3.drop(['LOT_ID 2', 'WF_ID', 'Site', 'X axis', 'Y axis'], axis=1)\n",
    "\n",
    "data_3_X = data_3.drop(['Response'], axis=1)\n",
    "data_3_Y = data_3['Response']\n",
    "\n",
    "train_x, test_x, train_y, test_y = train_test_split(data_3_X, data_3_Y, test_size=0.3, random_state=2020)\n",
    "\n",
    "sc = StandardScaler()\n",
    "train_x_sc = sc.fit_transform(train_x)\n",
    "test_x_sc = sc.fit_transform(test_x)\n",
    "\n",
    "model = sm.OLS(train_y, train_x_sc)\n",
    "model_trained = model.fit()\n",
    "\n",
    "y_pred_tr = model_trained.predict(train_x_sc)\n",
    "y_pred_ts = model_trained.predict(test_x_sc)\n",
    "\n",
    "print('Training MSE in Linear: {:.3f}' .format(mean_squared_error(train_y, y_pred_tr)))\n",
    "print('Testing MSE in Linear: {:.3f}' .format(mean_squared_error(test_y, y_pred_ts)))\n",
    "\n",
    "print('Training MAE in Linear: {:.3f}' .format(mean_absolute_error(train_y, y_pred_tr)))\n",
    "print('Testing MAE in Linear: {:.3f}' .format(mean_absolute_error(test_y, y_pred_ts)))\n",
    "\n",
    "print('Training R2 in Linear: {:.3f}' .format(r2_score(train_y, y_pred_tr)))\n",
    "print('Testing R2 in Linear: {:.3f}' .format(r2_score(test_y, y_pred_ts)))\n",
    "\n",
    "plt.figure(figsize=(8,8))\n",
    "plt.title('[Testing]True vs Predictied')\n",
    "plt.xlim(-0.75,0.75)\n",
    "plt.ylim(-0.75,0.75)\n",
    "plt.xlabel('true value')\n",
    "plt.ylabel('prediction')\n",
    "plt.scatter(test_y, y_pred_ts)"
   ]
  },
  {
   "cell_type": "markdown",
   "metadata": {},
   "source": [
    "## Site=4일 때 결과 도출"
   ]
  },
  {
   "cell_type": "code",
   "execution_count": null,
   "metadata": {},
   "outputs": [],
   "source": [
    "data_4 = full_data[full_data['Site'] == 4]\n",
    "data_4 = data_4.drop(['LOT_ID 2', 'WF_ID', 'Site', 'X axis', 'Y axis'], axis=1)\n",
    "\n",
    "data_4_X = data_4.drop(['Response'], axis=1)\n",
    "data_4_Y = data_4['Response']\n",
    "\n",
    "train_x, test_x, train_y, test_y = train_test_split(data_4_X, data_4_Y, test_size=0.3, random_state=2020)\n",
    "\n",
    "sc = StandardScaler()\n",
    "train_x_sc = sc.fit_transform(train_x)\n",
    "test_x_sc = sc.fit_transform(test_x)\n",
    "\n",
    "model = sm.OLS(train_y, train_x_sc)\n",
    "model_trained = model.fit()\n",
    "\n",
    "y_pred_tr = model_trained.predict(train_x_sc)\n",
    "y_pred_ts = model_trained.predict(test_x_sc)\n",
    "\n",
    "print('Training MSE in Linear: {:.3f}' .format(mean_squared_error(train_y, y_pred_tr)))\n",
    "print('Testing MSE in Linear: {:.3f}' .format(mean_squared_error(test_y, y_pred_ts)))\n",
    "\n",
    "print('Training MAE in Linear: {:.3f}' .format(mean_absolute_error(train_y, y_pred_tr)))\n",
    "print('Testing MAE in Linear: {:.3f}' .format(mean_absolute_error(test_y, y_pred_ts)))\n",
    "\n",
    "print('Training R2 in Linear: {:.3f}' .format(r2_score(train_y, y_pred_tr)))\n",
    "print('Testing R2 in Linear: {:.3f}' .format(r2_score(test_y, y_pred_ts)))\n",
    "\n",
    "plt.figure(figsize=(8,8))\n",
    "plt.title('[Testing]True vs Predictied')\n",
    "plt.xlim(-0.75,0.75)\n",
    "plt.ylim(-0.75,0.75)\n",
    "plt.xlabel('true value')\n",
    "plt.ylabel('prediction')\n",
    "plt.scatter(test_y, y_pred_ts)"
   ]
  },
  {
   "cell_type": "markdown",
   "metadata": {},
   "source": [
    "## Site=5일 때 결과 도출"
   ]
  },
  {
   "cell_type": "code",
   "execution_count": null,
   "metadata": {},
   "outputs": [],
   "source": [
    "data_5 = full_data[full_data['Site'] == 5]\n",
    "data_5 = data_5.drop(['LOT_ID 2', 'WF_ID', 'Site', 'X axis', 'Y axis'], axis=1)\n",
    "\n",
    "data_5_X = data_5.drop(['Response'], axis=1)\n",
    "data_5_Y = data_5['Response']\n",
    "\n",
    "train_x, test_x, train_y, test_y = train_test_split(data_5_X, data_5_Y, test_size=0.3, random_state=2020)\n",
    "\n",
    "sc = StandardScaler()\n",
    "train_x_sc = sc.fit_transform(train_x)\n",
    "test_x_sc = sc.fit_transform(test_x)\n",
    "\n",
    "model = sm.OLS(train_y, train_x_sc)\n",
    "model_trained = model.fit()\n",
    "\n",
    "y_pred_tr = model_trained.predict(train_x_sc)\n",
    "y_pred_ts = model_trained.predict(test_x_sc)\n",
    "\n",
    "print('Training MSE in Linear: {:.3f}' .format(mean_squared_error(train_y, y_pred_tr)))\n",
    "print('Testing MSE in Linear: {:.3f}' .format(mean_squared_error(test_y, y_pred_ts)))\n",
    "\n",
    "print('Training MAE in Linear: {:.3f}' .format(mean_absolute_error(train_y, y_pred_tr)))\n",
    "print('Testing MAE in Linear: {:.3f}' .format(mean_absolute_error(test_y, y_pred_ts)))\n",
    "\n",
    "print('Training R2 in Linear: {:.3f}' .format(r2_score(train_y, y_pred_tr)))\n",
    "print('Testing R2 in Linear: {:.3f}' .format(r2_score(test_y, y_pred_ts)))\n",
    "\n",
    "plt.figure(figsize=(8,8))\n",
    "plt.title('[Testing]True vs Predictied')\n",
    "plt.xlim(-0.75,0.75)\n",
    "plt.ylim(-0.75,0.75)\n",
    "plt.xlabel('true value')\n",
    "plt.ylabel('prediction')\n",
    "plt.scatter(test_y, y_pred_ts)"
   ]
  },
  {
   "cell_type": "markdown",
   "metadata": {},
   "source": [
    "## Site=6일 때 결과 도출"
   ]
  },
  {
   "cell_type": "code",
   "execution_count": null,
   "metadata": {},
   "outputs": [],
   "source": [
    "data_6 = full_data[full_data['Site'] == 6]\n",
    "data_6 = data_6.drop(['LOT_ID 2', 'WF_ID', 'Site', 'X axis', 'Y axis'], axis=1)\n",
    "\n",
    "data_6_X = data_6.drop(['Response'], axis=1)\n",
    "data_6_Y = data_6['Response']\n",
    "\n",
    "train_x, test_x, train_y, test_y = train_test_split(data_6_X, data_6_Y, test_size=0.3, random_state=2020)\n",
    "\n",
    "sc = StandardScaler()\n",
    "train_x_sc = sc.fit_transform(train_x)\n",
    "test_x_sc = sc.fit_transform(test_x)\n",
    "\n",
    "model = sm.OLS(train_y, train_x_sc)\n",
    "model_trained = model.fit()\n",
    "\n",
    "y_pred_tr = model_trained.predict(train_x_sc)\n",
    "y_pred_ts = model_trained.predict(test_x_sc)\n",
    "\n",
    "print('Training MSE in Linear: {:.3f}' .format(mean_squared_error(train_y, y_pred_tr)))\n",
    "print('Testing MSE in Linear: {:.3f}' .format(mean_squared_error(test_y, y_pred_ts)))\n",
    "\n",
    "print('Training MAE in Linear: {:.3f}' .format(mean_absolute_error(train_y, y_pred_tr)))\n",
    "print('Testing MAE in Linear: {:.3f}' .format(mean_absolute_error(test_y, y_pred_ts)))\n",
    "\n",
    "print('Training R2 in Linear: {:.3f}' .format(r2_score(train_y, y_pred_tr)))\n",
    "print('Testing R2 in Linear: {:.3f}' .format(r2_score(test_y, y_pred_ts)))\n",
    "\n",
    "plt.figure(figsize=(8,8))\n",
    "plt.title('[Testing]True vs Predictied')\n",
    "plt.xlim(-0.75,0.75)\n",
    "plt.ylim(-0.75,0.75)\n",
    "plt.xlabel('true value')\n",
    "plt.ylabel('prediction')\n",
    "plt.scatter(test_y, y_pred_ts)"
   ]
  },
  {
   "cell_type": "markdown",
   "metadata": {},
   "source": [
    "## Site=7일 때 결과 도출"
   ]
  },
  {
   "cell_type": "code",
   "execution_count": null,
   "metadata": {},
   "outputs": [],
   "source": [
    "data_7 = full_data[full_data['Site'] == 7]\n",
    "data_7 = data_7.drop(['LOT_ID 2', 'WF_ID', 'Site', 'X axis', 'Y axis'], axis=1)\n",
    "\n",
    "data_7_X = data_7.drop(['Response'], axis=1)\n",
    "data_7_Y = data_7['Response']\n",
    "\n",
    "train_x, test_x, train_y, test_y = train_test_split(data_7_X, data_7_Y, test_size=0.3, random_state=2020)\n",
    "\n",
    "sc = StandardScaler()\n",
    "train_x_sc = sc.fit_transform(train_x)\n",
    "test_x_sc = sc.fit_transform(test_x)\n",
    "\n",
    "model = sm.OLS(train_y, train_x_sc)\n",
    "model_trained = model.fit()\n",
    "\n",
    "y_pred_tr = model_trained.predict(train_x_sc)\n",
    "y_pred_ts = model_trained.predict(test_x_sc)\n",
    "\n",
    "print('Training MSE in Linear: {:.3f}' .format(mean_squared_error(train_y, y_pred_tr)))\n",
    "print('Testing MSE in Linear: {:.3f}' .format(mean_squared_error(test_y, y_pred_ts)))\n",
    "\n",
    "print('Training MAE in Linear: {:.3f}' .format(mean_absolute_error(train_y, y_pred_tr)))\n",
    "print('Testing MAE in Linear: {:.3f}' .format(mean_absolute_error(test_y, y_pred_ts)))\n",
    "\n",
    "print('Training R2 in Linear: {:.3f}' .format(r2_score(train_y, y_pred_tr)))\n",
    "print('Testing R2 in Linear: {:.3f}' .format(r2_score(test_y, y_pred_ts)))\n",
    "\n",
    "plt.figure(figsize=(8,8))\n",
    "plt.title('[Testing]True vs Predictied')\n",
    "plt.xlim(-0.75,0.75)\n",
    "plt.ylim(-0.75,0.75)\n",
    "plt.xlabel('true value')\n",
    "plt.ylabel('prediction')\n",
    "plt.scatter(test_y, y_pred_ts)"
   ]
  },
  {
   "cell_type": "markdown",
   "metadata": {},
   "source": [
    "## Site=8일 때 결과 도출"
   ]
  },
  {
   "cell_type": "code",
   "execution_count": null,
   "metadata": {},
   "outputs": [],
   "source": [
    "data_8 = full_data[full_data['Site'] == 8]\n",
    "data_8 = data_8.drop(['LOT_ID 2', 'WF_ID', 'Site', 'X axis', 'Y axis'], axis=1)\n",
    "\n",
    "data_8_X = data_8.drop(['Response'], axis=1)\n",
    "data_8_Y = data_8['Response']\n",
    "\n",
    "train_x, test_x, train_y, test_y = train_test_split(data_8_X, data_8_Y, test_size=0.3, random_state=2020)\n",
    "\n",
    "sc = StandardScaler()\n",
    "train_x_sc = sc.fit_transform(train_x)\n",
    "test_x_sc = sc.fit_transform(test_x)\n",
    "\n",
    "model = sm.OLS(train_y, train_x_sc)\n",
    "model_trained = model.fit()\n",
    "\n",
    "y_pred_tr = model_trained.predict(train_x_sc)\n",
    "y_pred_ts = model_trained.predict(test_x_sc)\n",
    "\n",
    "print('Training MSE in Linear: {:.3f}' .format(mean_squared_error(train_y, y_pred_tr)))\n",
    "print('Testing MSE in Linear: {:.3f}' .format(mean_squared_error(test_y, y_pred_ts)))\n",
    "\n",
    "print('Training MAE in Linear: {:.3f}' .format(mean_absolute_error(train_y, y_pred_tr)))\n",
    "print('Testing MAE in Linear: {:.3f}' .format(mean_absolute_error(test_y, y_pred_ts)))\n",
    "\n",
    "print('Training R2 in Linear: {:.3f}' .format(r2_score(train_y, y_pred_tr)))\n",
    "print('Testing R2 in Linear: {:.3f}' .format(r2_score(test_y, y_pred_ts)))\n",
    "\n",
    "plt.figure(figsize=(8,8))\n",
    "plt.title('[Testing]True vs Predictied')\n",
    "plt.xlim(-0.75,0.75)\n",
    "plt.ylim(-0.75,0.75)\n",
    "plt.xlabel('true value')\n",
    "plt.ylabel('prediction')\n",
    "plt.scatter(test_y, y_pred_ts)"
   ]
  },
  {
   "cell_type": "markdown",
   "metadata": {},
   "source": [
    "## Site=9일 때 결과 도출"
   ]
  },
  {
   "cell_type": "code",
   "execution_count": null,
   "metadata": {},
   "outputs": [],
   "source": [
    "data_9 = full_data[full_data['Site'] == 9]\n",
    "data_9 = data_9.drop(['LOT_ID 2', 'WF_ID', 'Site', 'X axis', 'Y axis'], axis=1)\n",
    "\n",
    "data_9_X = data_9.drop(['Response'], axis=1)\n",
    "data_9_Y = data_9['Response']\n",
    "\n",
    "train_x, test_x, train_y, test_y = train_test_split(data_9_X, data_9_Y, test_size=0.3, random_state=2020)\n",
    "\n",
    "sc = StandardScaler()\n",
    "train_x_sc = sc.fit_transform(train_x)\n",
    "test_x_sc = sc.fit_transform(test_x)\n",
    "\n",
    "model = sm.OLS(train_y, train_x_sc)\n",
    "model_trained = model.fit()\n",
    "\n",
    "y_pred_tr = model_trained.predict(train_x_sc)\n",
    "y_pred_ts = model_trained.predict(test_x_sc)\n",
    "\n",
    "print('Training MSE in Linear: {:.3f}' .format(mean_squared_error(train_y, y_pred_tr)))\n",
    "print('Testing MSE in Linear: {:.3f}' .format(mean_squared_error(test_y, y_pred_ts)))\n",
    "\n",
    "print('Training MAE in Linear: {:.3f}' .format(mean_absolute_error(train_y, y_pred_tr)))\n",
    "print('Testing MAE in Linear: {:.3f}' .format(mean_absolute_error(test_y, y_pred_ts)))\n",
    "\n",
    "print('Training R2 in Linear: {:.3f}' .format(r2_score(train_y, y_pred_tr)))\n",
    "print('Testing R2 in Linear: {:.3f}' .format(r2_score(test_y, y_pred_ts)))\n",
    "\n",
    "plt.figure(figsize=(8,8))\n",
    "plt.title('[Testing]True vs Predictied')\n",
    "plt.xlim(-0.75,0.75)\n",
    "plt.ylim(-0.75,0.75)\n",
    "plt.xlabel('true value')\n",
    "plt.ylabel('prediction')\n",
    "plt.scatter(test_y, y_pred_ts)"
   ]
  },
  {
   "cell_type": "markdown",
   "metadata": {},
   "source": [
    "## Site=10일 때 결과 도출"
   ]
  },
  {
   "cell_type": "code",
   "execution_count": null,
   "metadata": {},
   "outputs": [],
   "source": [
    "data_10 = full_data[full_data['Site'] == 10]\n",
    "data_10 = data_10.drop(['LOT_ID 2', 'WF_ID', 'Site', 'X axis', 'Y axis'], axis=1)\n",
    "\n",
    "data_10_X = data_10.drop(['Response'], axis=1)\n",
    "data_10_Y = data_10['Response']\n",
    "\n",
    "train_x, test_x, train_y, test_y = train_test_split(data_10_X, data_10_Y, test_size=0.3, random_state=2020)\n",
    "\n",
    "sc = StandardScaler()\n",
    "train_x_sc = sc.fit_transform(train_x)\n",
    "test_x_sc = sc.fit_transform(test_x)\n",
    "\n",
    "model = sm.OLS(train_y, train_x_sc)\n",
    "model_trained = model.fit()\n",
    "\n",
    "y_pred_tr = model_trained.predict(train_x_sc)\n",
    "y_pred_ts = model_trained.predict(test_x_sc)\n",
    "\n",
    "print('Training MSE in Linear: {:.3f}' .format(mean_squared_error(train_y, y_pred_tr)))\n",
    "print('Testing MSE in Linear: {:.3f}' .format(mean_squared_error(test_y, y_pred_ts)))\n",
    "\n",
    "print('Training MAE in Linear: {:.3f}' .format(mean_absolute_error(train_y, y_pred_tr)))\n",
    "print('Testing MAE in Linear: {:.3f}' .format(mean_absolute_error(test_y, y_pred_ts)))\n",
    "\n",
    "print('Training R2 in Linear: {:.3f}' .format(r2_score(train_y, y_pred_tr)))\n",
    "print('Testing R2 in Linear: {:.3f}' .format(r2_score(test_y, y_pred_ts)))\n",
    "\n",
    "plt.figure(figsize=(8,8))\n",
    "plt.title('[Testing]True vs Predictied')\n",
    "plt.xlim(-0.75,0.75)\n",
    "plt.ylim(-0.75,0.75)\n",
    "plt.xlabel('true value')\n",
    "plt.ylabel('prediction')\n",
    "plt.scatter(test_y, y_pred_ts)"
   ]
  },
  {
   "cell_type": "markdown",
   "metadata": {},
   "source": [
    "## Site=11일 때 결과 도출"
   ]
  },
  {
   "cell_type": "code",
   "execution_count": null,
   "metadata": {},
   "outputs": [],
   "source": [
    "data_11 = full_data[full_data['Site'] == 11]\n",
    "data_11 = data_11.drop(['LOT_ID 2', 'WF_ID', 'Site', 'X axis', 'Y axis'], axis=1)\n",
    "\n",
    "data_11_X = data_11.drop(['Response'], axis=1)\n",
    "data_11_Y = data_11['Response']\n",
    "\n",
    "train_x, test_x, train_y, test_y = train_test_split(data_11_X, data_11_Y, test_size=0.3, random_state=2020)\n",
    "\n",
    "sc = StandardScaler()\n",
    "train_x_sc = sc.fit_transform(train_x)\n",
    "test_x_sc = sc.fit_transform(test_x)\n",
    "\n",
    "model = sm.OLS(train_y, train_x_sc)\n",
    "model_trained = model.fit()\n",
    "\n",
    "y_pred_tr = model_trained.predict(train_x_sc)\n",
    "y_pred_ts = model_trained.predict(test_x_sc)\n",
    "\n",
    "print('Training MSE in Linear: {:.3f}' .format(mean_squared_error(train_y, y_pred_tr)))\n",
    "print('Testing MSE in Linear: {:.3f}' .format(mean_squared_error(test_y, y_pred_ts)))\n",
    "\n",
    "print('Training MAE in Linear: {:.3f}' .format(mean_absolute_error(train_y, y_pred_tr)))\n",
    "print('Testing MAE in Linear: {:.3f}' .format(mean_absolute_error(test_y, y_pred_ts)))\n",
    "\n",
    "print('Training R2 in Linear: {:.3f}' .format(r2_score(train_y, y_pred_tr)))\n",
    "print('Testing R2 in Linear: {:.3f}' .format(r2_score(test_y, y_pred_ts)))\n",
    "\n",
    "plt.figure(figsize=(8,8))\n",
    "plt.title('[Testing]True vs Predictied')\n",
    "plt.xlim(-0.75,0.75)\n",
    "plt.ylim(-0.75,0.75)\n",
    "plt.xlabel('true value')\n",
    "plt.ylabel('prediction')\n",
    "plt.scatter(test_y, y_pred_ts)"
   ]
  },
  {
   "cell_type": "markdown",
   "metadata": {},
   "source": [
    "## Site=12일 때 결과 도출"
   ]
  },
  {
   "cell_type": "code",
   "execution_count": null,
   "metadata": {},
   "outputs": [],
   "source": [
    "data_12 = full_data[full_data['Site'] == 12]\n",
    "data_12 = data_12.drop(['LOT_ID 2', 'WF_ID', 'Site', 'X axis', 'Y axis'], axis=1)\n",
    "\n",
    "data_12_X = data_12.drop(['Response'], axis=1)\n",
    "data_12_Y = data_12['Response']\n",
    "\n",
    "train_x, test_x, train_y, test_y = train_test_split(data_12_X, data_12_Y, test_size=0.3, random_state=2020)\n",
    "\n",
    "sc = StandardScaler()\n",
    "train_x_sc = sc.fit_transform(train_x)\n",
    "test_x_sc = sc.fit_transform(test_x)\n",
    "\n",
    "model = sm.OLS(train_y, train_x_sc)\n",
    "model_trained = model.fit()\n",
    "\n",
    "y_pred_tr = model_trained.predict(train_x_sc)\n",
    "y_pred_ts = model_trained.predict(test_x_sc)\n",
    "\n",
    "print('Training MSE in Linear: {:.3f}' .format(mean_squared_error(train_y, y_pred_tr)))\n",
    "print('Testing MSE in Linear: {:.3f}' .format(mean_squared_error(test_y, y_pred_ts)))\n",
    "\n",
    "print('Training MAE in Linear: {:.3f}' .format(mean_absolute_error(train_y, y_pred_tr)))\n",
    "print('Testing MAE in Linear: {:.3f}' .format(mean_absolute_error(test_y, y_pred_ts)))\n",
    "\n",
    "print('Training R2 in Linear: {:.3f}' .format(r2_score(train_y, y_pred_tr)))\n",
    "print('Testing R2 in Linear: {:.3f}' .format(r2_score(test_y, y_pred_ts)))\n",
    "\n",
    "plt.figure(figsize=(8,8))\n",
    "plt.title('[Testing]True vs Predictied')\n",
    "plt.xlim(-0.75,0.75)\n",
    "plt.ylim(-0.75,0.75)\n",
    "plt.xlabel('true value')\n",
    "plt.ylabel('prediction')\n",
    "plt.scatter(test_y, y_pred_ts)"
   ]
  },
  {
   "cell_type": "markdown",
   "metadata": {},
   "source": [
    "## Site=13일 때 결과 도출"
   ]
  },
  {
   "cell_type": "code",
   "execution_count": null,
   "metadata": {},
   "outputs": [],
   "source": [
    "data_13 = full_data[full_data['Site'] == 13]\n",
    "data_13 = data_13.drop(['LOT_ID 2', 'WF_ID', 'Site', 'X axis', 'Y axis'], axis=1)\n",
    "\n",
    "data_13_X = data_13.drop(['Response'], axis=1)\n",
    "data_13_Y = data_13['Response']\n",
    "\n",
    "train_x, test_x, train_y, test_y = train_test_split(data_13_X, data_13_Y, test_size=0.3, random_state=2020)\n",
    "\n",
    "sc = StandardScaler()\n",
    "train_x_sc = sc.fit_transform(train_x)\n",
    "test_x_sc = sc.fit_transform(test_x)\n",
    "\n",
    "model = sm.OLS(train_y, train_x_sc)\n",
    "model_trained = model.fit()\n",
    "\n",
    "y_pred_tr = model_trained.predict(train_x_sc)\n",
    "y_pred_ts = model_trained.predict(test_x_sc)\n",
    "\n",
    "print('Training MSE in Linear: {:.3f}' .format(mean_squared_error(train_y, y_pred_tr)))\n",
    "print('Testing MSE in Linear: {:.3f}' .format(mean_squared_error(test_y, y_pred_ts)))\n",
    "\n",
    "print('Training MAE in Linear: {:.3f}' .format(mean_absolute_error(train_y, y_pred_tr)))\n",
    "print('Testing MAE in Linear: {:.3f}' .format(mean_absolute_error(test_y, y_pred_ts)))\n",
    "\n",
    "print('Training R2 in Linear: {:.3f}' .format(r2_score(train_y, y_pred_tr)))\n",
    "print('Testing R2 in Linear: {:.3f}' .format(r2_score(test_y, y_pred_ts)))\n",
    "\n",
    "plt.figure(figsize=(8,8))\n",
    "plt.title('[Testing]True vs Predictied')\n",
    "plt.xlim(-0.75,0.75)\n",
    "plt.ylim(-0.75,0.75)\n",
    "plt.xlabel('true value')\n",
    "plt.ylabel('prediction')\n",
    "plt.scatter(test_y, y_pred_ts)"
   ]
  }
 ],
 "metadata": {
  "kernelspec": {
   "display_name": "Python 3",
   "language": "python",
   "name": "python3"
  },
  "language_info": {
   "codemirror_mode": {
    "name": "ipython",
    "version": 3
   },
   "file_extension": ".py",
   "mimetype": "text/x-python",
   "name": "python",
   "nbconvert_exporter": "python",
   "pygments_lexer": "ipython3",
   "version": "3.7.6"
  }
 },
 "nbformat": 4,
 "nbformat_minor": 2
}
