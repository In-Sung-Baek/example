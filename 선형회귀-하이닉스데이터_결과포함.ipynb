{
 "cells": [
  {
   "cell_type": "markdown",
   "metadata": {},
   "source": [
    "# [선형회귀모델 실습: 하이닉스 데이터]"
   ]
  },
  {
   "cell_type": "markdown",
   "metadata": {},
   "source": [
    "## 1. 모듈 불러오기"
   ]
  },
  {
   "cell_type": "markdown",
   "metadata": {},
   "source": [
    "#### import 불러올 패키지명 as 그패키지를 파이썬에서 사용할 이름"
   ]
  },
  {
   "cell_type": "code",
   "execution_count": 1,
   "metadata": {},
   "outputs": [],
   "source": [
    "# 데이터 전처리 패키지\n",
    "import pandas as pd\n",
    "import numpy as np\n",
    "\n",
    "# 선형회귀 모델 구축 및 평가 패키지\n",
    "import statsmodels.api as sm\n",
    "from sklearn.model_selection import train_test_split\n",
    "from sklearn.preprocessing import StandardScaler\n",
    "from sklearn.metrics import mean_squared_error, r2_score\n",
    "\n",
    "# 데이터 시각화 패키지\n",
    "import matplotlib.pyplot as plt"
   ]
  },
  {
   "cell_type": "markdown",
   "metadata": {},
   "source": [
    "## 2. 데이터 불러오기: 하이닉스 FDC 데이터"
   ]
  },
  {
   "cell_type": "markdown",
   "metadata": {},
   "source": [
    "#### X 데이터(입력변수) 불러오기"
   ]
  },
  {
   "cell_type": "markdown",
   "metadata": {},
   "source": [
    "+ 관측치 개수: 508,206개\n",
    "+ 변수 개수: 24개\n",
    "    + TIME: 관측 시간\n",
    "    + EQP 2: 장비\n",
    "    + MODULE 2: 모듈\n",
    "    + LOT_ID 2: LOT ID\n",
    "    + TIME_PROCESS: LOT별 관측 번호\n",
    "    + Para 01~19: 관측값"
   ]
  },
  {
   "cell_type": "code",
   "execution_count": 2,
   "metadata": {},
   "outputs": [
    {
     "name": "stdout",
     "output_type": "stream",
     "text": [
      "Index(['TIME', 'EQP 2', 'MODULE 2', 'LOT_ID 2', 'TIME_PROCESS', 'Para 01',\n",
      "       'Para 02', 'Para 03', 'Para 04', 'Para 05', 'Para 06', 'Para 07',\n",
      "       'Para 08', 'Para 09', 'Para 10', 'Para 11', 'Para 12', 'Para 13',\n",
      "       'Para 14', 'Para 15', 'Para 16', 'Para 17', 'Para 18', 'Para 19'],\n",
      "      dtype='object')\n"
     ]
    }
   ],
   "source": [
    "x_data = pd.read_csv('C:/Users/Baek/Downloads/FD2_Analysis.L_XDATA.csv')\n",
    "print(x_data.columns)"
   ]
  },
  {
   "cell_type": "code",
   "execution_count": 3,
   "metadata": {},
   "outputs": [
    {
     "data": {
      "text/plain": [
       "(508206, 24)"
      ]
     },
     "execution_count": 3,
     "metadata": {},
     "output_type": "execute_result"
    }
   ],
   "source": [
    "x_data.shape"
   ]
  },
  {
   "cell_type": "code",
   "execution_count": 4,
   "metadata": {},
   "outputs": [
    {
     "data": {
      "text/html": [
       "<div>\n",
       "<style scoped>\n",
       "    .dataframe tbody tr th:only-of-type {\n",
       "        vertical-align: middle;\n",
       "    }\n",
       "\n",
       "    .dataframe tbody tr th {\n",
       "        vertical-align: top;\n",
       "    }\n",
       "\n",
       "    .dataframe thead th {\n",
       "        text-align: right;\n",
       "    }\n",
       "</style>\n",
       "<table border=\"1\" class=\"dataframe\">\n",
       "  <thead>\n",
       "    <tr style=\"text-align: right;\">\n",
       "      <th></th>\n",
       "      <th>TIME</th>\n",
       "      <th>EQP 2</th>\n",
       "      <th>MODULE 2</th>\n",
       "      <th>LOT_ID 2</th>\n",
       "      <th>TIME_PROCESS</th>\n",
       "      <th>Para 01</th>\n",
       "      <th>Para 02</th>\n",
       "      <th>Para 03</th>\n",
       "      <th>Para 04</th>\n",
       "      <th>Para 05</th>\n",
       "      <th>...</th>\n",
       "      <th>Para 10</th>\n",
       "      <th>Para 11</th>\n",
       "      <th>Para 12</th>\n",
       "      <th>Para 13</th>\n",
       "      <th>Para 14</th>\n",
       "      <th>Para 15</th>\n",
       "      <th>Para 16</th>\n",
       "      <th>Para 17</th>\n",
       "      <th>Para 18</th>\n",
       "      <th>Para 19</th>\n",
       "    </tr>\n",
       "  </thead>\n",
       "  <tbody>\n",
       "    <tr>\n",
       "      <th>0</th>\n",
       "      <td>14:17.9</td>\n",
       "      <td>C</td>\n",
       "      <td>D</td>\n",
       "      <td>ABCAC29</td>\n",
       "      <td>1</td>\n",
       "      <td>-0.139785</td>\n",
       "      <td>-0.753355</td>\n",
       "      <td>-1.024975</td>\n",
       "      <td>-1.505540</td>\n",
       "      <td>-0.237628</td>\n",
       "      <td>...</td>\n",
       "      <td>1.884452</td>\n",
       "      <td>1.482281</td>\n",
       "      <td>-1.932399</td>\n",
       "      <td>-0.380771</td>\n",
       "      <td>-0.380771</td>\n",
       "      <td>0.003895</td>\n",
       "      <td>0.743457</td>\n",
       "      <td>-1.029292</td>\n",
       "      <td>-2.853902</td>\n",
       "      <td>2.222534</td>\n",
       "    </tr>\n",
       "    <tr>\n",
       "      <th>1</th>\n",
       "      <td>14:18.9</td>\n",
       "      <td>C</td>\n",
       "      <td>D</td>\n",
       "      <td>ABCAC29</td>\n",
       "      <td>2</td>\n",
       "      <td>-0.139785</td>\n",
       "      <td>-0.753355</td>\n",
       "      <td>-1.024975</td>\n",
       "      <td>-1.408907</td>\n",
       "      <td>-0.219155</td>\n",
       "      <td>...</td>\n",
       "      <td>1.884452</td>\n",
       "      <td>1.482281</td>\n",
       "      <td>-1.932399</td>\n",
       "      <td>-0.380771</td>\n",
       "      <td>-0.380771</td>\n",
       "      <td>0.003895</td>\n",
       "      <td>0.743457</td>\n",
       "      <td>-1.029292</td>\n",
       "      <td>-2.853902</td>\n",
       "      <td>2.222534</td>\n",
       "    </tr>\n",
       "    <tr>\n",
       "      <th>2</th>\n",
       "      <td>14:19.9</td>\n",
       "      <td>C</td>\n",
       "      <td>D</td>\n",
       "      <td>ABCAC29</td>\n",
       "      <td>3</td>\n",
       "      <td>-0.139785</td>\n",
       "      <td>0.173656</td>\n",
       "      <td>-1.024975</td>\n",
       "      <td>-1.289265</td>\n",
       "      <td>-0.237628</td>\n",
       "      <td>...</td>\n",
       "      <td>2.137315</td>\n",
       "      <td>1.482281</td>\n",
       "      <td>-1.932399</td>\n",
       "      <td>-0.380771</td>\n",
       "      <td>-0.380771</td>\n",
       "      <td>0.003895</td>\n",
       "      <td>0.648641</td>\n",
       "      <td>-1.029292</td>\n",
       "      <td>-2.853902</td>\n",
       "      <td>2.335617</td>\n",
       "    </tr>\n",
       "    <tr>\n",
       "      <th>3</th>\n",
       "      <td>14:20.9</td>\n",
       "      <td>C</td>\n",
       "      <td>D</td>\n",
       "      <td>ABCAC29</td>\n",
       "      <td>4</td>\n",
       "      <td>-0.139785</td>\n",
       "      <td>0.173656</td>\n",
       "      <td>-1.024975</td>\n",
       "      <td>-1.169624</td>\n",
       "      <td>-0.219155</td>\n",
       "      <td>...</td>\n",
       "      <td>1.884452</td>\n",
       "      <td>1.482281</td>\n",
       "      <td>-1.932399</td>\n",
       "      <td>-0.380771</td>\n",
       "      <td>-0.380771</td>\n",
       "      <td>0.003895</td>\n",
       "      <td>0.553824</td>\n",
       "      <td>-1.006165</td>\n",
       "      <td>-2.853902</td>\n",
       "      <td>2.222534</td>\n",
       "    </tr>\n",
       "    <tr>\n",
       "      <th>4</th>\n",
       "      <td>14:21.9</td>\n",
       "      <td>C</td>\n",
       "      <td>D</td>\n",
       "      <td>ABCAC29</td>\n",
       "      <td>5</td>\n",
       "      <td>-0.139785</td>\n",
       "      <td>0.173656</td>\n",
       "      <td>-1.024975</td>\n",
       "      <td>-0.999365</td>\n",
       "      <td>-0.237628</td>\n",
       "      <td>...</td>\n",
       "      <td>2.137315</td>\n",
       "      <td>1.482281</td>\n",
       "      <td>-1.932399</td>\n",
       "      <td>-0.380771</td>\n",
       "      <td>-0.380771</td>\n",
       "      <td>0.003895</td>\n",
       "      <td>0.364192</td>\n",
       "      <td>-1.006165</td>\n",
       "      <td>-2.853902</td>\n",
       "      <td>2.222534</td>\n",
       "    </tr>\n",
       "    <tr>\n",
       "      <th>...</th>\n",
       "      <td>...</td>\n",
       "      <td>...</td>\n",
       "      <td>...</td>\n",
       "      <td>...</td>\n",
       "      <td>...</td>\n",
       "      <td>...</td>\n",
       "      <td>...</td>\n",
       "      <td>...</td>\n",
       "      <td>...</td>\n",
       "      <td>...</td>\n",
       "      <td>...</td>\n",
       "      <td>...</td>\n",
       "      <td>...</td>\n",
       "      <td>...</td>\n",
       "      <td>...</td>\n",
       "      <td>...</td>\n",
       "      <td>...</td>\n",
       "      <td>...</td>\n",
       "      <td>...</td>\n",
       "      <td>...</td>\n",
       "      <td>...</td>\n",
       "    </tr>\n",
       "    <tr>\n",
       "      <th>508201</th>\n",
       "      <td>21:39.3</td>\n",
       "      <td>B</td>\n",
       "      <td>C</td>\n",
       "      <td>ABCAM73</td>\n",
       "      <td>596</td>\n",
       "      <td>0.211300</td>\n",
       "      <td>0.173656</td>\n",
       "      <td>-1.024975</td>\n",
       "      <td>-0.309126</td>\n",
       "      <td>0.076406</td>\n",
       "      <td>...</td>\n",
       "      <td>0.114413</td>\n",
       "      <td>-1.159996</td>\n",
       "      <td>0.187298</td>\n",
       "      <td>0.480142</td>\n",
       "      <td>0.480142</td>\n",
       "      <td>0.402657</td>\n",
       "      <td>-0.015074</td>\n",
       "      <td>1.283399</td>\n",
       "      <td>0.503272</td>\n",
       "      <td>-1.056851</td>\n",
       "    </tr>\n",
       "    <tr>\n",
       "      <th>508202</th>\n",
       "      <td>21:40.2</td>\n",
       "      <td>B</td>\n",
       "      <td>C</td>\n",
       "      <td>ABCAM73</td>\n",
       "      <td>597</td>\n",
       "      <td>0.211300</td>\n",
       "      <td>0.173656</td>\n",
       "      <td>-1.024975</td>\n",
       "      <td>-0.318330</td>\n",
       "      <td>0.076406</td>\n",
       "      <td>...</td>\n",
       "      <td>0.114413</td>\n",
       "      <td>-0.956744</td>\n",
       "      <td>0.187298</td>\n",
       "      <td>0.480142</td>\n",
       "      <td>0.480142</td>\n",
       "      <td>0.402657</td>\n",
       "      <td>-0.015074</td>\n",
       "      <td>1.283399</td>\n",
       "      <td>0.503272</td>\n",
       "      <td>-1.056851</td>\n",
       "    </tr>\n",
       "    <tr>\n",
       "      <th>508203</th>\n",
       "      <td>21:41.4</td>\n",
       "      <td>B</td>\n",
       "      <td>C</td>\n",
       "      <td>ABCAM73</td>\n",
       "      <td>598</td>\n",
       "      <td>0.211300</td>\n",
       "      <td>0.173656</td>\n",
       "      <td>-1.024975</td>\n",
       "      <td>-0.322931</td>\n",
       "      <td>0.076406</td>\n",
       "      <td>...</td>\n",
       "      <td>0.367276</td>\n",
       "      <td>-0.956744</td>\n",
       "      <td>0.187298</td>\n",
       "      <td>0.480142</td>\n",
       "      <td>0.480142</td>\n",
       "      <td>0.402657</td>\n",
       "      <td>-0.015074</td>\n",
       "      <td>1.283399</td>\n",
       "      <td>0.503272</td>\n",
       "      <td>-1.056851</td>\n",
       "    </tr>\n",
       "    <tr>\n",
       "      <th>508204</th>\n",
       "      <td>21:42.4</td>\n",
       "      <td>B</td>\n",
       "      <td>C</td>\n",
       "      <td>ABCAM73</td>\n",
       "      <td>599</td>\n",
       "      <td>0.035757</td>\n",
       "      <td>0.173656</td>\n",
       "      <td>1.102850</td>\n",
       "      <td>-0.327533</td>\n",
       "      <td>0.057933</td>\n",
       "      <td>...</td>\n",
       "      <td>0.367276</td>\n",
       "      <td>-0.956744</td>\n",
       "      <td>0.187298</td>\n",
       "      <td>0.480142</td>\n",
       "      <td>0.480142</td>\n",
       "      <td>0.402657</td>\n",
       "      <td>-0.015074</td>\n",
       "      <td>1.283399</td>\n",
       "      <td>0.503272</td>\n",
       "      <td>-1.056851</td>\n",
       "    </tr>\n",
       "    <tr>\n",
       "      <th>508205</th>\n",
       "      <td>21:43.4</td>\n",
       "      <td>B</td>\n",
       "      <td>C</td>\n",
       "      <td>ABCAM73</td>\n",
       "      <td>600</td>\n",
       "      <td>0.035757</td>\n",
       "      <td>0.173656</td>\n",
       "      <td>1.204385</td>\n",
       "      <td>-0.327533</td>\n",
       "      <td>0.039461</td>\n",
       "      <td>...</td>\n",
       "      <td>0.114413</td>\n",
       "      <td>-1.973004</td>\n",
       "      <td>0.187298</td>\n",
       "      <td>0.480142</td>\n",
       "      <td>0.480142</td>\n",
       "      <td>0.402657</td>\n",
       "      <td>-0.015074</td>\n",
       "      <td>1.283399</td>\n",
       "      <td>0.503272</td>\n",
       "      <td>-1.056851</td>\n",
       "    </tr>\n",
       "  </tbody>\n",
       "</table>\n",
       "<p>508206 rows × 24 columns</p>\n",
       "</div>"
      ],
      "text/plain": [
       "           TIME EQP 2 MODULE 2 LOT_ID 2  TIME_PROCESS   Para 01   Para 02  \\\n",
       "0       14:17.9     C        D  ABCAC29             1 -0.139785 -0.753355   \n",
       "1       14:18.9     C        D  ABCAC29             2 -0.139785 -0.753355   \n",
       "2       14:19.9     C        D  ABCAC29             3 -0.139785  0.173656   \n",
       "3       14:20.9     C        D  ABCAC29             4 -0.139785  0.173656   \n",
       "4       14:21.9     C        D  ABCAC29             5 -0.139785  0.173656   \n",
       "...         ...   ...      ...      ...           ...       ...       ...   \n",
       "508201  21:39.3     B        C  ABCAM73           596  0.211300  0.173656   \n",
       "508202  21:40.2     B        C  ABCAM73           597  0.211300  0.173656   \n",
       "508203  21:41.4     B        C  ABCAM73           598  0.211300  0.173656   \n",
       "508204  21:42.4     B        C  ABCAM73           599  0.035757  0.173656   \n",
       "508205  21:43.4     B        C  ABCAM73           600  0.035757  0.173656   \n",
       "\n",
       "         Para 03   Para 04   Para 05  ...   Para 10   Para 11   Para 12  \\\n",
       "0      -1.024975 -1.505540 -0.237628  ...  1.884452  1.482281 -1.932399   \n",
       "1      -1.024975 -1.408907 -0.219155  ...  1.884452  1.482281 -1.932399   \n",
       "2      -1.024975 -1.289265 -0.237628  ...  2.137315  1.482281 -1.932399   \n",
       "3      -1.024975 -1.169624 -0.219155  ...  1.884452  1.482281 -1.932399   \n",
       "4      -1.024975 -0.999365 -0.237628  ...  2.137315  1.482281 -1.932399   \n",
       "...          ...       ...       ...  ...       ...       ...       ...   \n",
       "508201 -1.024975 -0.309126  0.076406  ...  0.114413 -1.159996  0.187298   \n",
       "508202 -1.024975 -0.318330  0.076406  ...  0.114413 -0.956744  0.187298   \n",
       "508203 -1.024975 -0.322931  0.076406  ...  0.367276 -0.956744  0.187298   \n",
       "508204  1.102850 -0.327533  0.057933  ...  0.367276 -0.956744  0.187298   \n",
       "508205  1.204385 -0.327533  0.039461  ...  0.114413 -1.973004  0.187298   \n",
       "\n",
       "         Para 13   Para 14   Para 15   Para 16   Para 17   Para 18   Para 19  \n",
       "0      -0.380771 -0.380771  0.003895  0.743457 -1.029292 -2.853902  2.222534  \n",
       "1      -0.380771 -0.380771  0.003895  0.743457 -1.029292 -2.853902  2.222534  \n",
       "2      -0.380771 -0.380771  0.003895  0.648641 -1.029292 -2.853902  2.335617  \n",
       "3      -0.380771 -0.380771  0.003895  0.553824 -1.006165 -2.853902  2.222534  \n",
       "4      -0.380771 -0.380771  0.003895  0.364192 -1.006165 -2.853902  2.222534  \n",
       "...          ...       ...       ...       ...       ...       ...       ...  \n",
       "508201  0.480142  0.480142  0.402657 -0.015074  1.283399  0.503272 -1.056851  \n",
       "508202  0.480142  0.480142  0.402657 -0.015074  1.283399  0.503272 -1.056851  \n",
       "508203  0.480142  0.480142  0.402657 -0.015074  1.283399  0.503272 -1.056851  \n",
       "508204  0.480142  0.480142  0.402657 -0.015074  1.283399  0.503272 -1.056851  \n",
       "508205  0.480142  0.480142  0.402657 -0.015074  1.283399  0.503272 -1.056851  \n",
       "\n",
       "[508206 rows x 24 columns]"
      ]
     },
     "execution_count": 4,
     "metadata": {},
     "output_type": "execute_result"
    }
   ],
   "source": [
    "x_data"
   ]
  },
  {
   "cell_type": "markdown",
   "metadata": {},
   "source": [
    "#### Y data(출력변수) 불러오기"
   ]
  },
  {
   "cell_type": "markdown",
   "metadata": {},
   "source": [
    "+ 관측치 개수: 35,178개\n",
    "+ 변수 개수: 6개\n",
    "    + LOT_ID 2: LOT ID\n",
    "    + WF_ID: Wafer ID\n",
    "    + Site: Wafer 내 관측 위치\n",
    "    + X axis: Wafer 내 관측 X 좌표\n",
    "    + Y axis: Wafer 내 관측 Y 좌표\n",
    "    + Response: 반응률(예측하고자 하는 반응 변수)"
   ]
  },
  {
   "cell_type": "code",
   "execution_count": 5,
   "metadata": {},
   "outputs": [
    {
     "name": "stdout",
     "output_type": "stream",
     "text": [
      "Index(['LOT_ID 2', 'WF_ID', 'Site', 'X axis', 'Y axis', 'Response'], dtype='object')\n"
     ]
    }
   ],
   "source": [
    "y_data = pd.read_csv('C:/Users/Baek/Downloads/FD2_Analysis.L_YDATA.csv')\n",
    "print(y_data.columns)"
   ]
  },
  {
   "cell_type": "code",
   "execution_count": 6,
   "metadata": {},
   "outputs": [
    {
     "data": {
      "text/plain": [
       "(35178, 6)"
      ]
     },
     "execution_count": 6,
     "metadata": {},
     "output_type": "execute_result"
    }
   ],
   "source": [
    "y_data.shape"
   ]
  },
  {
   "cell_type": "code",
   "execution_count": 7,
   "metadata": {},
   "outputs": [
    {
     "data": {
      "text/html": [
       "<div>\n",
       "<style scoped>\n",
       "    .dataframe tbody tr th:only-of-type {\n",
       "        vertical-align: middle;\n",
       "    }\n",
       "\n",
       "    .dataframe tbody tr th {\n",
       "        vertical-align: top;\n",
       "    }\n",
       "\n",
       "    .dataframe thead th {\n",
       "        text-align: right;\n",
       "    }\n",
       "</style>\n",
       "<table border=\"1\" class=\"dataframe\">\n",
       "  <thead>\n",
       "    <tr style=\"text-align: right;\">\n",
       "      <th></th>\n",
       "      <th>LOT_ID 2</th>\n",
       "      <th>WF_ID</th>\n",
       "      <th>Site</th>\n",
       "      <th>X axis</th>\n",
       "      <th>Y axis</th>\n",
       "      <th>Response</th>\n",
       "    </tr>\n",
       "  </thead>\n",
       "  <tbody>\n",
       "    <tr>\n",
       "      <th>0</th>\n",
       "      <td>ABCA764</td>\n",
       "      <td>3</td>\n",
       "      <td>7</td>\n",
       "      <td>-55</td>\n",
       "      <td>48</td>\n",
       "      <td>-0.198842</td>\n",
       "    </tr>\n",
       "    <tr>\n",
       "      <th>1</th>\n",
       "      <td>ABCA764</td>\n",
       "      <td>3</td>\n",
       "      <td>8</td>\n",
       "      <td>-55</td>\n",
       "      <td>-17</td>\n",
       "      <td>-0.006703</td>\n",
       "    </tr>\n",
       "    <tr>\n",
       "      <th>2</th>\n",
       "      <td>ABCA764</td>\n",
       "      <td>3</td>\n",
       "      <td>11</td>\n",
       "      <td>-100</td>\n",
       "      <td>81</td>\n",
       "      <td>-0.115168</td>\n",
       "    </tr>\n",
       "    <tr>\n",
       "      <th>3</th>\n",
       "      <td>ABCA764</td>\n",
       "      <td>3</td>\n",
       "      <td>3</td>\n",
       "      <td>-10</td>\n",
       "      <td>15</td>\n",
       "      <td>-0.000505</td>\n",
       "    </tr>\n",
       "    <tr>\n",
       "      <th>4</th>\n",
       "      <td>ABCA764</td>\n",
       "      <td>3</td>\n",
       "      <td>1</td>\n",
       "      <td>-122</td>\n",
       "      <td>15</td>\n",
       "      <td>0.442652</td>\n",
       "    </tr>\n",
       "    <tr>\n",
       "      <th>...</th>\n",
       "      <td>...</td>\n",
       "      <td>...</td>\n",
       "      <td>...</td>\n",
       "      <td>...</td>\n",
       "      <td>...</td>\n",
       "      <td>...</td>\n",
       "    </tr>\n",
       "    <tr>\n",
       "      <th>35173</th>\n",
       "      <td>ABC9321</td>\n",
       "      <td>3</td>\n",
       "      <td>6</td>\n",
       "      <td>35</td>\n",
       "      <td>48</td>\n",
       "      <td>-0.394079</td>\n",
       "    </tr>\n",
       "    <tr>\n",
       "      <th>35174</th>\n",
       "      <td>ABC9321</td>\n",
       "      <td>3</td>\n",
       "      <td>13</td>\n",
       "      <td>80</td>\n",
       "      <td>-50</td>\n",
       "      <td>-0.394079</td>\n",
       "    </tr>\n",
       "    <tr>\n",
       "      <th>35175</th>\n",
       "      <td>ABC9321</td>\n",
       "      <td>3</td>\n",
       "      <td>9</td>\n",
       "      <td>35</td>\n",
       "      <td>-17</td>\n",
       "      <td>-0.434366</td>\n",
       "    </tr>\n",
       "    <tr>\n",
       "      <th>35176</th>\n",
       "      <td>ABC9321</td>\n",
       "      <td>3</td>\n",
       "      <td>10</td>\n",
       "      <td>80</td>\n",
       "      <td>81</td>\n",
       "      <td>-0.431267</td>\n",
       "    </tr>\n",
       "    <tr>\n",
       "      <th>35177</th>\n",
       "      <td>ABC9321</td>\n",
       "      <td>3</td>\n",
       "      <td>4</td>\n",
       "      <td>-10</td>\n",
       "      <td>113</td>\n",
       "      <td>-0.434366</td>\n",
       "    </tr>\n",
       "  </tbody>\n",
       "</table>\n",
       "<p>35178 rows × 6 columns</p>\n",
       "</div>"
      ],
      "text/plain": [
       "      LOT_ID 2  WF_ID  Site  X axis  Y axis  Response\n",
       "0      ABCA764      3     7     -55      48 -0.198842\n",
       "1      ABCA764      3     8     -55     -17 -0.006703\n",
       "2      ABCA764      3    11    -100      81 -0.115168\n",
       "3      ABCA764      3     3     -10      15 -0.000505\n",
       "4      ABCA764      3     1    -122      15  0.442652\n",
       "...        ...    ...   ...     ...     ...       ...\n",
       "35173  ABC9321      3     6      35      48 -0.394079\n",
       "35174  ABC9321      3    13      80     -50 -0.394079\n",
       "35175  ABC9321      3     9      35     -17 -0.434366\n",
       "35176  ABC9321      3    10      80      81 -0.431267\n",
       "35177  ABC9321      3     4     -10     113 -0.434366\n",
       "\n",
       "[35178 rows x 6 columns]"
      ]
     },
     "execution_count": 7,
     "metadata": {},
     "output_type": "execute_result"
    }
   ],
   "source": [
    "y_data"
   ]
  },
  {
   "cell_type": "markdown",
   "metadata": {},
   "source": [
    "## 3. 데이터 전처리"
   ]
  },
  {
   "cell_type": "markdown",
   "metadata": {},
   "source": [
    "#### 데이터 내에 결측치 파악"
   ]
  },
  {
   "cell_type": "code",
   "execution_count": 8,
   "metadata": {},
   "outputs": [
    {
     "data": {
      "text/plain": [
       "TIME            0\n",
       "EQP 2           0\n",
       "MODULE 2        0\n",
       "LOT_ID 2        0\n",
       "TIME_PROCESS    0\n",
       "Para 01         0\n",
       "Para 02         0\n",
       "Para 03         0\n",
       "Para 04         0\n",
       "Para 05         0\n",
       "Para 06         0\n",
       "Para 07         0\n",
       "Para 08         0\n",
       "Para 09         0\n",
       "Para 10         0\n",
       "Para 11         0\n",
       "Para 12         0\n",
       "Para 13         0\n",
       "Para 14         0\n",
       "Para 15         0\n",
       "Para 16         0\n",
       "Para 17         0\n",
       "Para 18         0\n",
       "Para 19         0\n",
       "dtype: int64"
      ]
     },
     "execution_count": 8,
     "metadata": {},
     "output_type": "execute_result"
    }
   ],
   "source": [
    "x_data.isnull().sum()"
   ]
  },
  {
   "cell_type": "code",
   "execution_count": 9,
   "metadata": {},
   "outputs": [
    {
     "data": {
      "text/plain": [
       "LOT_ID 2     0\n",
       "WF_ID        0\n",
       "Site         0\n",
       "X axis       0\n",
       "Y axis       0\n",
       "Response    14\n",
       "dtype: int64"
      ]
     },
     "execution_count": 9,
     "metadata": {},
     "output_type": "execute_result"
    }
   ],
   "source": [
    "y_data.isnull().sum()"
   ]
  },
  {
   "cell_type": "markdown",
   "metadata": {},
   "source": [
    "#### 결측치가 존재하는 관측치 제거"
   ]
  },
  {
   "cell_type": "code",
   "execution_count": 10,
   "metadata": {},
   "outputs": [],
   "source": [
    "y_data = y_data.dropna()"
   ]
  },
  {
   "cell_type": "code",
   "execution_count": 11,
   "metadata": {},
   "outputs": [
    {
     "data": {
      "text/plain": [
       "(35164, 6)"
      ]
     },
     "execution_count": 11,
     "metadata": {},
     "output_type": "execute_result"
    }
   ],
   "source": [
    "y_data.shape"
   ]
  },
  {
   "cell_type": "markdown",
   "metadata": {},
   "source": [
    "#### 범주형 변수, 수치형 변수 분리"
   ]
  },
  {
   "cell_type": "markdown",
   "metadata": {},
   "source": [
    "+ X 데이터(입력 변수): 24개\n",
    "+ Key 변수: 1개\n",
    "    + LOT_ID 2\n",
    "+ 범주형 변수: 2개\n",
    "    + EQP 2, MODULE 2\n",
    "+ 수치형 변수: 19개\n",
    "    + Para01~19\n",
    "+ 사용하지 않는 변수: 2개\n",
    "    + TIME, TIME_PROCESS"
   ]
  },
  {
   "cell_type": "code",
   "execution_count": 12,
   "metadata": {},
   "outputs": [],
   "source": [
    "# 범주형 변수 & Key 변수 분리\n",
    "data_categorical = x_data[['EQP 2', 'MODULE 2', 'LOT_ID 2']]"
   ]
  },
  {
   "cell_type": "code",
   "execution_count": 13,
   "metadata": {},
   "outputs": [],
   "source": [
    "# 범주형 변수 중복값 제거\n",
    "data_categorical = data_categorical.drop_duplicates()\n",
    "data_categorical = data_categorical.reset_index(drop=True)"
   ]
  },
  {
   "cell_type": "code",
   "execution_count": 14,
   "metadata": {},
   "outputs": [],
   "source": [
    "# Key 변수 분리\n",
    "lot_id = data_categorical['LOT_ID 2']"
   ]
  },
  {
   "cell_type": "code",
   "execution_count": 15,
   "metadata": {},
   "outputs": [],
   "source": [
    "# 범주형 변수 분리\n",
    "data_categorical = data_categorical.drop(['LOT_ID 2'], axis=1)"
   ]
  },
  {
   "cell_type": "code",
   "execution_count": 16,
   "metadata": {},
   "outputs": [],
   "source": [
    "# 범주형 변수 one-hot-encoding\n",
    "data_categorical = pd.get_dummies(data_categorical, drop_first=True)"
   ]
  },
  {
   "cell_type": "code",
   "execution_count": 17,
   "metadata": {},
   "outputs": [],
   "source": [
    "# 범주형 변수, Key 변수 결합\n",
    "data_categorical =  pd.concat([lot_id, data_categorical], axis=1)"
   ]
  },
  {
   "cell_type": "code",
   "execution_count": 18,
   "metadata": {},
   "outputs": [
    {
     "data": {
      "text/html": [
       "<div>\n",
       "<style scoped>\n",
       "    .dataframe tbody tr th:only-of-type {\n",
       "        vertical-align: middle;\n",
       "    }\n",
       "\n",
       "    .dataframe tbody tr th {\n",
       "        vertical-align: top;\n",
       "    }\n",
       "\n",
       "    .dataframe thead th {\n",
       "        text-align: right;\n",
       "    }\n",
       "</style>\n",
       "<table border=\"1\" class=\"dataframe\">\n",
       "  <thead>\n",
       "    <tr style=\"text-align: right;\">\n",
       "      <th></th>\n",
       "      <th>LOT_ID 2</th>\n",
       "      <th>EQP 2_B</th>\n",
       "      <th>EQP 2_C</th>\n",
       "      <th>MODULE 2_B</th>\n",
       "      <th>MODULE 2_C</th>\n",
       "      <th>MODULE 2_D</th>\n",
       "    </tr>\n",
       "  </thead>\n",
       "  <tbody>\n",
       "    <tr>\n",
       "      <th>0</th>\n",
       "      <td>ABCAC29</td>\n",
       "      <td>0</td>\n",
       "      <td>1</td>\n",
       "      <td>0</td>\n",
       "      <td>0</td>\n",
       "      <td>1</td>\n",
       "    </tr>\n",
       "    <tr>\n",
       "      <th>1</th>\n",
       "      <td>ABCAC78</td>\n",
       "      <td>0</td>\n",
       "      <td>1</td>\n",
       "      <td>0</td>\n",
       "      <td>0</td>\n",
       "      <td>1</td>\n",
       "    </tr>\n",
       "    <tr>\n",
       "      <th>2</th>\n",
       "      <td>ABCAD27</td>\n",
       "      <td>0</td>\n",
       "      <td>1</td>\n",
       "      <td>0</td>\n",
       "      <td>0</td>\n",
       "      <td>1</td>\n",
       "    </tr>\n",
       "    <tr>\n",
       "      <th>3</th>\n",
       "      <td>ABCA949</td>\n",
       "      <td>0</td>\n",
       "      <td>1</td>\n",
       "      <td>0</td>\n",
       "      <td>0</td>\n",
       "      <td>1</td>\n",
       "    </tr>\n",
       "    <tr>\n",
       "      <th>4</th>\n",
       "      <td>ABCAA39</td>\n",
       "      <td>0</td>\n",
       "      <td>1</td>\n",
       "      <td>0</td>\n",
       "      <td>0</td>\n",
       "      <td>1</td>\n",
       "    </tr>\n",
       "    <tr>\n",
       "      <th>...</th>\n",
       "      <td>...</td>\n",
       "      <td>...</td>\n",
       "      <td>...</td>\n",
       "      <td>...</td>\n",
       "      <td>...</td>\n",
       "      <td>...</td>\n",
       "    </tr>\n",
       "    <tr>\n",
       "      <th>841</th>\n",
       "      <td>ABCAJ85</td>\n",
       "      <td>1</td>\n",
       "      <td>0</td>\n",
       "      <td>0</td>\n",
       "      <td>1</td>\n",
       "      <td>0</td>\n",
       "    </tr>\n",
       "    <tr>\n",
       "      <th>842</th>\n",
       "      <td>ABCAJ99</td>\n",
       "      <td>1</td>\n",
       "      <td>0</td>\n",
       "      <td>0</td>\n",
       "      <td>1</td>\n",
       "      <td>0</td>\n",
       "    </tr>\n",
       "    <tr>\n",
       "      <th>843</th>\n",
       "      <td>ABCAK03</td>\n",
       "      <td>1</td>\n",
       "      <td>0</td>\n",
       "      <td>0</td>\n",
       "      <td>1</td>\n",
       "      <td>0</td>\n",
       "    </tr>\n",
       "    <tr>\n",
       "      <th>844</th>\n",
       "      <td>ABCAK47</td>\n",
       "      <td>1</td>\n",
       "      <td>0</td>\n",
       "      <td>0</td>\n",
       "      <td>1</td>\n",
       "      <td>0</td>\n",
       "    </tr>\n",
       "    <tr>\n",
       "      <th>845</th>\n",
       "      <td>ABCAM73</td>\n",
       "      <td>1</td>\n",
       "      <td>0</td>\n",
       "      <td>0</td>\n",
       "      <td>1</td>\n",
       "      <td>0</td>\n",
       "    </tr>\n",
       "  </tbody>\n",
       "</table>\n",
       "<p>846 rows × 6 columns</p>\n",
       "</div>"
      ],
      "text/plain": [
       "    LOT_ID 2  EQP 2_B  EQP 2_C  MODULE 2_B  MODULE 2_C  MODULE 2_D\n",
       "0    ABCAC29        0        1           0           0           1\n",
       "1    ABCAC78        0        1           0           0           1\n",
       "2    ABCAD27        0        1           0           0           1\n",
       "3    ABCA949        0        1           0           0           1\n",
       "4    ABCAA39        0        1           0           0           1\n",
       "..       ...      ...      ...         ...         ...         ...\n",
       "841  ABCAJ85        1        0           0           1           0\n",
       "842  ABCAJ99        1        0           0           1           0\n",
       "843  ABCAK03        1        0           0           1           0\n",
       "844  ABCAK47        1        0           0           1           0\n",
       "845  ABCAM73        1        0           0           1           0\n",
       "\n",
       "[846 rows x 6 columns]"
      ]
     },
     "execution_count": 18,
     "metadata": {},
     "output_type": "execute_result"
    }
   ],
   "source": [
    "data_categorical"
   ]
  },
  {
   "cell_type": "code",
   "execution_count": 19,
   "metadata": {},
   "outputs": [],
   "source": [
    "# 수치형 변수 분리\n",
    "x_data_num = x_data.drop(['TIME','EQP 2', 'MODULE 2','TIME_PROCESS'], axis=1)"
   ]
  },
  {
   "cell_type": "code",
   "execution_count": 20,
   "metadata": {},
   "outputs": [
    {
     "data": {
      "text/html": [
       "<div>\n",
       "<style scoped>\n",
       "    .dataframe tbody tr th:only-of-type {\n",
       "        vertical-align: middle;\n",
       "    }\n",
       "\n",
       "    .dataframe tbody tr th {\n",
       "        vertical-align: top;\n",
       "    }\n",
       "\n",
       "    .dataframe thead th {\n",
       "        text-align: right;\n",
       "    }\n",
       "</style>\n",
       "<table border=\"1\" class=\"dataframe\">\n",
       "  <thead>\n",
       "    <tr style=\"text-align: right;\">\n",
       "      <th></th>\n",
       "      <th>LOT_ID 2</th>\n",
       "      <th>Para 01</th>\n",
       "      <th>Para 02</th>\n",
       "      <th>Para 03</th>\n",
       "      <th>Para 04</th>\n",
       "      <th>Para 05</th>\n",
       "      <th>Para 06</th>\n",
       "      <th>Para 07</th>\n",
       "      <th>Para 08</th>\n",
       "      <th>Para 09</th>\n",
       "      <th>Para 10</th>\n",
       "      <th>Para 11</th>\n",
       "      <th>Para 12</th>\n",
       "      <th>Para 13</th>\n",
       "      <th>Para 14</th>\n",
       "      <th>Para 15</th>\n",
       "      <th>Para 16</th>\n",
       "      <th>Para 17</th>\n",
       "      <th>Para 18</th>\n",
       "      <th>Para 19</th>\n",
       "    </tr>\n",
       "  </thead>\n",
       "  <tbody>\n",
       "    <tr>\n",
       "      <th>0</th>\n",
       "      <td>ABCAC29</td>\n",
       "      <td>-0.139785</td>\n",
       "      <td>-0.753355</td>\n",
       "      <td>-1.024975</td>\n",
       "      <td>-1.505540</td>\n",
       "      <td>-0.237628</td>\n",
       "      <td>-0.134672</td>\n",
       "      <td>1.791254</td>\n",
       "      <td>1.111967</td>\n",
       "      <td>1.359035</td>\n",
       "      <td>1.884452</td>\n",
       "      <td>1.482281</td>\n",
       "      <td>-1.932399</td>\n",
       "      <td>-0.380771</td>\n",
       "      <td>-0.380771</td>\n",
       "      <td>0.003895</td>\n",
       "      <td>0.743457</td>\n",
       "      <td>-1.029292</td>\n",
       "      <td>-2.853902</td>\n",
       "      <td>2.222534</td>\n",
       "    </tr>\n",
       "    <tr>\n",
       "      <th>1</th>\n",
       "      <td>ABCAC29</td>\n",
       "      <td>-0.139785</td>\n",
       "      <td>-0.753355</td>\n",
       "      <td>-1.024975</td>\n",
       "      <td>-1.408907</td>\n",
       "      <td>-0.219155</td>\n",
       "      <td>-0.134672</td>\n",
       "      <td>2.415552</td>\n",
       "      <td>1.111967</td>\n",
       "      <td>1.359035</td>\n",
       "      <td>1.884452</td>\n",
       "      <td>1.482281</td>\n",
       "      <td>-1.932399</td>\n",
       "      <td>-0.380771</td>\n",
       "      <td>-0.380771</td>\n",
       "      <td>0.003895</td>\n",
       "      <td>0.743457</td>\n",
       "      <td>-1.029292</td>\n",
       "      <td>-2.853902</td>\n",
       "      <td>2.222534</td>\n",
       "    </tr>\n",
       "    <tr>\n",
       "      <th>2</th>\n",
       "      <td>ABCAC29</td>\n",
       "      <td>-0.139785</td>\n",
       "      <td>0.173656</td>\n",
       "      <td>-1.024975</td>\n",
       "      <td>-1.289265</td>\n",
       "      <td>-0.237628</td>\n",
       "      <td>-0.134672</td>\n",
       "      <td>0.542658</td>\n",
       "      <td>1.111967</td>\n",
       "      <td>1.359035</td>\n",
       "      <td>2.137315</td>\n",
       "      <td>1.482281</td>\n",
       "      <td>-1.932399</td>\n",
       "      <td>-0.380771</td>\n",
       "      <td>-0.380771</td>\n",
       "      <td>0.003895</td>\n",
       "      <td>0.648641</td>\n",
       "      <td>-1.029292</td>\n",
       "      <td>-2.853902</td>\n",
       "      <td>2.335617</td>\n",
       "    </tr>\n",
       "    <tr>\n",
       "      <th>3</th>\n",
       "      <td>ABCAC29</td>\n",
       "      <td>-0.139785</td>\n",
       "      <td>0.173656</td>\n",
       "      <td>-1.024975</td>\n",
       "      <td>-1.169624</td>\n",
       "      <td>-0.219155</td>\n",
       "      <td>0.975136</td>\n",
       "      <td>1.791254</td>\n",
       "      <td>1.111967</td>\n",
       "      <td>1.359035</td>\n",
       "      <td>1.884452</td>\n",
       "      <td>1.482281</td>\n",
       "      <td>-1.932399</td>\n",
       "      <td>-0.380771</td>\n",
       "      <td>-0.380771</td>\n",
       "      <td>0.003895</td>\n",
       "      <td>0.553824</td>\n",
       "      <td>-1.006165</td>\n",
       "      <td>-2.853902</td>\n",
       "      <td>2.222534</td>\n",
       "    </tr>\n",
       "    <tr>\n",
       "      <th>4</th>\n",
       "      <td>ABCAC29</td>\n",
       "      <td>-0.139785</td>\n",
       "      <td>0.173656</td>\n",
       "      <td>-1.024975</td>\n",
       "      <td>-0.999365</td>\n",
       "      <td>-0.237628</td>\n",
       "      <td>-0.134672</td>\n",
       "      <td>0.542658</td>\n",
       "      <td>1.111967</td>\n",
       "      <td>0.755216</td>\n",
       "      <td>2.137315</td>\n",
       "      <td>1.482281</td>\n",
       "      <td>-1.932399</td>\n",
       "      <td>-0.380771</td>\n",
       "      <td>-0.380771</td>\n",
       "      <td>0.003895</td>\n",
       "      <td>0.364192</td>\n",
       "      <td>-1.006165</td>\n",
       "      <td>-2.853902</td>\n",
       "      <td>2.222534</td>\n",
       "    </tr>\n",
       "    <tr>\n",
       "      <th>...</th>\n",
       "      <td>...</td>\n",
       "      <td>...</td>\n",
       "      <td>...</td>\n",
       "      <td>...</td>\n",
       "      <td>...</td>\n",
       "      <td>...</td>\n",
       "      <td>...</td>\n",
       "      <td>...</td>\n",
       "      <td>...</td>\n",
       "      <td>...</td>\n",
       "      <td>...</td>\n",
       "      <td>...</td>\n",
       "      <td>...</td>\n",
       "      <td>...</td>\n",
       "      <td>...</td>\n",
       "      <td>...</td>\n",
       "      <td>...</td>\n",
       "      <td>...</td>\n",
       "      <td>...</td>\n",
       "      <td>...</td>\n",
       "    </tr>\n",
       "    <tr>\n",
       "      <th>508201</th>\n",
       "      <td>ABCAM73</td>\n",
       "      <td>0.211300</td>\n",
       "      <td>0.173656</td>\n",
       "      <td>-1.024975</td>\n",
       "      <td>-0.309126</td>\n",
       "      <td>0.076406</td>\n",
       "      <td>-0.504608</td>\n",
       "      <td>0.542658</td>\n",
       "      <td>-0.710376</td>\n",
       "      <td>-1.358148</td>\n",
       "      <td>0.114413</td>\n",
       "      <td>-1.159996</td>\n",
       "      <td>0.187298</td>\n",
       "      <td>0.480142</td>\n",
       "      <td>0.480142</td>\n",
       "      <td>0.402657</td>\n",
       "      <td>-0.015074</td>\n",
       "      <td>1.283399</td>\n",
       "      <td>0.503272</td>\n",
       "      <td>-1.056851</td>\n",
       "    </tr>\n",
       "    <tr>\n",
       "      <th>508202</th>\n",
       "      <td>ABCAM73</td>\n",
       "      <td>0.211300</td>\n",
       "      <td>0.173656</td>\n",
       "      <td>-1.024975</td>\n",
       "      <td>-0.318330</td>\n",
       "      <td>0.076406</td>\n",
       "      <td>-1.244481</td>\n",
       "      <td>0.542658</td>\n",
       "      <td>-0.710376</td>\n",
       "      <td>-1.358148</td>\n",
       "      <td>0.114413</td>\n",
       "      <td>-0.956744</td>\n",
       "      <td>0.187298</td>\n",
       "      <td>0.480142</td>\n",
       "      <td>0.480142</td>\n",
       "      <td>0.402657</td>\n",
       "      <td>-0.015074</td>\n",
       "      <td>1.283399</td>\n",
       "      <td>0.503272</td>\n",
       "      <td>-1.056851</td>\n",
       "    </tr>\n",
       "    <tr>\n",
       "      <th>508203</th>\n",
       "      <td>ABCAM73</td>\n",
       "      <td>0.211300</td>\n",
       "      <td>0.173656</td>\n",
       "      <td>-1.024975</td>\n",
       "      <td>-0.322931</td>\n",
       "      <td>0.076406</td>\n",
       "      <td>-1.244481</td>\n",
       "      <td>0.542658</td>\n",
       "      <td>-1.317824</td>\n",
       "      <td>-1.056239</td>\n",
       "      <td>0.367276</td>\n",
       "      <td>-0.956744</td>\n",
       "      <td>0.187298</td>\n",
       "      <td>0.480142</td>\n",
       "      <td>0.480142</td>\n",
       "      <td>0.402657</td>\n",
       "      <td>-0.015074</td>\n",
       "      <td>1.283399</td>\n",
       "      <td>0.503272</td>\n",
       "      <td>-1.056851</td>\n",
       "    </tr>\n",
       "    <tr>\n",
       "      <th>508204</th>\n",
       "      <td>ABCAM73</td>\n",
       "      <td>0.035757</td>\n",
       "      <td>0.173656</td>\n",
       "      <td>1.102850</td>\n",
       "      <td>-0.327533</td>\n",
       "      <td>0.057933</td>\n",
       "      <td>-0.504608</td>\n",
       "      <td>0.542658</td>\n",
       "      <td>-1.317824</td>\n",
       "      <td>-1.056239</td>\n",
       "      <td>0.367276</td>\n",
       "      <td>-0.956744</td>\n",
       "      <td>0.187298</td>\n",
       "      <td>0.480142</td>\n",
       "      <td>0.480142</td>\n",
       "      <td>0.402657</td>\n",
       "      <td>-0.015074</td>\n",
       "      <td>1.283399</td>\n",
       "      <td>0.503272</td>\n",
       "      <td>-1.056851</td>\n",
       "    </tr>\n",
       "    <tr>\n",
       "      <th>508205</th>\n",
       "      <td>ABCAM73</td>\n",
       "      <td>0.035757</td>\n",
       "      <td>0.173656</td>\n",
       "      <td>1.204385</td>\n",
       "      <td>-0.327533</td>\n",
       "      <td>0.039461</td>\n",
       "      <td>-0.134672</td>\n",
       "      <td>0.542658</td>\n",
       "      <td>-1.317824</td>\n",
       "      <td>-1.358148</td>\n",
       "      <td>0.114413</td>\n",
       "      <td>-1.973004</td>\n",
       "      <td>0.187298</td>\n",
       "      <td>0.480142</td>\n",
       "      <td>0.480142</td>\n",
       "      <td>0.402657</td>\n",
       "      <td>-0.015074</td>\n",
       "      <td>1.283399</td>\n",
       "      <td>0.503272</td>\n",
       "      <td>-1.056851</td>\n",
       "    </tr>\n",
       "  </tbody>\n",
       "</table>\n",
       "<p>508206 rows × 20 columns</p>\n",
       "</div>"
      ],
      "text/plain": [
       "       LOT_ID 2   Para 01   Para 02   Para 03   Para 04   Para 05   Para 06  \\\n",
       "0       ABCAC29 -0.139785 -0.753355 -1.024975 -1.505540 -0.237628 -0.134672   \n",
       "1       ABCAC29 -0.139785 -0.753355 -1.024975 -1.408907 -0.219155 -0.134672   \n",
       "2       ABCAC29 -0.139785  0.173656 -1.024975 -1.289265 -0.237628 -0.134672   \n",
       "3       ABCAC29 -0.139785  0.173656 -1.024975 -1.169624 -0.219155  0.975136   \n",
       "4       ABCAC29 -0.139785  0.173656 -1.024975 -0.999365 -0.237628 -0.134672   \n",
       "...         ...       ...       ...       ...       ...       ...       ...   \n",
       "508201  ABCAM73  0.211300  0.173656 -1.024975 -0.309126  0.076406 -0.504608   \n",
       "508202  ABCAM73  0.211300  0.173656 -1.024975 -0.318330  0.076406 -1.244481   \n",
       "508203  ABCAM73  0.211300  0.173656 -1.024975 -0.322931  0.076406 -1.244481   \n",
       "508204  ABCAM73  0.035757  0.173656  1.102850 -0.327533  0.057933 -0.504608   \n",
       "508205  ABCAM73  0.035757  0.173656  1.204385 -0.327533  0.039461 -0.134672   \n",
       "\n",
       "         Para 07   Para 08   Para 09   Para 10   Para 11   Para 12   Para 13  \\\n",
       "0       1.791254  1.111967  1.359035  1.884452  1.482281 -1.932399 -0.380771   \n",
       "1       2.415552  1.111967  1.359035  1.884452  1.482281 -1.932399 -0.380771   \n",
       "2       0.542658  1.111967  1.359035  2.137315  1.482281 -1.932399 -0.380771   \n",
       "3       1.791254  1.111967  1.359035  1.884452  1.482281 -1.932399 -0.380771   \n",
       "4       0.542658  1.111967  0.755216  2.137315  1.482281 -1.932399 -0.380771   \n",
       "...          ...       ...       ...       ...       ...       ...       ...   \n",
       "508201  0.542658 -0.710376 -1.358148  0.114413 -1.159996  0.187298  0.480142   \n",
       "508202  0.542658 -0.710376 -1.358148  0.114413 -0.956744  0.187298  0.480142   \n",
       "508203  0.542658 -1.317824 -1.056239  0.367276 -0.956744  0.187298  0.480142   \n",
       "508204  0.542658 -1.317824 -1.056239  0.367276 -0.956744  0.187298  0.480142   \n",
       "508205  0.542658 -1.317824 -1.358148  0.114413 -1.973004  0.187298  0.480142   \n",
       "\n",
       "         Para 14   Para 15   Para 16   Para 17   Para 18   Para 19  \n",
       "0      -0.380771  0.003895  0.743457 -1.029292 -2.853902  2.222534  \n",
       "1      -0.380771  0.003895  0.743457 -1.029292 -2.853902  2.222534  \n",
       "2      -0.380771  0.003895  0.648641 -1.029292 -2.853902  2.335617  \n",
       "3      -0.380771  0.003895  0.553824 -1.006165 -2.853902  2.222534  \n",
       "4      -0.380771  0.003895  0.364192 -1.006165 -2.853902  2.222534  \n",
       "...          ...       ...       ...       ...       ...       ...  \n",
       "508201  0.480142  0.402657 -0.015074  1.283399  0.503272 -1.056851  \n",
       "508202  0.480142  0.402657 -0.015074  1.283399  0.503272 -1.056851  \n",
       "508203  0.480142  0.402657 -0.015074  1.283399  0.503272 -1.056851  \n",
       "508204  0.480142  0.402657 -0.015074  1.283399  0.503272 -1.056851  \n",
       "508205  0.480142  0.402657 -0.015074  1.283399  0.503272 -1.056851  \n",
       "\n",
       "[508206 rows x 20 columns]"
      ]
     },
     "execution_count": 20,
     "metadata": {},
     "output_type": "execute_result"
    }
   ],
   "source": [
    "x_data_num"
   ]
  },
  {
   "cell_type": "markdown",
   "metadata": {},
   "source": [
    "#### LOT_ID별 mean, max, min, variance, median, sum 값 요약"
   ]
  },
  {
   "cell_type": "code",
   "execution_count": 21,
   "metadata": {},
   "outputs": [],
   "source": [
    "# mean값 요약\n",
    "mean_data = x_data_num.groupby(x_data_num['LOT_ID 2']).mean()\n",
    "mean_data.rename(columns = lambda x: x.replace('Para', 'mean'), inplace=True)"
   ]
  },
  {
   "cell_type": "code",
   "execution_count": 22,
   "metadata": {},
   "outputs": [],
   "source": [
    "# max값 요약\n",
    "max_data = x_data_num.groupby(x_data_num['LOT_ID 2']).max()\n",
    "max_data.rename(columns = lambda x: x.replace('Para', 'max'), inplace=True)"
   ]
  },
  {
   "cell_type": "code",
   "execution_count": 23,
   "metadata": {},
   "outputs": [],
   "source": [
    "# min값 요약\n",
    "min_data = x_data_num.groupby(x_data_num['LOT_ID 2']).min() \n",
    "min_data.rename(columns = lambda x: x.replace('Para', 'min'), inplace=True)"
   ]
  },
  {
   "cell_type": "code",
   "execution_count": 24,
   "metadata": {},
   "outputs": [],
   "source": [
    "# variance값 요약\n",
    "var_data = x_data_num.groupby(x_data_num['LOT_ID 2']).var()\n",
    "var_data.rename(columns = lambda x: x.replace('Para', 'var'), inplace=True)"
   ]
  },
  {
   "cell_type": "code",
   "execution_count": 25,
   "metadata": {},
   "outputs": [],
   "source": [
    "# median값 요약\n",
    "median_data = x_data_num.groupby(x_data_num['LOT_ID 2']).median()\n",
    "median_data.rename(columns = lambda x: x.replace('Para', 'median'), inplace=True)"
   ]
  },
  {
   "cell_type": "code",
   "execution_count": 26,
   "metadata": {},
   "outputs": [],
   "source": [
    "# sum값 요약\n",
    "sum_data = x_data_num.groupby(x_data_num['LOT_ID 2']).sum()\n",
    "sum_data.rename(columns = lambda x: x.replace('Para', 'sum'), inplace=True)"
   ]
  },
  {
   "cell_type": "markdown",
   "metadata": {},
   "source": [
    "#### 분석 데이터 Set 구축\n",
    "+ LOT_ID 기준으로 X, Y 데이터 병합\n",
    "+ 최종 데이터\n",
    "    + 관측치 개수: 35,164개\n",
    "    + 입력변수: 119개\n",
    "    + 출력변수: 1개(Response)"
   ]
  },
  {
   "cell_type": "code",
   "execution_count": 27,
   "metadata": {},
   "outputs": [],
   "source": [
    "# LOT_ID별 요약 데이터 결합(수치형 데이터)\n",
    "full_data = y_data.merge(mean_data, on='LOT_ID 2').merge(max_data, on='LOT_ID 2').merge(min_data, on='LOT_ID 2').merge(var_data, on='LOT_ID 2').merge(median_data, on='LOT_ID 2').merge(sum_data, on='LOT_ID 2')"
   ]
  },
  {
   "cell_type": "code",
   "execution_count": 28,
   "metadata": {},
   "outputs": [],
   "source": [
    "# 범주형 변수 데이터 결합\n",
    "full_data = full_data.merge(data_categorical, on='LOT_ID 2')"
   ]
  },
  {
   "cell_type": "code",
   "execution_count": 29,
   "metadata": {},
   "outputs": [
    {
     "data": {
      "text/plain": [
       "Index(['LOT_ID 2', 'WF_ID', 'Site', 'X axis', 'Y axis', 'Response', 'mean 01',\n",
       "       'mean 02', 'mean 03', 'mean 04',\n",
       "       ...\n",
       "       'sum 15', 'sum 16', 'sum 17', 'sum 18', 'sum 19', 'EQP 2_B', 'EQP 2_C',\n",
       "       'MODULE 2_B', 'MODULE 2_C', 'MODULE 2_D'],\n",
       "      dtype='object', length=125)"
      ]
     },
     "execution_count": 29,
     "metadata": {},
     "output_type": "execute_result"
    }
   ],
   "source": [
    "full_data.columns"
   ]
  },
  {
   "cell_type": "code",
   "execution_count": 30,
   "metadata": {},
   "outputs": [
    {
     "data": {
      "text/html": [
       "<div>\n",
       "<style scoped>\n",
       "    .dataframe tbody tr th:only-of-type {\n",
       "        vertical-align: middle;\n",
       "    }\n",
       "\n",
       "    .dataframe tbody tr th {\n",
       "        vertical-align: top;\n",
       "    }\n",
       "\n",
       "    .dataframe thead th {\n",
       "        text-align: right;\n",
       "    }\n",
       "</style>\n",
       "<table border=\"1\" class=\"dataframe\">\n",
       "  <thead>\n",
       "    <tr style=\"text-align: right;\">\n",
       "      <th></th>\n",
       "      <th>LOT_ID 2</th>\n",
       "      <th>WF_ID</th>\n",
       "      <th>Site</th>\n",
       "      <th>X axis</th>\n",
       "      <th>Y axis</th>\n",
       "      <th>Response</th>\n",
       "      <th>mean 01</th>\n",
       "      <th>mean 02</th>\n",
       "      <th>mean 03</th>\n",
       "      <th>mean 04</th>\n",
       "      <th>...</th>\n",
       "      <th>sum 15</th>\n",
       "      <th>sum 16</th>\n",
       "      <th>sum 17</th>\n",
       "      <th>sum 18</th>\n",
       "      <th>sum 19</th>\n",
       "      <th>EQP 2_B</th>\n",
       "      <th>EQP 2_C</th>\n",
       "      <th>MODULE 2_B</th>\n",
       "      <th>MODULE 2_C</th>\n",
       "      <th>MODULE 2_D</th>\n",
       "    </tr>\n",
       "  </thead>\n",
       "  <tbody>\n",
       "    <tr>\n",
       "      <th>0</th>\n",
       "      <td>ABCA764</td>\n",
       "      <td>3</td>\n",
       "      <td>7</td>\n",
       "      <td>-55</td>\n",
       "      <td>48</td>\n",
       "      <td>-0.198842</td>\n",
       "      <td>0.310317</td>\n",
       "      <td>-0.027634</td>\n",
       "      <td>-0.042412</td>\n",
       "      <td>-0.552697</td>\n",
       "      <td>...</td>\n",
       "      <td>3.437219</td>\n",
       "      <td>79.783517</td>\n",
       "      <td>-721.981753</td>\n",
       "      <td>179.837862</td>\n",
       "      <td>229.007216</td>\n",
       "      <td>1</td>\n",
       "      <td>0</td>\n",
       "      <td>1</td>\n",
       "      <td>0</td>\n",
       "      <td>0</td>\n",
       "    </tr>\n",
       "    <tr>\n",
       "      <th>1</th>\n",
       "      <td>ABCA764</td>\n",
       "      <td>3</td>\n",
       "      <td>8</td>\n",
       "      <td>-55</td>\n",
       "      <td>-17</td>\n",
       "      <td>-0.006703</td>\n",
       "      <td>0.310317</td>\n",
       "      <td>-0.027634</td>\n",
       "      <td>-0.042412</td>\n",
       "      <td>-0.552697</td>\n",
       "      <td>...</td>\n",
       "      <td>3.437219</td>\n",
       "      <td>79.783517</td>\n",
       "      <td>-721.981753</td>\n",
       "      <td>179.837862</td>\n",
       "      <td>229.007216</td>\n",
       "      <td>1</td>\n",
       "      <td>0</td>\n",
       "      <td>1</td>\n",
       "      <td>0</td>\n",
       "      <td>0</td>\n",
       "    </tr>\n",
       "    <tr>\n",
       "      <th>2</th>\n",
       "      <td>ABCA764</td>\n",
       "      <td>3</td>\n",
       "      <td>11</td>\n",
       "      <td>-100</td>\n",
       "      <td>81</td>\n",
       "      <td>-0.115168</td>\n",
       "      <td>0.310317</td>\n",
       "      <td>-0.027634</td>\n",
       "      <td>-0.042412</td>\n",
       "      <td>-0.552697</td>\n",
       "      <td>...</td>\n",
       "      <td>3.437219</td>\n",
       "      <td>79.783517</td>\n",
       "      <td>-721.981753</td>\n",
       "      <td>179.837862</td>\n",
       "      <td>229.007216</td>\n",
       "      <td>1</td>\n",
       "      <td>0</td>\n",
       "      <td>1</td>\n",
       "      <td>0</td>\n",
       "      <td>0</td>\n",
       "    </tr>\n",
       "    <tr>\n",
       "      <th>3</th>\n",
       "      <td>ABCA764</td>\n",
       "      <td>3</td>\n",
       "      <td>3</td>\n",
       "      <td>-10</td>\n",
       "      <td>15</td>\n",
       "      <td>-0.000505</td>\n",
       "      <td>0.310317</td>\n",
       "      <td>-0.027634</td>\n",
       "      <td>-0.042412</td>\n",
       "      <td>-0.552697</td>\n",
       "      <td>...</td>\n",
       "      <td>3.437219</td>\n",
       "      <td>79.783517</td>\n",
       "      <td>-721.981753</td>\n",
       "      <td>179.837862</td>\n",
       "      <td>229.007216</td>\n",
       "      <td>1</td>\n",
       "      <td>0</td>\n",
       "      <td>1</td>\n",
       "      <td>0</td>\n",
       "      <td>0</td>\n",
       "    </tr>\n",
       "    <tr>\n",
       "      <th>4</th>\n",
       "      <td>ABCA764</td>\n",
       "      <td>3</td>\n",
       "      <td>1</td>\n",
       "      <td>-122</td>\n",
       "      <td>15</td>\n",
       "      <td>0.442652</td>\n",
       "      <td>0.310317</td>\n",
       "      <td>-0.027634</td>\n",
       "      <td>-0.042412</td>\n",
       "      <td>-0.552697</td>\n",
       "      <td>...</td>\n",
       "      <td>3.437219</td>\n",
       "      <td>79.783517</td>\n",
       "      <td>-721.981753</td>\n",
       "      <td>179.837862</td>\n",
       "      <td>229.007216</td>\n",
       "      <td>1</td>\n",
       "      <td>0</td>\n",
       "      <td>1</td>\n",
       "      <td>0</td>\n",
       "      <td>0</td>\n",
       "    </tr>\n",
       "    <tr>\n",
       "      <th>...</th>\n",
       "      <td>...</td>\n",
       "      <td>...</td>\n",
       "      <td>...</td>\n",
       "      <td>...</td>\n",
       "      <td>...</td>\n",
       "      <td>...</td>\n",
       "      <td>...</td>\n",
       "      <td>...</td>\n",
       "      <td>...</td>\n",
       "      <td>...</td>\n",
       "      <td>...</td>\n",
       "      <td>...</td>\n",
       "      <td>...</td>\n",
       "      <td>...</td>\n",
       "      <td>...</td>\n",
       "      <td>...</td>\n",
       "      <td>...</td>\n",
       "      <td>...</td>\n",
       "      <td>...</td>\n",
       "      <td>...</td>\n",
       "      <td>...</td>\n",
       "    </tr>\n",
       "    <tr>\n",
       "      <th>35159</th>\n",
       "      <td>ABC9567</td>\n",
       "      <td>3</td>\n",
       "      <td>6</td>\n",
       "      <td>35</td>\n",
       "      <td>48</td>\n",
       "      <td>-0.759761</td>\n",
       "      <td>0.758667</td>\n",
       "      <td>-0.044600</td>\n",
       "      <td>-0.056858</td>\n",
       "      <td>1.445626</td>\n",
       "      <td>...</td>\n",
       "      <td>-32.451420</td>\n",
       "      <td>-218.129567</td>\n",
       "      <td>170.878768</td>\n",
       "      <td>197.539321</td>\n",
       "      <td>290.071628</td>\n",
       "      <td>0</td>\n",
       "      <td>0</td>\n",
       "      <td>0</td>\n",
       "      <td>0</td>\n",
       "      <td>0</td>\n",
       "    </tr>\n",
       "    <tr>\n",
       "      <th>35160</th>\n",
       "      <td>ABC9567</td>\n",
       "      <td>3</td>\n",
       "      <td>13</td>\n",
       "      <td>80</td>\n",
       "      <td>-50</td>\n",
       "      <td>-0.465356</td>\n",
       "      <td>0.758667</td>\n",
       "      <td>-0.044600</td>\n",
       "      <td>-0.056858</td>\n",
       "      <td>1.445626</td>\n",
       "      <td>...</td>\n",
       "      <td>-32.451420</td>\n",
       "      <td>-218.129567</td>\n",
       "      <td>170.878768</td>\n",
       "      <td>197.539321</td>\n",
       "      <td>290.071628</td>\n",
       "      <td>0</td>\n",
       "      <td>0</td>\n",
       "      <td>0</td>\n",
       "      <td>0</td>\n",
       "      <td>0</td>\n",
       "    </tr>\n",
       "    <tr>\n",
       "      <th>35161</th>\n",
       "      <td>ABC9567</td>\n",
       "      <td>3</td>\n",
       "      <td>9</td>\n",
       "      <td>35</td>\n",
       "      <td>-17</td>\n",
       "      <td>-0.434366</td>\n",
       "      <td>0.758667</td>\n",
       "      <td>-0.044600</td>\n",
       "      <td>-0.056858</td>\n",
       "      <td>1.445626</td>\n",
       "      <td>...</td>\n",
       "      <td>-32.451420</td>\n",
       "      <td>-218.129567</td>\n",
       "      <td>170.878768</td>\n",
       "      <td>197.539321</td>\n",
       "      <td>290.071628</td>\n",
       "      <td>0</td>\n",
       "      <td>0</td>\n",
       "      <td>0</td>\n",
       "      <td>0</td>\n",
       "      <td>0</td>\n",
       "    </tr>\n",
       "    <tr>\n",
       "      <th>35162</th>\n",
       "      <td>ABC9567</td>\n",
       "      <td>3</td>\n",
       "      <td>10</td>\n",
       "      <td>80</td>\n",
       "      <td>81</td>\n",
       "      <td>-0.400277</td>\n",
       "      <td>0.758667</td>\n",
       "      <td>-0.044600</td>\n",
       "      <td>-0.056858</td>\n",
       "      <td>1.445626</td>\n",
       "      <td>...</td>\n",
       "      <td>-32.451420</td>\n",
       "      <td>-218.129567</td>\n",
       "      <td>170.878768</td>\n",
       "      <td>197.539321</td>\n",
       "      <td>290.071628</td>\n",
       "      <td>0</td>\n",
       "      <td>0</td>\n",
       "      <td>0</td>\n",
       "      <td>0</td>\n",
       "      <td>0</td>\n",
       "    </tr>\n",
       "    <tr>\n",
       "      <th>35163</th>\n",
       "      <td>ABC9567</td>\n",
       "      <td>3</td>\n",
       "      <td>4</td>\n",
       "      <td>-10</td>\n",
       "      <td>113</td>\n",
       "      <td>-0.555227</td>\n",
       "      <td>0.758667</td>\n",
       "      <td>-0.044600</td>\n",
       "      <td>-0.056858</td>\n",
       "      <td>1.445626</td>\n",
       "      <td>...</td>\n",
       "      <td>-32.451420</td>\n",
       "      <td>-218.129567</td>\n",
       "      <td>170.878768</td>\n",
       "      <td>197.539321</td>\n",
       "      <td>290.071628</td>\n",
       "      <td>0</td>\n",
       "      <td>0</td>\n",
       "      <td>0</td>\n",
       "      <td>0</td>\n",
       "      <td>0</td>\n",
       "    </tr>\n",
       "  </tbody>\n",
       "</table>\n",
       "<p>35164 rows × 125 columns</p>\n",
       "</div>"
      ],
      "text/plain": [
       "      LOT_ID 2  WF_ID  Site  X axis  Y axis  Response   mean 01   mean 02  \\\n",
       "0      ABCA764      3     7     -55      48 -0.198842  0.310317 -0.027634   \n",
       "1      ABCA764      3     8     -55     -17 -0.006703  0.310317 -0.027634   \n",
       "2      ABCA764      3    11    -100      81 -0.115168  0.310317 -0.027634   \n",
       "3      ABCA764      3     3     -10      15 -0.000505  0.310317 -0.027634   \n",
       "4      ABCA764      3     1    -122      15  0.442652  0.310317 -0.027634   \n",
       "...        ...    ...   ...     ...     ...       ...       ...       ...   \n",
       "35159  ABC9567      3     6      35      48 -0.759761  0.758667 -0.044600   \n",
       "35160  ABC9567      3    13      80     -50 -0.465356  0.758667 -0.044600   \n",
       "35161  ABC9567      3     9      35     -17 -0.434366  0.758667 -0.044600   \n",
       "35162  ABC9567      3    10      80      81 -0.400277  0.758667 -0.044600   \n",
       "35163  ABC9567      3     4     -10     113 -0.555227  0.758667 -0.044600   \n",
       "\n",
       "        mean 03   mean 04  ...     sum 15      sum 16      sum 17      sum 18  \\\n",
       "0     -0.042412 -0.552697  ...   3.437219   79.783517 -721.981753  179.837862   \n",
       "1     -0.042412 -0.552697  ...   3.437219   79.783517 -721.981753  179.837862   \n",
       "2     -0.042412 -0.552697  ...   3.437219   79.783517 -721.981753  179.837862   \n",
       "3     -0.042412 -0.552697  ...   3.437219   79.783517 -721.981753  179.837862   \n",
       "4     -0.042412 -0.552697  ...   3.437219   79.783517 -721.981753  179.837862   \n",
       "...         ...       ...  ...        ...         ...         ...         ...   \n",
       "35159 -0.056858  1.445626  ... -32.451420 -218.129567  170.878768  197.539321   \n",
       "35160 -0.056858  1.445626  ... -32.451420 -218.129567  170.878768  197.539321   \n",
       "35161 -0.056858  1.445626  ... -32.451420 -218.129567  170.878768  197.539321   \n",
       "35162 -0.056858  1.445626  ... -32.451420 -218.129567  170.878768  197.539321   \n",
       "35163 -0.056858  1.445626  ... -32.451420 -218.129567  170.878768  197.539321   \n",
       "\n",
       "           sum 19  EQP 2_B  EQP 2_C  MODULE 2_B  MODULE 2_C  MODULE 2_D  \n",
       "0      229.007216        1        0           1           0           0  \n",
       "1      229.007216        1        0           1           0           0  \n",
       "2      229.007216        1        0           1           0           0  \n",
       "3      229.007216        1        0           1           0           0  \n",
       "4      229.007216        1        0           1           0           0  \n",
       "...           ...      ...      ...         ...         ...         ...  \n",
       "35159  290.071628        0        0           0           0           0  \n",
       "35160  290.071628        0        0           0           0           0  \n",
       "35161  290.071628        0        0           0           0           0  \n",
       "35162  290.071628        0        0           0           0           0  \n",
       "35163  290.071628        0        0           0           0           0  \n",
       "\n",
       "[35164 rows x 125 columns]"
      ]
     },
     "execution_count": 30,
     "metadata": {},
     "output_type": "execute_result"
    }
   ],
   "source": [
    "full_data"
   ]
  },
  {
   "cell_type": "code",
   "execution_count": 31,
   "metadata": {},
   "outputs": [],
   "source": [
    "# X & Y 데이터 SET 구축\n",
    "data_x = full_data.drop(['LOT_ID 2', 'WF_ID', 'Site', 'X axis', 'Y axis', 'Response'], axis=1)\n",
    "data_y = full_data['Response']"
   ]
  },
  {
   "cell_type": "code",
   "execution_count": 32,
   "metadata": {},
   "outputs": [
    {
     "data": {
      "text/html": [
       "<div>\n",
       "<style scoped>\n",
       "    .dataframe tbody tr th:only-of-type {\n",
       "        vertical-align: middle;\n",
       "    }\n",
       "\n",
       "    .dataframe tbody tr th {\n",
       "        vertical-align: top;\n",
       "    }\n",
       "\n",
       "    .dataframe thead th {\n",
       "        text-align: right;\n",
       "    }\n",
       "</style>\n",
       "<table border=\"1\" class=\"dataframe\">\n",
       "  <thead>\n",
       "    <tr style=\"text-align: right;\">\n",
       "      <th></th>\n",
       "      <th>mean 01</th>\n",
       "      <th>mean 02</th>\n",
       "      <th>mean 03</th>\n",
       "      <th>mean 04</th>\n",
       "      <th>mean 05</th>\n",
       "      <th>mean 06</th>\n",
       "      <th>mean 07</th>\n",
       "      <th>mean 08</th>\n",
       "      <th>mean 09</th>\n",
       "      <th>mean 10</th>\n",
       "      <th>...</th>\n",
       "      <th>sum 15</th>\n",
       "      <th>sum 16</th>\n",
       "      <th>sum 17</th>\n",
       "      <th>sum 18</th>\n",
       "      <th>sum 19</th>\n",
       "      <th>EQP 2_B</th>\n",
       "      <th>EQP 2_C</th>\n",
       "      <th>MODULE 2_B</th>\n",
       "      <th>MODULE 2_C</th>\n",
       "      <th>MODULE 2_D</th>\n",
       "    </tr>\n",
       "  </thead>\n",
       "  <tbody>\n",
       "    <tr>\n",
       "      <th>0</th>\n",
       "      <td>0.310317</td>\n",
       "      <td>-0.027634</td>\n",
       "      <td>-0.042412</td>\n",
       "      <td>-0.552697</td>\n",
       "      <td>-0.520095</td>\n",
       "      <td>0.353447</td>\n",
       "      <td>-0.511689</td>\n",
       "      <td>0.991691</td>\n",
       "      <td>-0.962300</td>\n",
       "      <td>-0.290335</td>\n",
       "      <td>...</td>\n",
       "      <td>3.437219</td>\n",
       "      <td>79.783517</td>\n",
       "      <td>-721.981753</td>\n",
       "      <td>179.837862</td>\n",
       "      <td>229.007216</td>\n",
       "      <td>1</td>\n",
       "      <td>0</td>\n",
       "      <td>1</td>\n",
       "      <td>0</td>\n",
       "      <td>0</td>\n",
       "    </tr>\n",
       "    <tr>\n",
       "      <th>1</th>\n",
       "      <td>0.310317</td>\n",
       "      <td>-0.027634</td>\n",
       "      <td>-0.042412</td>\n",
       "      <td>-0.552697</td>\n",
       "      <td>-0.520095</td>\n",
       "      <td>0.353447</td>\n",
       "      <td>-0.511689</td>\n",
       "      <td>0.991691</td>\n",
       "      <td>-0.962300</td>\n",
       "      <td>-0.290335</td>\n",
       "      <td>...</td>\n",
       "      <td>3.437219</td>\n",
       "      <td>79.783517</td>\n",
       "      <td>-721.981753</td>\n",
       "      <td>179.837862</td>\n",
       "      <td>229.007216</td>\n",
       "      <td>1</td>\n",
       "      <td>0</td>\n",
       "      <td>1</td>\n",
       "      <td>0</td>\n",
       "      <td>0</td>\n",
       "    </tr>\n",
       "    <tr>\n",
       "      <th>2</th>\n",
       "      <td>0.310317</td>\n",
       "      <td>-0.027634</td>\n",
       "      <td>-0.042412</td>\n",
       "      <td>-0.552697</td>\n",
       "      <td>-0.520095</td>\n",
       "      <td>0.353447</td>\n",
       "      <td>-0.511689</td>\n",
       "      <td>0.991691</td>\n",
       "      <td>-0.962300</td>\n",
       "      <td>-0.290335</td>\n",
       "      <td>...</td>\n",
       "      <td>3.437219</td>\n",
       "      <td>79.783517</td>\n",
       "      <td>-721.981753</td>\n",
       "      <td>179.837862</td>\n",
       "      <td>229.007216</td>\n",
       "      <td>1</td>\n",
       "      <td>0</td>\n",
       "      <td>1</td>\n",
       "      <td>0</td>\n",
       "      <td>0</td>\n",
       "    </tr>\n",
       "    <tr>\n",
       "      <th>3</th>\n",
       "      <td>0.310317</td>\n",
       "      <td>-0.027634</td>\n",
       "      <td>-0.042412</td>\n",
       "      <td>-0.552697</td>\n",
       "      <td>-0.520095</td>\n",
       "      <td>0.353447</td>\n",
       "      <td>-0.511689</td>\n",
       "      <td>0.991691</td>\n",
       "      <td>-0.962300</td>\n",
       "      <td>-0.290335</td>\n",
       "      <td>...</td>\n",
       "      <td>3.437219</td>\n",
       "      <td>79.783517</td>\n",
       "      <td>-721.981753</td>\n",
       "      <td>179.837862</td>\n",
       "      <td>229.007216</td>\n",
       "      <td>1</td>\n",
       "      <td>0</td>\n",
       "      <td>1</td>\n",
       "      <td>0</td>\n",
       "      <td>0</td>\n",
       "    </tr>\n",
       "    <tr>\n",
       "      <th>4</th>\n",
       "      <td>0.310317</td>\n",
       "      <td>-0.027634</td>\n",
       "      <td>-0.042412</td>\n",
       "      <td>-0.552697</td>\n",
       "      <td>-0.520095</td>\n",
       "      <td>0.353447</td>\n",
       "      <td>-0.511689</td>\n",
       "      <td>0.991691</td>\n",
       "      <td>-0.962300</td>\n",
       "      <td>-0.290335</td>\n",
       "      <td>...</td>\n",
       "      <td>3.437219</td>\n",
       "      <td>79.783517</td>\n",
       "      <td>-721.981753</td>\n",
       "      <td>179.837862</td>\n",
       "      <td>229.007216</td>\n",
       "      <td>1</td>\n",
       "      <td>0</td>\n",
       "      <td>1</td>\n",
       "      <td>0</td>\n",
       "      <td>0</td>\n",
       "    </tr>\n",
       "    <tr>\n",
       "      <th>...</th>\n",
       "      <td>...</td>\n",
       "      <td>...</td>\n",
       "      <td>...</td>\n",
       "      <td>...</td>\n",
       "      <td>...</td>\n",
       "      <td>...</td>\n",
       "      <td>...</td>\n",
       "      <td>...</td>\n",
       "      <td>...</td>\n",
       "      <td>...</td>\n",
       "      <td>...</td>\n",
       "      <td>...</td>\n",
       "      <td>...</td>\n",
       "      <td>...</td>\n",
       "      <td>...</td>\n",
       "      <td>...</td>\n",
       "      <td>...</td>\n",
       "      <td>...</td>\n",
       "      <td>...</td>\n",
       "      <td>...</td>\n",
       "      <td>...</td>\n",
       "    </tr>\n",
       "    <tr>\n",
       "      <th>35159</th>\n",
       "      <td>0.758667</td>\n",
       "      <td>-0.044600</td>\n",
       "      <td>-0.056858</td>\n",
       "      <td>1.445626</td>\n",
       "      <td>-0.871165</td>\n",
       "      <td>-0.129132</td>\n",
       "      <td>0.238300</td>\n",
       "      <td>-1.117700</td>\n",
       "      <td>1.348486</td>\n",
       "      <td>-0.938270</td>\n",
       "      <td>...</td>\n",
       "      <td>-32.451420</td>\n",
       "      <td>-218.129567</td>\n",
       "      <td>170.878768</td>\n",
       "      <td>197.539321</td>\n",
       "      <td>290.071628</td>\n",
       "      <td>0</td>\n",
       "      <td>0</td>\n",
       "      <td>0</td>\n",
       "      <td>0</td>\n",
       "      <td>0</td>\n",
       "    </tr>\n",
       "    <tr>\n",
       "      <th>35160</th>\n",
       "      <td>0.758667</td>\n",
       "      <td>-0.044600</td>\n",
       "      <td>-0.056858</td>\n",
       "      <td>1.445626</td>\n",
       "      <td>-0.871165</td>\n",
       "      <td>-0.129132</td>\n",
       "      <td>0.238300</td>\n",
       "      <td>-1.117700</td>\n",
       "      <td>1.348486</td>\n",
       "      <td>-0.938270</td>\n",
       "      <td>...</td>\n",
       "      <td>-32.451420</td>\n",
       "      <td>-218.129567</td>\n",
       "      <td>170.878768</td>\n",
       "      <td>197.539321</td>\n",
       "      <td>290.071628</td>\n",
       "      <td>0</td>\n",
       "      <td>0</td>\n",
       "      <td>0</td>\n",
       "      <td>0</td>\n",
       "      <td>0</td>\n",
       "    </tr>\n",
       "    <tr>\n",
       "      <th>35161</th>\n",
       "      <td>0.758667</td>\n",
       "      <td>-0.044600</td>\n",
       "      <td>-0.056858</td>\n",
       "      <td>1.445626</td>\n",
       "      <td>-0.871165</td>\n",
       "      <td>-0.129132</td>\n",
       "      <td>0.238300</td>\n",
       "      <td>-1.117700</td>\n",
       "      <td>1.348486</td>\n",
       "      <td>-0.938270</td>\n",
       "      <td>...</td>\n",
       "      <td>-32.451420</td>\n",
       "      <td>-218.129567</td>\n",
       "      <td>170.878768</td>\n",
       "      <td>197.539321</td>\n",
       "      <td>290.071628</td>\n",
       "      <td>0</td>\n",
       "      <td>0</td>\n",
       "      <td>0</td>\n",
       "      <td>0</td>\n",
       "      <td>0</td>\n",
       "    </tr>\n",
       "    <tr>\n",
       "      <th>35162</th>\n",
       "      <td>0.758667</td>\n",
       "      <td>-0.044600</td>\n",
       "      <td>-0.056858</td>\n",
       "      <td>1.445626</td>\n",
       "      <td>-0.871165</td>\n",
       "      <td>-0.129132</td>\n",
       "      <td>0.238300</td>\n",
       "      <td>-1.117700</td>\n",
       "      <td>1.348486</td>\n",
       "      <td>-0.938270</td>\n",
       "      <td>...</td>\n",
       "      <td>-32.451420</td>\n",
       "      <td>-218.129567</td>\n",
       "      <td>170.878768</td>\n",
       "      <td>197.539321</td>\n",
       "      <td>290.071628</td>\n",
       "      <td>0</td>\n",
       "      <td>0</td>\n",
       "      <td>0</td>\n",
       "      <td>0</td>\n",
       "      <td>0</td>\n",
       "    </tr>\n",
       "    <tr>\n",
       "      <th>35163</th>\n",
       "      <td>0.758667</td>\n",
       "      <td>-0.044600</td>\n",
       "      <td>-0.056858</td>\n",
       "      <td>1.445626</td>\n",
       "      <td>-0.871165</td>\n",
       "      <td>-0.129132</td>\n",
       "      <td>0.238300</td>\n",
       "      <td>-1.117700</td>\n",
       "      <td>1.348486</td>\n",
       "      <td>-0.938270</td>\n",
       "      <td>...</td>\n",
       "      <td>-32.451420</td>\n",
       "      <td>-218.129567</td>\n",
       "      <td>170.878768</td>\n",
       "      <td>197.539321</td>\n",
       "      <td>290.071628</td>\n",
       "      <td>0</td>\n",
       "      <td>0</td>\n",
       "      <td>0</td>\n",
       "      <td>0</td>\n",
       "      <td>0</td>\n",
       "    </tr>\n",
       "  </tbody>\n",
       "</table>\n",
       "<p>35164 rows × 119 columns</p>\n",
       "</div>"
      ],
      "text/plain": [
       "        mean 01   mean 02   mean 03   mean 04   mean 05   mean 06   mean 07  \\\n",
       "0      0.310317 -0.027634 -0.042412 -0.552697 -0.520095  0.353447 -0.511689   \n",
       "1      0.310317 -0.027634 -0.042412 -0.552697 -0.520095  0.353447 -0.511689   \n",
       "2      0.310317 -0.027634 -0.042412 -0.552697 -0.520095  0.353447 -0.511689   \n",
       "3      0.310317 -0.027634 -0.042412 -0.552697 -0.520095  0.353447 -0.511689   \n",
       "4      0.310317 -0.027634 -0.042412 -0.552697 -0.520095  0.353447 -0.511689   \n",
       "...         ...       ...       ...       ...       ...       ...       ...   \n",
       "35159  0.758667 -0.044600 -0.056858  1.445626 -0.871165 -0.129132  0.238300   \n",
       "35160  0.758667 -0.044600 -0.056858  1.445626 -0.871165 -0.129132  0.238300   \n",
       "35161  0.758667 -0.044600 -0.056858  1.445626 -0.871165 -0.129132  0.238300   \n",
       "35162  0.758667 -0.044600 -0.056858  1.445626 -0.871165 -0.129132  0.238300   \n",
       "35163  0.758667 -0.044600 -0.056858  1.445626 -0.871165 -0.129132  0.238300   \n",
       "\n",
       "        mean 08   mean 09   mean 10  ...     sum 15      sum 16      sum 17  \\\n",
       "0      0.991691 -0.962300 -0.290335  ...   3.437219   79.783517 -721.981753   \n",
       "1      0.991691 -0.962300 -0.290335  ...   3.437219   79.783517 -721.981753   \n",
       "2      0.991691 -0.962300 -0.290335  ...   3.437219   79.783517 -721.981753   \n",
       "3      0.991691 -0.962300 -0.290335  ...   3.437219   79.783517 -721.981753   \n",
       "4      0.991691 -0.962300 -0.290335  ...   3.437219   79.783517 -721.981753   \n",
       "...         ...       ...       ...  ...        ...         ...         ...   \n",
       "35159 -1.117700  1.348486 -0.938270  ... -32.451420 -218.129567  170.878768   \n",
       "35160 -1.117700  1.348486 -0.938270  ... -32.451420 -218.129567  170.878768   \n",
       "35161 -1.117700  1.348486 -0.938270  ... -32.451420 -218.129567  170.878768   \n",
       "35162 -1.117700  1.348486 -0.938270  ... -32.451420 -218.129567  170.878768   \n",
       "35163 -1.117700  1.348486 -0.938270  ... -32.451420 -218.129567  170.878768   \n",
       "\n",
       "           sum 18      sum 19  EQP 2_B  EQP 2_C  MODULE 2_B  MODULE 2_C  \\\n",
       "0      179.837862  229.007216        1        0           1           0   \n",
       "1      179.837862  229.007216        1        0           1           0   \n",
       "2      179.837862  229.007216        1        0           1           0   \n",
       "3      179.837862  229.007216        1        0           1           0   \n",
       "4      179.837862  229.007216        1        0           1           0   \n",
       "...           ...         ...      ...      ...         ...         ...   \n",
       "35159  197.539321  290.071628        0        0           0           0   \n",
       "35160  197.539321  290.071628        0        0           0           0   \n",
       "35161  197.539321  290.071628        0        0           0           0   \n",
       "35162  197.539321  290.071628        0        0           0           0   \n",
       "35163  197.539321  290.071628        0        0           0           0   \n",
       "\n",
       "       MODULE 2_D  \n",
       "0               0  \n",
       "1               0  \n",
       "2               0  \n",
       "3               0  \n",
       "4               0  \n",
       "...           ...  \n",
       "35159           0  \n",
       "35160           0  \n",
       "35161           0  \n",
       "35162           0  \n",
       "35163           0  \n",
       "\n",
       "[35164 rows x 119 columns]"
      ]
     },
     "execution_count": 32,
     "metadata": {},
     "output_type": "execute_result"
    }
   ],
   "source": [
    "data_x"
   ]
  },
  {
   "cell_type": "code",
   "execution_count": 33,
   "metadata": {},
   "outputs": [
    {
     "data": {
      "text/plain": [
       "0       -0.198842\n",
       "1       -0.006703\n",
       "2       -0.115168\n",
       "3       -0.000505\n",
       "4        0.442652\n",
       "           ...   \n",
       "35159   -0.759761\n",
       "35160   -0.465356\n",
       "35161   -0.434366\n",
       "35162   -0.400277\n",
       "35163   -0.555227\n",
       "Name: Response, Length: 35164, dtype: float64"
      ]
     },
     "execution_count": 33,
     "metadata": {},
     "output_type": "execute_result"
    }
   ],
   "source": [
    "data_y"
   ]
  },
  {
   "cell_type": "markdown",
   "metadata": {},
   "source": [
    "## 4. 전체 데이터에 대한 모델링"
   ]
  },
  {
   "cell_type": "markdown",
   "metadata": {},
   "source": [
    "#### 모델 구축을 위한 Train, Test 데이터 분리"
   ]
  },
  {
   "cell_type": "code",
   "execution_count": 34,
   "metadata": {},
   "outputs": [],
   "source": [
    "train_x, test_x, train_y, test_y = train_test_split(data_x, data_y, test_size=0.3, random_state=2020)"
   ]
  },
  {
   "cell_type": "markdown",
   "metadata": {},
   "source": [
    "#### 평균, 분산을 활용한 Column 별 정규화 진행"
   ]
  },
  {
   "cell_type": "code",
   "execution_count": 35,
   "metadata": {},
   "outputs": [],
   "source": [
    "sc = StandardScaler()\n",
    "train_x_sc = sc.fit_transform(train_x)\n",
    "test_x_sc = sc.fit_transform(test_x)"
   ]
  },
  {
   "cell_type": "markdown",
   "metadata": {},
   "source": [
    "### 전체 data에 대한 Linear 모델 구축\n",
    "#### statsmodels 의 OLS를 사용하여 선형회귀분석 시행(OLS: Ordinary Least Squares)\n",
    "+ 모델 선언: model = sm.OLS(Y데이터, X데이터)\n",
    "+ 모델 학습: model_trained = model.fit()"
   ]
  },
  {
   "cell_type": "code",
   "execution_count": 36,
   "metadata": {},
   "outputs": [],
   "source": [
    "model = sm.OLS(train_y, train_x_sc)"
   ]
  },
  {
   "cell_type": "code",
   "execution_count": 37,
   "metadata": {},
   "outputs": [],
   "source": [
    "model_trained = model.fit()"
   ]
  },
  {
   "cell_type": "markdown",
   "metadata": {},
   "source": [
    "## 5. 전체 데이터에 대한 모델 결과 해석"
   ]
  },
  {
   "cell_type": "markdown",
   "metadata": {},
   "source": [
    "+ R-sqared (결정계수, coefficient of determination): 모형의 성능\n",
    "+ coef (회귀계수): X가 한단위 증가할 때 Y의 변화량\n",
    "+ P>[t] (p-value): 0.1(or 0.05)이하일 때 변수가 유의미"
   ]
  },
  {
   "cell_type": "code",
   "execution_count": 38,
   "metadata": {},
   "outputs": [
    {
     "data": {
      "text/html": [
       "<table class=\"simpletable\">\n",
       "<caption>OLS Regression Results</caption>\n",
       "<tr>\n",
       "  <th>Dep. Variable:</th>        <td>Response</td>     <th>  R-squared:         </th> <td>   0.075</td> \n",
       "</tr>\n",
       "<tr>\n",
       "  <th>Model:</th>                   <td>OLS</td>       <th>  Adj. R-squared:    </th> <td>   0.071</td> \n",
       "</tr>\n",
       "<tr>\n",
       "  <th>Method:</th>             <td>Least Squares</td>  <th>  F-statistic:       </th> <td>   18.32</td> \n",
       "</tr>\n",
       "<tr>\n",
       "  <th>Date:</th>             <td>Sun, 02 Feb 2020</td> <th>  Prob (F-statistic):</th>  <td>  0.00</td>  \n",
       "</tr>\n",
       "<tr>\n",
       "  <th>Time:</th>                 <td>14:36:47</td>     <th>  Log-Likelihood:    </th> <td> -38580.</td> \n",
       "</tr>\n",
       "<tr>\n",
       "  <th>No. Observations:</th>      <td> 24614</td>      <th>  AIC:               </th> <td>7.738e+04</td>\n",
       "</tr>\n",
       "<tr>\n",
       "  <th>Df Residuals:</th>          <td> 24504</td>      <th>  BIC:               </th> <td>7.827e+04</td>\n",
       "</tr>\n",
       "<tr>\n",
       "  <th>Df Model:</th>              <td>   109</td>      <th>                     </th>     <td> </td>    \n",
       "</tr>\n",
       "<tr>\n",
       "  <th>Covariance Type:</th>      <td>nonrobust</td>    <th>                     </th>     <td> </td>    \n",
       "</tr>\n",
       "</table>\n",
       "<table class=\"simpletable\">\n",
       "<tr>\n",
       "    <td></td>       <th>coef</th>     <th>std err</th>      <th>t</th>      <th>P>|t|</th>  <th>[0.025</th>    <th>0.975]</th>  \n",
       "</tr>\n",
       "<tr>\n",
       "  <th>x1</th>    <td>   -6.6630</td> <td>   56.878</td> <td>   -0.117</td> <td> 0.907</td> <td> -118.147</td> <td>  104.821</td>\n",
       "</tr>\n",
       "<tr>\n",
       "  <th>x2</th>    <td>  -12.1045</td> <td>   20.541</td> <td>   -0.589</td> <td> 0.556</td> <td>  -52.367</td> <td>   28.158</td>\n",
       "</tr>\n",
       "<tr>\n",
       "  <th>x3</th>    <td>    2.2235</td> <td>   25.779</td> <td>    0.086</td> <td> 0.931</td> <td>  -48.306</td> <td>   52.753</td>\n",
       "</tr>\n",
       "<tr>\n",
       "  <th>x4</th>    <td>  130.8573</td> <td>   31.504</td> <td>    4.154</td> <td> 0.000</td> <td>   69.108</td> <td>  192.606</td>\n",
       "</tr>\n",
       "<tr>\n",
       "  <th>x5</th>    <td>  -16.5098</td> <td>   53.270</td> <td>   -0.310</td> <td> 0.757</td> <td> -120.923</td> <td>   87.903</td>\n",
       "</tr>\n",
       "<tr>\n",
       "  <th>x6</th>    <td>  -74.5450</td> <td>   30.209</td> <td>   -2.468</td> <td> 0.014</td> <td> -133.756</td> <td>  -15.334</td>\n",
       "</tr>\n",
       "<tr>\n",
       "  <th>x7</th>    <td>    2.4204</td> <td>   61.030</td> <td>    0.040</td> <td> 0.968</td> <td> -117.203</td> <td>  122.044</td>\n",
       "</tr>\n",
       "<tr>\n",
       "  <th>x8</th>    <td>  178.7708</td> <td>   67.112</td> <td>    2.664</td> <td> 0.008</td> <td>   47.228</td> <td>  310.314</td>\n",
       "</tr>\n",
       "<tr>\n",
       "  <th>x9</th>    <td>   67.7917</td> <td>   40.103</td> <td>    1.690</td> <td> 0.091</td> <td>  -10.812</td> <td>  146.396</td>\n",
       "</tr>\n",
       "<tr>\n",
       "  <th>x10</th>   <td>  151.3105</td> <td>   46.381</td> <td>    3.262</td> <td> 0.001</td> <td>   60.400</td> <td>  242.221</td>\n",
       "</tr>\n",
       "<tr>\n",
       "  <th>x11</th>   <td> -206.8925</td> <td>   78.987</td> <td>   -2.619</td> <td> 0.009</td> <td> -361.712</td> <td>  -52.073</td>\n",
       "</tr>\n",
       "<tr>\n",
       "  <th>x12</th>   <td>  -44.0805</td> <td>   44.410</td> <td>   -0.993</td> <td> 0.321</td> <td> -131.127</td> <td>   42.966</td>\n",
       "</tr>\n",
       "<tr>\n",
       "  <th>x13</th>   <td>   19.3164</td> <td>   14.345</td> <td>    1.347</td> <td> 0.178</td> <td>   -8.801</td> <td>   47.433</td>\n",
       "</tr>\n",
       "<tr>\n",
       "  <th>x14</th>   <td>   19.3164</td> <td>   14.345</td> <td>    1.347</td> <td> 0.178</td> <td>   -8.801</td> <td>   47.433</td>\n",
       "</tr>\n",
       "<tr>\n",
       "  <th>x15</th>   <td>   14.4526</td> <td>   17.017</td> <td>    0.849</td> <td> 0.396</td> <td>  -18.902</td> <td>   47.807</td>\n",
       "</tr>\n",
       "<tr>\n",
       "  <th>x16</th>   <td> -102.1137</td> <td>   37.849</td> <td>   -2.698</td> <td> 0.007</td> <td> -176.299</td> <td>  -27.928</td>\n",
       "</tr>\n",
       "<tr>\n",
       "  <th>x17</th>   <td> -152.9619</td> <td>   45.727</td> <td>   -3.345</td> <td> 0.001</td> <td> -242.590</td> <td>  -63.333</td>\n",
       "</tr>\n",
       "<tr>\n",
       "  <th>x18</th>   <td>  117.9333</td> <td>   82.192</td> <td>    1.435</td> <td> 0.151</td> <td>  -43.168</td> <td>  279.035</td>\n",
       "</tr>\n",
       "<tr>\n",
       "  <th>x19</th>   <td>   -3.8291</td> <td>   10.918</td> <td>   -0.351</td> <td> 0.726</td> <td>  -25.229</td> <td>   17.571</td>\n",
       "</tr>\n",
       "<tr>\n",
       "  <th>x20</th>   <td>    0.1882</td> <td>    0.074</td> <td>    2.538</td> <td> 0.011</td> <td>    0.043</td> <td>    0.334</td>\n",
       "</tr>\n",
       "<tr>\n",
       "  <th>x21</th>   <td>    0.0528</td> <td>    0.018</td> <td>    2.905</td> <td> 0.004</td> <td>    0.017</td> <td>    0.088</td>\n",
       "</tr>\n",
       "<tr>\n",
       "  <th>x22</th>   <td>   -0.0184</td> <td>    0.009</td> <td>   -2.156</td> <td> 0.031</td> <td>   -0.035</td> <td>   -0.002</td>\n",
       "</tr>\n",
       "<tr>\n",
       "  <th>x23</th>   <td>    0.6598</td> <td>    0.284</td> <td>    2.319</td> <td> 0.020</td> <td>    0.102</td> <td>    1.217</td>\n",
       "</tr>\n",
       "<tr>\n",
       "  <th>x24</th>   <td>    0.6056</td> <td>    0.900</td> <td>    0.673</td> <td> 0.501</td> <td>   -1.158</td> <td>    2.369</td>\n",
       "</tr>\n",
       "<tr>\n",
       "  <th>x25</th>   <td>   -0.0728</td> <td>    0.027</td> <td>   -2.694</td> <td> 0.007</td> <td>   -0.126</td> <td>   -0.020</td>\n",
       "</tr>\n",
       "<tr>\n",
       "  <th>x26</th>   <td>   -0.0822</td> <td>    0.019</td> <td>   -4.388</td> <td> 0.000</td> <td>   -0.119</td> <td>   -0.045</td>\n",
       "</tr>\n",
       "<tr>\n",
       "  <th>x27</th>   <td>    0.1916</td> <td>    0.040</td> <td>    4.779</td> <td> 0.000</td> <td>    0.113</td> <td>    0.270</td>\n",
       "</tr>\n",
       "<tr>\n",
       "  <th>x28</th>   <td>    0.2314</td> <td>    0.041</td> <td>    5.639</td> <td> 0.000</td> <td>    0.151</td> <td>    0.312</td>\n",
       "</tr>\n",
       "<tr>\n",
       "  <th>x29</th>   <td>   -0.0679</td> <td>    0.065</td> <td>   -1.046</td> <td> 0.295</td> <td>   -0.195</td> <td>    0.059</td>\n",
       "</tr>\n",
       "<tr>\n",
       "  <th>x30</th>   <td>   -0.2576</td> <td>    0.061</td> <td>   -4.217</td> <td> 0.000</td> <td>   -0.377</td> <td>   -0.138</td>\n",
       "</tr>\n",
       "<tr>\n",
       "  <th>x31</th>   <td>    0.2194</td> <td>    0.220</td> <td>    0.999</td> <td> 0.318</td> <td>   -0.211</td> <td>    0.650</td>\n",
       "</tr>\n",
       "<tr>\n",
       "  <th>x32</th>   <td>   -0.0322</td> <td>    0.011</td> <td>   -2.906</td> <td> 0.004</td> <td>   -0.054</td> <td>   -0.010</td>\n",
       "</tr>\n",
       "<tr>\n",
       "  <th>x33</th>   <td>   -0.0322</td> <td>    0.011</td> <td>   -2.906</td> <td> 0.004</td> <td>   -0.054</td> <td>   -0.010</td>\n",
       "</tr>\n",
       "<tr>\n",
       "  <th>x34</th>   <td>    0.0130</td> <td>    0.024</td> <td>    0.548</td> <td> 0.583</td> <td>   -0.034</td> <td>    0.060</td>\n",
       "</tr>\n",
       "<tr>\n",
       "  <th>x35</th>   <td>    0.1740</td> <td>    0.065</td> <td>    2.692</td> <td> 0.007</td> <td>    0.047</td> <td>    0.301</td>\n",
       "</tr>\n",
       "<tr>\n",
       "  <th>x36</th>   <td>    0.6422</td> <td>    0.258</td> <td>    2.492</td> <td> 0.013</td> <td>    0.137</td> <td>    1.147</td>\n",
       "</tr>\n",
       "<tr>\n",
       "  <th>x37</th>   <td>    0.0180</td> <td>    0.381</td> <td>    0.047</td> <td> 0.962</td> <td>   -0.729</td> <td>    0.765</td>\n",
       "</tr>\n",
       "<tr>\n",
       "  <th>x38</th>   <td>    0.0988</td> <td>    0.042</td> <td>    2.332</td> <td> 0.020</td> <td>    0.016</td> <td>    0.182</td>\n",
       "</tr>\n",
       "<tr>\n",
       "  <th>x39</th>   <td>   -0.0426</td> <td>    0.030</td> <td>   -1.423</td> <td> 0.155</td> <td>   -0.101</td> <td>    0.016</td>\n",
       "</tr>\n",
       "<tr>\n",
       "  <th>x40</th>   <td>    0.0148</td> <td>    0.020</td> <td>    0.734</td> <td> 0.463</td> <td>   -0.025</td> <td>    0.054</td>\n",
       "</tr>\n",
       "<tr>\n",
       "  <th>const</th> <td>   -0.0407</td> <td>    0.004</td> <td>  -10.988</td> <td> 0.000</td> <td>   -0.048</td> <td>   -0.033</td>\n",
       "</tr>\n",
       "<tr>\n",
       "  <th>x41</th>   <td>   -0.5645</td> <td>    0.085</td> <td>   -6.609</td> <td> 0.000</td> <td>   -0.732</td> <td>   -0.397</td>\n",
       "</tr>\n",
       "<tr>\n",
       "  <th>x42</th>   <td>    0.7729</td> <td>    0.904</td> <td>    0.855</td> <td> 0.392</td> <td>   -0.998</td> <td>    2.544</td>\n",
       "</tr>\n",
       "<tr>\n",
       "  <th>x43</th>   <td>    0.0352</td> <td>    0.022</td> <td>    1.599</td> <td> 0.110</td> <td>   -0.008</td> <td>    0.078</td>\n",
       "</tr>\n",
       "<tr>\n",
       "  <th>x44</th>   <td>   -0.0262</td> <td>    0.014</td> <td>   -1.827</td> <td> 0.068</td> <td>   -0.054</td> <td>    0.002</td>\n",
       "</tr>\n",
       "<tr>\n",
       "  <th>x45</th>   <td>   -0.1666</td> <td>    0.040</td> <td>   -4.183</td> <td> 0.000</td> <td>   -0.245</td> <td>   -0.089</td>\n",
       "</tr>\n",
       "<tr>\n",
       "  <th>x46</th>   <td>    0.1857</td> <td>    0.047</td> <td>    3.983</td> <td> 0.000</td> <td>    0.094</td> <td>    0.277</td>\n",
       "</tr>\n",
       "<tr>\n",
       "  <th>x47</th>   <td>    0.1460</td> <td>    0.049</td> <td>    2.984</td> <td> 0.003</td> <td>    0.050</td> <td>    0.242</td>\n",
       "</tr>\n",
       "<tr>\n",
       "  <th>x48</th>   <td>    0.0817</td> <td>    0.056</td> <td>    1.462</td> <td> 0.144</td> <td>   -0.028</td> <td>    0.191</td>\n",
       "</tr>\n",
       "<tr>\n",
       "  <th>x49</th>   <td>   -0.4062</td> <td>    0.121</td> <td>   -3.369</td> <td> 0.001</td> <td>   -0.643</td> <td>   -0.170</td>\n",
       "</tr>\n",
       "<tr>\n",
       "  <th>x50</th>   <td>    0.0215</td> <td>    0.015</td> <td>    1.462</td> <td> 0.144</td> <td>   -0.007</td> <td>    0.050</td>\n",
       "</tr>\n",
       "<tr>\n",
       "  <th>x51</th>   <td>    0.0215</td> <td>    0.015</td> <td>    1.462</td> <td> 0.144</td> <td>   -0.007</td> <td>    0.050</td>\n",
       "</tr>\n",
       "<tr>\n",
       "  <th>x52</th>   <td>   -0.0308</td> <td>    0.038</td> <td>   -0.803</td> <td> 0.422</td> <td>   -0.106</td> <td>    0.044</td>\n",
       "</tr>\n",
       "<tr>\n",
       "  <th>x53</th>   <td>   -0.2025</td> <td>    0.051</td> <td>   -3.950</td> <td> 0.000</td> <td>   -0.303</td> <td>   -0.102</td>\n",
       "</tr>\n",
       "<tr>\n",
       "  <th>x54</th>   <td>   -0.0538</td> <td>    0.039</td> <td>   -1.389</td> <td> 0.165</td> <td>   -0.130</td> <td>    0.022</td>\n",
       "</tr>\n",
       "<tr>\n",
       "  <th>x55</th>   <td>    1.1056</td> <td>    0.402</td> <td>    2.750</td> <td> 0.006</td> <td>    0.318</td> <td>    1.894</td>\n",
       "</tr>\n",
       "<tr>\n",
       "  <th>x56</th>   <td>    0.0145</td> <td>    0.048</td> <td>    0.305</td> <td> 0.760</td> <td>   -0.079</td> <td>    0.108</td>\n",
       "</tr>\n",
       "<tr>\n",
       "  <th>x57</th>   <td>   -0.1215</td> <td>    0.036</td> <td>   -3.397</td> <td> 0.001</td> <td>   -0.192</td> <td>   -0.051</td>\n",
       "</tr>\n",
       "<tr>\n",
       "  <th>x58</th>   <td>   -0.1582</td> <td>    0.033</td> <td>   -4.767</td> <td> 0.000</td> <td>   -0.223</td> <td>   -0.093</td>\n",
       "</tr>\n",
       "<tr>\n",
       "  <th>x59</th>   <td>    0.0043</td> <td>    0.026</td> <td>    0.163</td> <td> 0.871</td> <td>   -0.048</td> <td>    0.056</td>\n",
       "</tr>\n",
       "<tr>\n",
       "  <th>x60</th>   <td>   -0.1664</td> <td>    0.078</td> <td>   -2.136</td> <td> 0.033</td> <td>   -0.319</td> <td>   -0.014</td>\n",
       "</tr>\n",
       "<tr>\n",
       "  <th>x61</th>   <td>    0.0164</td> <td>    0.011</td> <td>    1.507</td> <td> 0.132</td> <td>   -0.005</td> <td>    0.038</td>\n",
       "</tr>\n",
       "<tr>\n",
       "  <th>x62</th>   <td>    0.0137</td> <td>    0.009</td> <td>    1.446</td> <td> 0.148</td> <td>   -0.005</td> <td>    0.032</td>\n",
       "</tr>\n",
       "<tr>\n",
       "  <th>x63</th>   <td>   -0.0506</td> <td>    0.013</td> <td>   -4.018</td> <td> 0.000</td> <td>   -0.075</td> <td>   -0.026</td>\n",
       "</tr>\n",
       "<tr>\n",
       "  <th>x64</th>   <td>   -0.1063</td> <td>    0.016</td> <td>   -6.765</td> <td> 0.000</td> <td>   -0.137</td> <td>   -0.075</td>\n",
       "</tr>\n",
       "<tr>\n",
       "  <th>x65</th>   <td>   -0.0185</td> <td>    0.015</td> <td>   -1.200</td> <td> 0.230</td> <td>   -0.049</td> <td>    0.012</td>\n",
       "</tr>\n",
       "<tr>\n",
       "  <th>x66</th>   <td>   -0.0369</td> <td>    0.015</td> <td>   -2.429</td> <td> 0.015</td> <td>   -0.067</td> <td>   -0.007</td>\n",
       "</tr>\n",
       "<tr>\n",
       "  <th>x67</th>   <td>   -0.0102</td> <td>    0.018</td> <td>   -0.554</td> <td> 0.580</td> <td>   -0.046</td> <td>    0.026</td>\n",
       "</tr>\n",
       "<tr>\n",
       "  <th>x68</th>   <td>    0.0765</td> <td>    0.031</td> <td>    2.447</td> <td> 0.014</td> <td>    0.015</td> <td>    0.138</td>\n",
       "</tr>\n",
       "<tr>\n",
       "  <th>x69</th>   <td>    0.0479</td> <td>    0.019</td> <td>    2.477</td> <td> 0.013</td> <td>    0.010</td> <td>    0.086</td>\n",
       "</tr>\n",
       "<tr>\n",
       "  <th>x70</th>   <td>    0.0479</td> <td>    0.019</td> <td>    2.477</td> <td> 0.013</td> <td>    0.010</td> <td>    0.086</td>\n",
       "</tr>\n",
       "<tr>\n",
       "  <th>x71</th>   <td>   -0.0034</td> <td>    0.053</td> <td>   -0.064</td> <td> 0.949</td> <td>   -0.108</td> <td>    0.101</td>\n",
       "</tr>\n",
       "<tr>\n",
       "  <th>x72</th>   <td>   -0.3056</td> <td>    0.052</td> <td>   -5.877</td> <td> 0.000</td> <td>   -0.408</td> <td>   -0.204</td>\n",
       "</tr>\n",
       "<tr>\n",
       "  <th>x73</th>   <td>   -0.0816</td> <td>    0.025</td> <td>   -3.305</td> <td> 0.001</td> <td>   -0.130</td> <td>   -0.033</td>\n",
       "</tr>\n",
       "<tr>\n",
       "  <th>x74</th>   <td>   -0.0169</td> <td>    0.009</td> <td>   -1.856</td> <td> 0.063</td> <td>   -0.035</td> <td>    0.001</td>\n",
       "</tr>\n",
       "<tr>\n",
       "  <th>x75</th>   <td>   -0.0583</td> <td>    0.021</td> <td>   -2.823</td> <td> 0.005</td> <td>   -0.099</td> <td>   -0.018</td>\n",
       "</tr>\n",
       "<tr>\n",
       "  <th>x76</th>   <td>    0.3878</td> <td>    0.117</td> <td>    3.301</td> <td> 0.001</td> <td>    0.158</td> <td>    0.618</td>\n",
       "</tr>\n",
       "<tr>\n",
       "  <th>x77</th>   <td>    0.0407</td> <td>    0.004</td> <td>   10.988</td> <td> 0.000</td> <td>    0.033</td> <td>    0.048</td>\n",
       "</tr>\n",
       "<tr>\n",
       "  <th>x78</th>   <td>    0.0195</td> <td>    0.016</td> <td>    1.212</td> <td> 0.225</td> <td>   -0.012</td> <td>    0.051</td>\n",
       "</tr>\n",
       "<tr>\n",
       "  <th>x79</th>   <td>   -1.0112</td> <td>    0.782</td> <td>   -1.293</td> <td> 0.196</td> <td>   -2.544</td> <td>    0.522</td>\n",
       "</tr>\n",
       "<tr>\n",
       "  <th>x80</th>   <td>   -6.0024</td> <td>    1.350</td> <td>   -4.447</td> <td> 0.000</td> <td>   -8.648</td> <td>   -3.357</td>\n",
       "</tr>\n",
       "<tr>\n",
       "  <th>x81</th>   <td>    0.0350</td> <td>    0.041</td> <td>    0.849</td> <td> 0.396</td> <td>   -0.046</td> <td>    0.116</td>\n",
       "</tr>\n",
       "<tr>\n",
       "  <th>x82</th>   <td>    0.0716</td> <td>    0.025</td> <td>    2.876</td> <td> 0.004</td> <td>    0.023</td> <td>    0.120</td>\n",
       "</tr>\n",
       "<tr>\n",
       "  <th>x83</th>   <td>   -0.0358</td> <td>    0.070</td> <td>   -0.512</td> <td> 0.609</td> <td>   -0.173</td> <td>    0.101</td>\n",
       "</tr>\n",
       "<tr>\n",
       "  <th>x84</th>   <td>   -0.1624</td> <td>    0.052</td> <td>   -3.115</td> <td> 0.002</td> <td>   -0.265</td> <td>   -0.060</td>\n",
       "</tr>\n",
       "<tr>\n",
       "  <th>x85</th>   <td>    0.0818</td> <td>    0.069</td> <td>    1.189</td> <td> 0.235</td> <td>   -0.053</td> <td>    0.217</td>\n",
       "</tr>\n",
       "<tr>\n",
       "  <th>x86</th>   <td>    0.0278</td> <td>    0.099</td> <td>    0.281</td> <td> 0.779</td> <td>   -0.166</td> <td>    0.221</td>\n",
       "</tr>\n",
       "<tr>\n",
       "  <th>x87</th>   <td>   -0.8060</td> <td>    0.410</td> <td>   -1.965</td> <td> 0.049</td> <td>   -1.610</td> <td>   -0.002</td>\n",
       "</tr>\n",
       "<tr>\n",
       "  <th>x88</th>   <td>   -0.0040</td> <td>    0.016</td> <td>   -0.257</td> <td> 0.797</td> <td>   -0.034</td> <td>    0.026</td>\n",
       "</tr>\n",
       "<tr>\n",
       "  <th>x89</th>   <td>   -0.0040</td> <td>    0.016</td> <td>   -0.257</td> <td> 0.797</td> <td>   -0.034</td> <td>    0.026</td>\n",
       "</tr>\n",
       "<tr>\n",
       "  <th>x90</th>   <td>    0.0113</td> <td>    0.024</td> <td>    0.478</td> <td> 0.632</td> <td>   -0.035</td> <td>    0.058</td>\n",
       "</tr>\n",
       "<tr>\n",
       "  <th>x91</th>   <td>    0.1900</td> <td>    0.070</td> <td>    2.696</td> <td> 0.007</td> <td>    0.052</td> <td>    0.328</td>\n",
       "</tr>\n",
       "<tr>\n",
       "  <th>x92</th>   <td>    0.8130</td> <td>    0.620</td> <td>    1.311</td> <td> 0.190</td> <td>   -0.402</td> <td>    2.028</td>\n",
       "</tr>\n",
       "<tr>\n",
       "  <th>x93</th>   <td>    1.4097</td> <td>    0.634</td> <td>    2.225</td> <td> 0.026</td> <td>    0.168</td> <td>    2.652</td>\n",
       "</tr>\n",
       "<tr>\n",
       "  <th>x94</th>   <td>    0.0591</td> <td>    0.087</td> <td>    0.680</td> <td> 0.496</td> <td>   -0.111</td> <td>    0.229</td>\n",
       "</tr>\n",
       "<tr>\n",
       "  <th>x95</th>   <td>    5.9780</td> <td>   56.870</td> <td>    0.105</td> <td> 0.916</td> <td> -105.491</td> <td>  117.447</td>\n",
       "</tr>\n",
       "<tr>\n",
       "  <th>x96</th>   <td>   12.1395</td> <td>   20.545</td> <td>    0.591</td> <td> 0.555</td> <td>  -28.130</td> <td>   52.409</td>\n",
       "</tr>\n",
       "<tr>\n",
       "  <th>x97</th>   <td>   -2.2403</td> <td>   25.783</td> <td>   -0.087</td> <td> 0.931</td> <td>  -52.777</td> <td>   48.296</td>\n",
       "</tr>\n",
       "<tr>\n",
       "  <th>x98</th>   <td> -129.7493</td> <td>   31.490</td> <td>   -4.120</td> <td> 0.000</td> <td> -191.472</td> <td>  -68.027</td>\n",
       "</tr>\n",
       "<tr>\n",
       "  <th>x99</th>   <td>   20.8977</td> <td>   53.231</td> <td>    0.393</td> <td> 0.695</td> <td>  -83.439</td> <td>  125.234</td>\n",
       "</tr>\n",
       "<tr>\n",
       "  <th>x100</th>  <td>   74.4743</td> <td>   30.212</td> <td>    2.465</td> <td> 0.014</td> <td>   15.257</td> <td>  133.691</td>\n",
       "</tr>\n",
       "<tr>\n",
       "  <th>x101</th>  <td>   -2.2680</td> <td>   61.025</td> <td>   -0.037</td> <td> 0.970</td> <td> -121.880</td> <td>  117.344</td>\n",
       "</tr>\n",
       "<tr>\n",
       "  <th>x102</th>  <td> -178.9273</td> <td>   67.111</td> <td>   -2.666</td> <td> 0.008</td> <td> -310.469</td> <td>  -47.385</td>\n",
       "</tr>\n",
       "<tr>\n",
       "  <th>x103</th>  <td>  -67.8092</td> <td>   40.097</td> <td>   -1.691</td> <td> 0.091</td> <td> -146.401</td> <td>   10.783</td>\n",
       "</tr>\n",
       "<tr>\n",
       "  <th>x104</th>  <td> -151.4981</td> <td>   46.378</td> <td>   -3.267</td> <td> 0.001</td> <td> -242.402</td> <td>  -60.594</td>\n",
       "</tr>\n",
       "<tr>\n",
       "  <th>x105</th>  <td>  206.5276</td> <td>   78.982</td> <td>    2.615</td> <td> 0.009</td> <td>   51.718</td> <td>  361.337</td>\n",
       "</tr>\n",
       "<tr>\n",
       "  <th>x106</th>  <td>   45.7492</td> <td>   44.386</td> <td>    1.031</td> <td> 0.303</td> <td>  -41.250</td> <td>  132.748</td>\n",
       "</tr>\n",
       "<tr>\n",
       "  <th>x107</th>  <td>  -19.3063</td> <td>   14.346</td> <td>   -1.346</td> <td> 0.178</td> <td>  -47.425</td> <td>    8.813</td>\n",
       "</tr>\n",
       "<tr>\n",
       "  <th>x108</th>  <td>  -19.3063</td> <td>   14.346</td> <td>   -1.346</td> <td> 0.178</td> <td>  -47.425</td> <td>    8.813</td>\n",
       "</tr>\n",
       "<tr>\n",
       "  <th>x109</th>  <td>  -14.3532</td> <td>   17.016</td> <td>   -0.844</td> <td> 0.399</td> <td>  -47.705</td> <td>   18.998</td>\n",
       "</tr>\n",
       "<tr>\n",
       "  <th>x110</th>  <td>  101.6725</td> <td>   37.844</td> <td>    2.687</td> <td> 0.007</td> <td>   27.496</td> <td>  175.849</td>\n",
       "</tr>\n",
       "<tr>\n",
       "  <th>x111</th>  <td>  151.2168</td> <td>   45.681</td> <td>    3.310</td> <td> 0.001</td> <td>   61.680</td> <td>  240.754</td>\n",
       "</tr>\n",
       "<tr>\n",
       "  <th>x112</th>  <td> -120.6941</td> <td>   82.206</td> <td>   -1.468</td> <td> 0.142</td> <td> -281.823</td> <td>   40.435</td>\n",
       "</tr>\n",
       "<tr>\n",
       "  <th>x113</th>  <td>    3.6684</td> <td>   10.927</td> <td>    0.336</td> <td> 0.737</td> <td>  -17.749</td> <td>   25.086</td>\n",
       "</tr>\n",
       "<tr>\n",
       "  <th>x114</th>  <td>    0.8124</td> <td>    0.064</td> <td>   12.646</td> <td> 0.000</td> <td>    0.686</td> <td>    0.938</td>\n",
       "</tr>\n",
       "<tr>\n",
       "  <th>x115</th>  <td>    0.4449</td> <td>    0.187</td> <td>    2.379</td> <td> 0.017</td> <td>    0.078</td> <td>    0.811</td>\n",
       "</tr>\n",
       "<tr>\n",
       "  <th>x116</th>  <td>    0.8162</td> <td>    0.082</td> <td>    9.983</td> <td> 0.000</td> <td>    0.656</td> <td>    0.976</td>\n",
       "</tr>\n",
       "<tr>\n",
       "  <th>x117</th>  <td>    0.0277</td> <td>    0.061</td> <td>    0.452</td> <td> 0.651</td> <td>   -0.092</td> <td>    0.148</td>\n",
       "</tr>\n",
       "<tr>\n",
       "  <th>x118</th>  <td>    0.4449</td> <td>    0.187</td> <td>    2.379</td> <td> 0.017</td> <td>    0.078</td> <td>    0.811</td>\n",
       "</tr>\n",
       "</table>\n",
       "<table class=\"simpletable\">\n",
       "<tr>\n",
       "  <th>Omnibus:</th>       <td>26205.666</td> <th>  Durbin-Watson:     </th>  <td>   1.999</td>  \n",
       "</tr>\n",
       "<tr>\n",
       "  <th>Prob(Omnibus):</th>  <td> 0.000</td>   <th>  Jarque-Bera (JB):  </th> <td>1674666.770</td>\n",
       "</tr>\n",
       "<tr>\n",
       "  <th>Skew:</th>           <td> 5.510</td>   <th>  Prob(JB):          </th>  <td>    0.00</td>  \n",
       "</tr>\n",
       "<tr>\n",
       "  <th>Kurtosis:</th>       <td>41.877</td>   <th>  Cond. No.          </th>  <td>1.37e+16</td>  \n",
       "</tr>\n",
       "</table><br/><br/>Warnings:<br/>[1] Standard Errors assume that the covariance matrix of the errors is correctly specified.<br/>[2] The smallest eigenvalue is 4.4e-27. This might indicate that there are<br/>strong multicollinearity problems or that the design matrix is singular."
      ],
      "text/plain": [
       "<class 'statsmodels.iolib.summary.Summary'>\n",
       "\"\"\"\n",
       "                            OLS Regression Results                            \n",
       "==============================================================================\n",
       "Dep. Variable:               Response   R-squared:                       0.075\n",
       "Model:                            OLS   Adj. R-squared:                  0.071\n",
       "Method:                 Least Squares   F-statistic:                     18.32\n",
       "Date:                Sun, 02 Feb 2020   Prob (F-statistic):               0.00\n",
       "Time:                        14:36:47   Log-Likelihood:                -38580.\n",
       "No. Observations:               24614   AIC:                         7.738e+04\n",
       "Df Residuals:                   24504   BIC:                         7.827e+04\n",
       "Df Model:                         109                                         \n",
       "Covariance Type:            nonrobust                                         \n",
       "==============================================================================\n",
       "                 coef    std err          t      P>|t|      [0.025      0.975]\n",
       "------------------------------------------------------------------------------\n",
       "x1            -6.6630     56.878     -0.117      0.907    -118.147     104.821\n",
       "x2           -12.1045     20.541     -0.589      0.556     -52.367      28.158\n",
       "x3             2.2235     25.779      0.086      0.931     -48.306      52.753\n",
       "x4           130.8573     31.504      4.154      0.000      69.108     192.606\n",
       "x5           -16.5098     53.270     -0.310      0.757    -120.923      87.903\n",
       "x6           -74.5450     30.209     -2.468      0.014    -133.756     -15.334\n",
       "x7             2.4204     61.030      0.040      0.968    -117.203     122.044\n",
       "x8           178.7708     67.112      2.664      0.008      47.228     310.314\n",
       "x9            67.7917     40.103      1.690      0.091     -10.812     146.396\n",
       "x10          151.3105     46.381      3.262      0.001      60.400     242.221\n",
       "x11         -206.8925     78.987     -2.619      0.009    -361.712     -52.073\n",
       "x12          -44.0805     44.410     -0.993      0.321    -131.127      42.966\n",
       "x13           19.3164     14.345      1.347      0.178      -8.801      47.433\n",
       "x14           19.3164     14.345      1.347      0.178      -8.801      47.433\n",
       "x15           14.4526     17.017      0.849      0.396     -18.902      47.807\n",
       "x16         -102.1137     37.849     -2.698      0.007    -176.299     -27.928\n",
       "x17         -152.9619     45.727     -3.345      0.001    -242.590     -63.333\n",
       "x18          117.9333     82.192      1.435      0.151     -43.168     279.035\n",
       "x19           -3.8291     10.918     -0.351      0.726     -25.229      17.571\n",
       "x20            0.1882      0.074      2.538      0.011       0.043       0.334\n",
       "x21            0.0528      0.018      2.905      0.004       0.017       0.088\n",
       "x22           -0.0184      0.009     -2.156      0.031      -0.035      -0.002\n",
       "x23            0.6598      0.284      2.319      0.020       0.102       1.217\n",
       "x24            0.6056      0.900      0.673      0.501      -1.158       2.369\n",
       "x25           -0.0728      0.027     -2.694      0.007      -0.126      -0.020\n",
       "x26           -0.0822      0.019     -4.388      0.000      -0.119      -0.045\n",
       "x27            0.1916      0.040      4.779      0.000       0.113       0.270\n",
       "x28            0.2314      0.041      5.639      0.000       0.151       0.312\n",
       "x29           -0.0679      0.065     -1.046      0.295      -0.195       0.059\n",
       "x30           -0.2576      0.061     -4.217      0.000      -0.377      -0.138\n",
       "x31            0.2194      0.220      0.999      0.318      -0.211       0.650\n",
       "x32           -0.0322      0.011     -2.906      0.004      -0.054      -0.010\n",
       "x33           -0.0322      0.011     -2.906      0.004      -0.054      -0.010\n",
       "x34            0.0130      0.024      0.548      0.583      -0.034       0.060\n",
       "x35            0.1740      0.065      2.692      0.007       0.047       0.301\n",
       "x36            0.6422      0.258      2.492      0.013       0.137       1.147\n",
       "x37            0.0180      0.381      0.047      0.962      -0.729       0.765\n",
       "x38            0.0988      0.042      2.332      0.020       0.016       0.182\n",
       "x39           -0.0426      0.030     -1.423      0.155      -0.101       0.016\n",
       "x40            0.0148      0.020      0.734      0.463      -0.025       0.054\n",
       "const         -0.0407      0.004    -10.988      0.000      -0.048      -0.033\n",
       "x41           -0.5645      0.085     -6.609      0.000      -0.732      -0.397\n",
       "x42            0.7729      0.904      0.855      0.392      -0.998       2.544\n",
       "x43            0.0352      0.022      1.599      0.110      -0.008       0.078\n",
       "x44           -0.0262      0.014     -1.827      0.068      -0.054       0.002\n",
       "x45           -0.1666      0.040     -4.183      0.000      -0.245      -0.089\n",
       "x46            0.1857      0.047      3.983      0.000       0.094       0.277\n",
       "x47            0.1460      0.049      2.984      0.003       0.050       0.242\n",
       "x48            0.0817      0.056      1.462      0.144      -0.028       0.191\n",
       "x49           -0.4062      0.121     -3.369      0.001      -0.643      -0.170\n",
       "x50            0.0215      0.015      1.462      0.144      -0.007       0.050\n",
       "x51            0.0215      0.015      1.462      0.144      -0.007       0.050\n",
       "x52           -0.0308      0.038     -0.803      0.422      -0.106       0.044\n",
       "x53           -0.2025      0.051     -3.950      0.000      -0.303      -0.102\n",
       "x54           -0.0538      0.039     -1.389      0.165      -0.130       0.022\n",
       "x55            1.1056      0.402      2.750      0.006       0.318       1.894\n",
       "x56            0.0145      0.048      0.305      0.760      -0.079       0.108\n",
       "x57           -0.1215      0.036     -3.397      0.001      -0.192      -0.051\n",
       "x58           -0.1582      0.033     -4.767      0.000      -0.223      -0.093\n",
       "x59            0.0043      0.026      0.163      0.871      -0.048       0.056\n",
       "x60           -0.1664      0.078     -2.136      0.033      -0.319      -0.014\n",
       "x61            0.0164      0.011      1.507      0.132      -0.005       0.038\n",
       "x62            0.0137      0.009      1.446      0.148      -0.005       0.032\n",
       "x63           -0.0506      0.013     -4.018      0.000      -0.075      -0.026\n",
       "x64           -0.1063      0.016     -6.765      0.000      -0.137      -0.075\n",
       "x65           -0.0185      0.015     -1.200      0.230      -0.049       0.012\n",
       "x66           -0.0369      0.015     -2.429      0.015      -0.067      -0.007\n",
       "x67           -0.0102      0.018     -0.554      0.580      -0.046       0.026\n",
       "x68            0.0765      0.031      2.447      0.014       0.015       0.138\n",
       "x69            0.0479      0.019      2.477      0.013       0.010       0.086\n",
       "x70            0.0479      0.019      2.477      0.013       0.010       0.086\n",
       "x71           -0.0034      0.053     -0.064      0.949      -0.108       0.101\n",
       "x72           -0.3056      0.052     -5.877      0.000      -0.408      -0.204\n",
       "x73           -0.0816      0.025     -3.305      0.001      -0.130      -0.033\n",
       "x74           -0.0169      0.009     -1.856      0.063      -0.035       0.001\n",
       "x75           -0.0583      0.021     -2.823      0.005      -0.099      -0.018\n",
       "x76            0.3878      0.117      3.301      0.001       0.158       0.618\n",
       "x77            0.0407      0.004     10.988      0.000       0.033       0.048\n",
       "x78            0.0195      0.016      1.212      0.225      -0.012       0.051\n",
       "x79           -1.0112      0.782     -1.293      0.196      -2.544       0.522\n",
       "x80           -6.0024      1.350     -4.447      0.000      -8.648      -3.357\n",
       "x81            0.0350      0.041      0.849      0.396      -0.046       0.116\n",
       "x82            0.0716      0.025      2.876      0.004       0.023       0.120\n",
       "x83           -0.0358      0.070     -0.512      0.609      -0.173       0.101\n",
       "x84           -0.1624      0.052     -3.115      0.002      -0.265      -0.060\n",
       "x85            0.0818      0.069      1.189      0.235      -0.053       0.217\n",
       "x86            0.0278      0.099      0.281      0.779      -0.166       0.221\n",
       "x87           -0.8060      0.410     -1.965      0.049      -1.610      -0.002\n",
       "x88           -0.0040      0.016     -0.257      0.797      -0.034       0.026\n",
       "x89           -0.0040      0.016     -0.257      0.797      -0.034       0.026\n",
       "x90            0.0113      0.024      0.478      0.632      -0.035       0.058\n",
       "x91            0.1900      0.070      2.696      0.007       0.052       0.328\n",
       "x92            0.8130      0.620      1.311      0.190      -0.402       2.028\n",
       "x93            1.4097      0.634      2.225      0.026       0.168       2.652\n",
       "x94            0.0591      0.087      0.680      0.496      -0.111       0.229\n",
       "x95            5.9780     56.870      0.105      0.916    -105.491     117.447\n",
       "x96           12.1395     20.545      0.591      0.555     -28.130      52.409\n",
       "x97           -2.2403     25.783     -0.087      0.931     -52.777      48.296\n",
       "x98         -129.7493     31.490     -4.120      0.000    -191.472     -68.027\n",
       "x99           20.8977     53.231      0.393      0.695     -83.439     125.234\n",
       "x100          74.4743     30.212      2.465      0.014      15.257     133.691\n",
       "x101          -2.2680     61.025     -0.037      0.970    -121.880     117.344\n",
       "x102        -178.9273     67.111     -2.666      0.008    -310.469     -47.385\n",
       "x103         -67.8092     40.097     -1.691      0.091    -146.401      10.783\n",
       "x104        -151.4981     46.378     -3.267      0.001    -242.402     -60.594\n",
       "x105         206.5276     78.982      2.615      0.009      51.718     361.337\n",
       "x106          45.7492     44.386      1.031      0.303     -41.250     132.748\n",
       "x107         -19.3063     14.346     -1.346      0.178     -47.425       8.813\n",
       "x108         -19.3063     14.346     -1.346      0.178     -47.425       8.813\n",
       "x109         -14.3532     17.016     -0.844      0.399     -47.705      18.998\n",
       "x110         101.6725     37.844      2.687      0.007      27.496     175.849\n",
       "x111         151.2168     45.681      3.310      0.001      61.680     240.754\n",
       "x112        -120.6941     82.206     -1.468      0.142    -281.823      40.435\n",
       "x113           3.6684     10.927      0.336      0.737     -17.749      25.086\n",
       "x114           0.8124      0.064     12.646      0.000       0.686       0.938\n",
       "x115           0.4449      0.187      2.379      0.017       0.078       0.811\n",
       "x116           0.8162      0.082      9.983      0.000       0.656       0.976\n",
       "x117           0.0277      0.061      0.452      0.651      -0.092       0.148\n",
       "x118           0.4449      0.187      2.379      0.017       0.078       0.811\n",
       "==============================================================================\n",
       "Omnibus:                    26205.666   Durbin-Watson:                   1.999\n",
       "Prob(Omnibus):                  0.000   Jarque-Bera (JB):          1674666.770\n",
       "Skew:                           5.510   Prob(JB):                         0.00\n",
       "Kurtosis:                      41.877   Cond. No.                     1.37e+16\n",
       "==============================================================================\n",
       "\n",
       "Warnings:\n",
       "[1] Standard Errors assume that the covariance matrix of the errors is correctly specified.\n",
       "[2] The smallest eigenvalue is 4.4e-27. This might indicate that there are\n",
       "strong multicollinearity problems or that the design matrix is singular.\n",
       "\"\"\""
      ]
     },
     "execution_count": 38,
     "metadata": {},
     "output_type": "execute_result"
    }
   ],
   "source": [
    "model_trained.summary()"
   ]
  },
  {
   "cell_type": "markdown",
   "metadata": {},
   "source": [
    "## 6. 실제값 vs 모델 예측값 비교"
   ]
  },
  {
   "cell_type": "markdown",
   "metadata": {},
   "source": [
    "#### Linear Model 예측값 출력"
   ]
  },
  {
   "cell_type": "code",
   "execution_count": 39,
   "metadata": {},
   "outputs": [],
   "source": [
    "y_pred_tr = model_trained.predict(train_x_sc)\n",
    "y_pred_ts = model_trained.predict(test_x_sc)"
   ]
  },
  {
   "cell_type": "markdown",
   "metadata": {},
   "source": [
    "#### [TEST] 실제값과 모델 예측값에 대한 산점도"
   ]
  },
  {
   "cell_type": "code",
   "execution_count": 40,
   "metadata": {},
   "outputs": [
    {
     "data": {
      "image/png": "[encoded data removed]",
      "text/plain": [
       "<Figure size 576x576 with 1 Axes>"
      ]
     },
     "metadata": {
      "needs_background": "light"
     },
     "output_type": "display_data"
    }
   ],
   "source": [
    "plt.figure(figsize=(8,8))\n",
    "plt.title('[Testing]True vs Predictied')\n",
    "plt.xlim(-0.75,0.75)\n",
    "plt.ylim(-0.75,0.75)\n",
    "plt.xlabel('true value')\n",
    "plt.ylabel('prediction')\n",
    "plt.scatter(test_y, y_pred_ts)\n",
    "plt.show()"
   ]
  },
  {
   "cell_type": "markdown",
   "metadata": {},
   "source": [
    "### 모델 예측값 평가를 위한 지표들(MSE, MAE, R-squared, MAPE)"
   ]
  },
  {
   "cell_type": "code",
   "execution_count": 41,
   "metadata": {},
   "outputs": [],
   "source": [
    "from sklearn.metrics import mean_squared_error\n",
    "from sklearn.metrics import mean_absolute_error\n",
    "from sklearn.metrics import r2_score\n",
    "\n",
    "def mean_absolute_percentage_error(y_true, y_pred):\n",
    "    y_true, y_pred = np.array(y_true), np.array(y_pred)\n",
    "    return np.mean(np.abs((y_true-y_pred)/y_true))*100"
   ]
  },
  {
   "cell_type": "code",
   "execution_count": 42,
   "metadata": {},
   "outputs": [
    {
     "name": "stdout",
     "output_type": "stream",
     "text": [
      "Training MSE in Linear: 1.346\n",
      "Testing MSE in Linear: 1.167\n"
     ]
    }
   ],
   "source": [
    "print('Training MSE in Linear: {:.3f}' .format(mean_squared_error(train_y, y_pred_tr)))\n",
    "print('Testing MSE in Linear: {:.3f}' .format(mean_squared_error(test_y, y_pred_ts)))"
   ]
  },
  {
   "cell_type": "code",
   "execution_count": 43,
   "metadata": {},
   "outputs": [
    {
     "name": "stdout",
     "output_type": "stream",
     "text": [
      "Training MAE in Linear: 0.511\n",
      "Testing MAE in Linear: 0.497\n"
     ]
    }
   ],
   "source": [
    "print('Training MAE in Linear: {:.3f}' .format(mean_absolute_error(train_y, y_pred_tr)))\n",
    "print('Testing MAE in Linear: {:.3f}' .format(mean_absolute_error(test_y, y_pred_ts)))"
   ]
  },
  {
   "cell_type": "code",
   "execution_count": 44,
   "metadata": {},
   "outputs": [
    {
     "name": "stdout",
     "output_type": "stream",
     "text": [
      "Training R2 in Linear: 0.075\n",
      "Testing R2 in Linear: 0.065\n"
     ]
    }
   ],
   "source": [
    "print('Training R2 in Linear: {:.3f}' .format(r2_score(train_y, y_pred_tr)))\n",
    "print('Testing R2 in Linear: {:.3f}' .format(r2_score(test_y, y_pred_ts)))"
   ]
  },
  {
   "cell_type": "markdown",
   "metadata": {},
   "source": [
    "#### 실제값에 '0'이 존재하는 경우에는 MAPE를 계산할 수 없음"
   ]
  },
  {
   "cell_type": "code",
   "execution_count": 45,
   "metadata": {},
   "outputs": [
    {
     "name": "stdout",
     "output_type": "stream",
     "text": [
      "Training MAPE in Linear: inf\n",
      "Testing MAPE in Linear: inf\n"
     ]
    },
    {
     "name": "stderr",
     "output_type": "stream",
     "text": [
      "C:\\Users\\Baek\\Anaconda3\\envs\\is\\lib\\site-packages\\ipykernel_launcher.py:7: RuntimeWarning: divide by zero encountered in true_divide\n",
      "  import sys\n"
     ]
    }
   ],
   "source": [
    "print('Training MAPE in Linear: {:.3f}' .format(mean_absolute_percentage_error(train_y, y_pred_tr)))\n",
    "print('Testing MAPE in Linear: {:.3f}' .format(mean_absolute_percentage_error(test_y, y_pred_ts)))"
   ]
  },
  {
   "cell_type": "markdown",
   "metadata": {},
   "source": [
    "## 7. Site(측정 위치 동일)별 선형 회귀 모델(Linear Regression) 구축"
   ]
  },
  {
   "cell_type": "markdown",
   "metadata": {},
   "source": [
    "### Site=1인 데이터로 분석"
   ]
  },
  {
   "cell_type": "markdown",
   "metadata": {},
   "source": [
    "#### 모델 구축을 위한 데이터 전처리"
   ]
  },
  {
   "cell_type": "code",
   "execution_count": 46,
   "metadata": {},
   "outputs": [],
   "source": [
    "data_1 = full_data[full_data['Site'] == 1]"
   ]
  },
  {
   "cell_type": "code",
   "execution_count": 47,
   "metadata": {},
   "outputs": [],
   "source": [
    "data_1 = data_1.drop(['LOT_ID 2', 'WF_ID', 'Site', 'X axis', 'Y axis'], axis=1)"
   ]
  },
  {
   "cell_type": "code",
   "execution_count": 48,
   "metadata": {},
   "outputs": [],
   "source": [
    "data_1_X = data_1.drop(['Response'], axis=1)\n",
    "data_1_Y = data_1['Response']"
   ]
  },
  {
   "cell_type": "markdown",
   "metadata": {},
   "source": [
    "#### 선형 회귀 모델 구축"
   ]
  },
  {
   "cell_type": "code",
   "execution_count": 49,
   "metadata": {},
   "outputs": [],
   "source": [
    "train_x, test_x, train_y, test_y = train_test_split(data_1_X, data_1_Y, test_size=0.3, random_state=2020)"
   ]
  },
  {
   "cell_type": "code",
   "execution_count": 50,
   "metadata": {},
   "outputs": [],
   "source": [
    "sc = StandardScaler()\n",
    "train_x_sc = sc.fit_transform(train_x)\n",
    "test_x_sc = sc.fit_transform(test_x)"
   ]
  },
  {
   "cell_type": "code",
   "execution_count": 51,
   "metadata": {},
   "outputs": [],
   "source": [
    "model = sm.OLS(train_y, train_x_sc)\n",
    "model_trained = model.fit()"
   ]
  },
  {
   "cell_type": "code",
   "execution_count": 52,
   "metadata": {},
   "outputs": [],
   "source": [
    "y_pred_tr = model_trained.predict(train_x_sc)\n",
    "y_pred_ts = model_trained.predict(test_x_sc)"
   ]
  },
  {
   "cell_type": "markdown",
   "metadata": {},
   "source": [
    "#### 모델에 대한 성능 평가"
   ]
  },
  {
   "cell_type": "code",
   "execution_count": 53,
   "metadata": {},
   "outputs": [
    {
     "name": "stdout",
     "output_type": "stream",
     "text": [
      "Training MSE in Linear: 3.638\n",
      "Testing MSE in Linear: 3.239\n",
      "Training MAE in Linear: 1.214\n",
      "Testing MAE in Linear: 1.181\n",
      "Training R2 in Linear: 0.213\n",
      "Testing R2 in Linear: 0.089\n"
     ]
    }
   ],
   "source": [
    "print('Training MSE in Linear: {:.3f}' .format(mean_squared_error(train_y, y_pred_tr)))\n",
    "print('Testing MSE in Linear: {:.3f}' .format(mean_squared_error(test_y, y_pred_ts)))\n",
    "\n",
    "print('Training MAE in Linear: {:.3f}' .format(mean_absolute_error(train_y, y_pred_tr)))\n",
    "print('Testing MAE in Linear: {:.3f}' .format(mean_absolute_error(test_y, y_pred_ts)))\n",
    "\n",
    "print('Training R2 in Linear: {:.3f}' .format(r2_score(train_y, y_pred_tr)))\n",
    "print('Testing R2 in Linear: {:.3f}' .format(r2_score(test_y, y_pred_ts)))"
   ]
  },
  {
   "cell_type": "code",
   "execution_count": 54,
   "metadata": {},
   "outputs": [
    {
     "data": {
      "text/plain": [
       "<matplotlib.collections.PathCollection at 0x1a31b5dd588>"
      ]
     },
     "execution_count": 54,
     "metadata": {},
     "output_type": "execute_result"
    },
    {
     "data": {
      "image/png": "[encoded data removed]",
      "text/plain": [
       "<Figure size 576x576 with 1 Axes>"
      ]
     },
     "metadata": {
      "needs_background": "light"
     },
     "output_type": "display_data"
    }
   ],
   "source": [
    "plt.figure(figsize=(8,8))\n",
    "plt.title('[Testing]True vs Predictied')\n",
    "plt.xlim(-0.75,0.75)\n",
    "plt.ylim(-0.75,0.75)\n",
    "plt.xlabel('true value')\n",
    "plt.ylabel('prediction')\n",
    "plt.scatter(test_y, y_pred_ts)"
   ]
  },
  {
   "cell_type": "markdown",
   "metadata": {},
   "source": [
    "## Site=2일 때 결과 도출"
   ]
  },
  {
   "cell_type": "code",
   "execution_count": 55,
   "metadata": {},
   "outputs": [
    {
     "name": "stdout",
     "output_type": "stream",
     "text": [
      "Training MSE in Linear: 4.102\n",
      "Testing MSE in Linear: 4.074\n",
      "Training MAE in Linear: 1.303\n",
      "Testing MAE in Linear: 1.322\n",
      "Training R2 in Linear: 0.200\n",
      "Testing R2 in Linear: 0.157\n"
     ]
    },
    {
     "data": {
      "text/plain": [
       "<matplotlib.collections.PathCollection at 0x1a31d708748>"
      ]
     },
     "execution_count": 55,
     "metadata": {},
     "output_type": "execute_result"
    },
    {
     "data": {
      "image/png": "[encoded data removed]",
      "text/plain": [
       "<Figure size 576x576 with 1 Axes>"
      ]
     },
     "metadata": {
      "needs_background": "light"
     },
     "output_type": "display_data"
    }
   ],
   "source": [
    "data_2 = full_data[full_data['Site'] == 2]\n",
    "data_2 = data_2.drop(['LOT_ID 2', 'WF_ID', 'Site', 'X axis', 'Y axis'], axis=1)\n",
    "\n",
    "data_2_X = data_2.drop(['Response'], axis=1)\n",
    "data_2_Y = data_2['Response']\n",
    "\n",
    "train_x, test_x, train_y, test_y = train_test_split(data_2_X, data_2_Y, test_size=0.3, random_state=2020)\n",
    "\n",
    "sc = StandardScaler()\n",
    "train_x_sc = sc.fit_transform(train_x)\n",
    "test_x_sc = sc.fit_transform(test_x)\n",
    "\n",
    "model= sm.OLS(train_y, train_x_sc)\n",
    "model_trained = model.fit()\n",
    "\n",
    "y_pred_tr = model_trained.predict(train_x_sc)\n",
    "y_pred_ts = model_trained.predict(test_x_sc)\n",
    "\n",
    "print('Training MSE in Linear: {:.3f}' .format(mean_squared_error(train_y, y_pred_tr)))\n",
    "print('Testing MSE in Linear: {:.3f}' .format(mean_squared_error(test_y, y_pred_ts)))\n",
    "\n",
    "print('Training MAE in Linear: {:.3f}' .format(mean_absolute_error(train_y, y_pred_tr)))\n",
    "print('Testing MAE in Linear: {:.3f}' .format(mean_absolute_error(test_y, y_pred_ts)))\n",
    "\n",
    "print('Training R2 in Linear: {:.3f}' .format(r2_score(train_y, y_pred_tr)))\n",
    "print('Testing R2 in Linear: {:.3f}' .format(r2_score(test_y, y_pred_ts)))\n",
    "\n",
    "plt.figure(figsize=(8,8))\n",
    "plt.title('[Testing]True vs Predictied')\n",
    "plt.xlim(-0.75,0.75)\n",
    "plt.ylim(-0.75,0.75)\n",
    "plt.xlabel('true value')\n",
    "plt.ylabel('prediction')\n",
    "plt.scatter(test_y, y_pred_ts)"
   ]
  },
  {
   "cell_type": "markdown",
   "metadata": {},
   "source": [
    "## Site=3일 때 결과 도출"
   ]
  },
  {
   "cell_type": "code",
   "execution_count": 56,
   "metadata": {},
   "outputs": [
    {
     "name": "stdout",
     "output_type": "stream",
     "text": [
      "Training MSE in Linear: 0.055\n",
      "Testing MSE in Linear: 0.044\n",
      "Training MAE in Linear: 0.144\n",
      "Testing MAE in Linear: 0.151\n",
      "Training R2 in Linear: 0.420\n",
      "Testing R2 in Linear: 0.389\n"
     ]
    },
    {
     "data": {
      "text/plain": [
       "<matplotlib.collections.PathCollection at 0x1a31d77b3c8>"
      ]
     },
     "execution_count": 56,
     "metadata": {},
     "output_type": "execute_result"
    },
    {
     "data": {
      "image/png": "[encoded data removed]",
      "text/plain": [
       "<Figure size 576x576 with 1 Axes>"
      ]
     },
     "metadata": {
      "needs_background": "light"
     },
     "output_type": "display_data"
    }
   ],
   "source": [
    "data_3 = full_data[full_data['Site'] == 3]\n",
    "data_3 = data_3.drop(['LOT_ID 2', 'WF_ID', 'Site', 'X axis', 'Y axis'], axis=1)\n",
    "\n",
    "data_3_X = data_3.drop(['Response'], axis=1)\n",
    "data_3_Y = data_3['Response']\n",
    "\n",
    "train_x, test_x, train_y, test_y = train_test_split(data_3_X, data_3_Y, test_size=0.3, random_state=2020)\n",
    "\n",
    "sc = StandardScaler()\n",
    "train_x_sc = sc.fit_transform(train_x)\n",
    "test_x_sc = sc.fit_transform(test_x)\n",
    "\n",
    "model = sm.OLS(train_y, train_x_sc)\n",
    "model_trained = model.fit()\n",
    "\n",
    "y_pred_tr = model_trained.predict(train_x_sc)\n",
    "y_pred_ts = model_trained.predict(test_x_sc)\n",
    "\n",
    "print('Training MSE in Linear: {:.3f}' .format(mean_squared_error(train_y, y_pred_tr)))\n",
    "print('Testing MSE in Linear: {:.3f}' .format(mean_squared_error(test_y, y_pred_ts)))\n",
    "\n",
    "print('Training MAE in Linear: {:.3f}' .format(mean_absolute_error(train_y, y_pred_tr)))\n",
    "print('Testing MAE in Linear: {:.3f}' .format(mean_absolute_error(test_y, y_pred_ts)))\n",
    "\n",
    "print('Training R2 in Linear: {:.3f}' .format(r2_score(train_y, y_pred_tr)))\n",
    "print('Testing R2 in Linear: {:.3f}' .format(r2_score(test_y, y_pred_ts)))\n",
    "\n",
    "plt.figure(figsize=(8,8))\n",
    "plt.title('[Testing]True vs Predictied')\n",
    "plt.xlim(-0.75,0.75)\n",
    "plt.ylim(-0.75,0.75)\n",
    "plt.xlabel('true value')\n",
    "plt.ylabel('prediction')\n",
    "plt.scatter(test_y, y_pred_ts)"
   ]
  },
  {
   "cell_type": "markdown",
   "metadata": {},
   "source": [
    "## Site=4일 때 결과 도출"
   ]
  },
  {
   "cell_type": "code",
   "execution_count": 57,
   "metadata": {},
   "outputs": [
    {
     "name": "stdout",
     "output_type": "stream",
     "text": [
      "Training MSE in Linear: 0.149\n",
      "Testing MSE in Linear: 0.190\n",
      "Training MAE in Linear: 0.178\n",
      "Testing MAE in Linear: 0.203\n",
      "Training R2 in Linear: 0.175\n",
      "Testing R2 in Linear: 0.042\n"
     ]
    },
    {
     "data": {
      "text/plain": [
       "<matplotlib.collections.PathCollection at 0x1a31d731188>"
      ]
     },
     "execution_count": 57,
     "metadata": {},
     "output_type": "execute_result"
    },
    {
     "data": {
      "image/png": "[encoded data removed]",
      "text/plain": [
       "<Figure size 576x576 with 1 Axes>"
      ]
     },
     "metadata": {
      "needs_background": "light"
     },
     "output_type": "display_data"
    }
   ],
   "source": [
    "data_4 = full_data[full_data['Site'] == 4]\n",
    "data_4 = data_4.drop(['LOT_ID 2', 'WF_ID', 'Site', 'X axis', 'Y axis'], axis=1)\n",
    "\n",
    "data_4_X = data_4.drop(['Response'], axis=1)\n",
    "data_4_Y = data_4['Response']\n",
    "\n",
    "train_x, test_x, train_y, test_y = train_test_split(data_4_X, data_4_Y, test_size=0.3, random_state=2020)\n",
    "\n",
    "sc = StandardScaler()\n",
    "train_x_sc = sc.fit_transform(train_x)\n",
    "test_x_sc = sc.fit_transform(test_x)\n",
    "\n",
    "model = sm.OLS(train_y, train_x_sc)\n",
    "model_trained = model.fit()\n",
    "\n",
    "y_pred_tr = model_trained.predict(train_x_sc)\n",
    "y_pred_ts = model_trained.predict(test_x_sc)\n",
    "\n",
    "print('Training MSE in Linear: {:.3f}' .format(mean_squared_error(train_y, y_pred_tr)))\n",
    "print('Testing MSE in Linear: {:.3f}' .format(mean_squared_error(test_y, y_pred_ts)))\n",
    "\n",
    "print('Training MAE in Linear: {:.3f}' .format(mean_absolute_error(train_y, y_pred_tr)))\n",
    "print('Testing MAE in Linear: {:.3f}' .format(mean_absolute_error(test_y, y_pred_ts)))\n",
    "\n",
    "print('Training R2 in Linear: {:.3f}' .format(r2_score(train_y, y_pred_tr)))\n",
    "print('Testing R2 in Linear: {:.3f}' .format(r2_score(test_y, y_pred_ts)))\n",
    "\n",
    "plt.figure(figsize=(8,8))\n",
    "plt.title('[Testing]True vs Predictied')\n",
    "plt.xlim(-0.75,0.75)\n",
    "plt.ylim(-0.75,0.75)\n",
    "plt.xlabel('true value')\n",
    "plt.ylabel('prediction')\n",
    "plt.scatter(test_y, y_pred_ts)"
   ]
  },
  {
   "cell_type": "markdown",
   "metadata": {},
   "source": [
    "## Site=5일 때 결과 도출"
   ]
  },
  {
   "cell_type": "code",
   "execution_count": 58,
   "metadata": {},
   "outputs": [
    {
     "name": "stdout",
     "output_type": "stream",
     "text": [
      "Training MSE in Linear: 0.057\n",
      "Testing MSE in Linear: 0.063\n",
      "Training MAE in Linear: 0.143\n",
      "Testing MAE in Linear: 0.147\n",
      "Training R2 in Linear: 0.353\n",
      "Testing R2 in Linear: 0.293\n"
     ]
    },
    {
     "data": {
      "text/plain": [
       "<matplotlib.collections.PathCollection at 0x1a31e2bb208>"
      ]
     },
     "execution_count": 58,
     "metadata": {},
     "output_type": "execute_result"
    },
    {
     "data": {
      "image/png": "[encoded data removed]",
      "text/plain": [
       "<Figure size 576x576 with 1 Axes>"
      ]
     },
     "metadata": {
      "needs_background": "light"
     },
     "output_type": "display_data"
    }
   ],
   "source": [
    "data_5 = full_data[full_data['Site'] == 5]\n",
    "data_5 = data_5.drop(['LOT_ID 2', 'WF_ID', 'Site', 'X axis', 'Y axis'], axis=1)\n",
    "\n",
    "data_5_X = data_5.drop(['Response'], axis=1)\n",
    "data_5_Y = data_5['Response']\n",
    "\n",
    "train_x, test_x, train_y, test_y = train_test_split(data_5_X, data_5_Y, test_size=0.3, random_state=2020)\n",
    "\n",
    "sc = StandardScaler()\n",
    "train_x_sc = sc.fit_transform(train_x)\n",
    "test_x_sc = sc.fit_transform(test_x)\n",
    "\n",
    "model = sm.OLS(train_y, train_x_sc)\n",
    "model_trained = model.fit()\n",
    "\n",
    "y_pred_tr = model_trained.predict(train_x_sc)\n",
    "y_pred_ts = model_trained.predict(test_x_sc)\n",
    "\n",
    "print('Training MSE in Linear: {:.3f}' .format(mean_squared_error(train_y, y_pred_tr)))\n",
    "print('Testing MSE in Linear: {:.3f}' .format(mean_squared_error(test_y, y_pred_ts)))\n",
    "\n",
    "print('Training MAE in Linear: {:.3f}' .format(mean_absolute_error(train_y, y_pred_tr)))\n",
    "print('Testing MAE in Linear: {:.3f}' .format(mean_absolute_error(test_y, y_pred_ts)))\n",
    "\n",
    "print('Training R2 in Linear: {:.3f}' .format(r2_score(train_y, y_pred_tr)))\n",
    "print('Testing R2 in Linear: {:.3f}' .format(r2_score(test_y, y_pred_ts)))\n",
    "\n",
    "plt.figure(figsize=(8,8))\n",
    "plt.title('[Testing]True vs Predictied')\n",
    "plt.xlim(-0.75,0.75)\n",
    "plt.ylim(-0.75,0.75)\n",
    "plt.xlabel('true value')\n",
    "plt.ylabel('prediction')\n",
    "plt.scatter(test_y, y_pred_ts)"
   ]
  },
  {
   "cell_type": "markdown",
   "metadata": {},
   "source": [
    "## Site=6일 때 결과 도출"
   ]
  },
  {
   "cell_type": "code",
   "execution_count": 59,
   "metadata": {},
   "outputs": [
    {
     "name": "stdout",
     "output_type": "stream",
     "text": [
      "Training MSE in Linear: 0.041\n",
      "Testing MSE in Linear: 0.053\n",
      "Training MAE in Linear: 0.148\n",
      "Testing MAE in Linear: 0.165\n",
      "Training R2 in Linear: 0.409\n",
      "Testing R2 in Linear: 0.304\n"
     ]
    },
    {
     "data": {
      "text/plain": [
       "<matplotlib.collections.PathCollection at 0x1a31dc2df48>"
      ]
     },
     "execution_count": 59,
     "metadata": {},
     "output_type": "execute_result"
    },
    {
     "data": {
      "image/png": "[encoded data removed]",
      "text/plain": [
       "<Figure size 576x576 with 1 Axes>"
      ]
     },
     "metadata": {
      "needs_background": "light"
     },
     "output_type": "display_data"
    }
   ],
   "source": [
    "data_6 = full_data[full_data['Site'] == 6]\n",
    "data_6 = data_6.drop(['LOT_ID 2', 'WF_ID', 'Site', 'X axis', 'Y axis'], axis=1)\n",
    "\n",
    "data_6_X = data_6.drop(['Response'], axis=1)\n",
    "data_6_Y = data_6['Response']\n",
    "\n",
    "train_x, test_x, train_y, test_y = train_test_split(data_6_X, data_6_Y, test_size=0.3, random_state=2020)\n",
    "\n",
    "sc = StandardScaler()\n",
    "train_x_sc = sc.fit_transform(train_x)\n",
    "test_x_sc = sc.fit_transform(test_x)\n",
    "\n",
    "model = sm.OLS(train_y, train_x_sc)\n",
    "model_trained = model.fit()\n",
    "\n",
    "y_pred_tr = model_trained.predict(train_x_sc)\n",
    "y_pred_ts = model_trained.predict(test_x_sc)\n",
    "\n",
    "print('Training MSE in Linear: {:.3f}' .format(mean_squared_error(train_y, y_pred_tr)))\n",
    "print('Testing MSE in Linear: {:.3f}' .format(mean_squared_error(test_y, y_pred_ts)))\n",
    "\n",
    "print('Training MAE in Linear: {:.3f}' .format(mean_absolute_error(train_y, y_pred_tr)))\n",
    "print('Testing MAE in Linear: {:.3f}' .format(mean_absolute_error(test_y, y_pred_ts)))\n",
    "\n",
    "print('Training R2 in Linear: {:.3f}' .format(r2_score(train_y, y_pred_tr)))\n",
    "print('Testing R2 in Linear: {:.3f}' .format(r2_score(test_y, y_pred_ts)))\n",
    "\n",
    "plt.figure(figsize=(8,8))\n",
    "plt.title('[Testing]True vs Predictied')\n",
    "plt.xlim(-0.75,0.75)\n",
    "plt.ylim(-0.75,0.75)\n",
    "plt.xlabel('true value')\n",
    "plt.ylabel('prediction')\n",
    "plt.scatter(test_y, y_pred_ts)"
   ]
  },
  {
   "cell_type": "markdown",
   "metadata": {},
   "source": [
    "## Site=7일 때 결과 도출"
   ]
  },
  {
   "cell_type": "code",
   "execution_count": 60,
   "metadata": {},
   "outputs": [
    {
     "name": "stdout",
     "output_type": "stream",
     "text": [
      "Training MSE in Linear: 0.027\n",
      "Testing MSE in Linear: 0.031\n",
      "Training MAE in Linear: 0.115\n",
      "Testing MAE in Linear: 0.120\n",
      "Training R2 in Linear: 0.473\n",
      "Testing R2 in Linear: 0.379\n"
     ]
    },
    {
     "data": {
      "text/plain": [
       "<matplotlib.collections.PathCollection at 0x1a31dc9e508>"
      ]
     },
     "execution_count": 60,
     "metadata": {},
     "output_type": "execute_result"
    },
    {
     "data": {
      "image/png": "[encoded data removed]",
      "text/plain": [
       "<Figure size 576x576 with 1 Axes>"
      ]
     },
     "metadata": {
      "needs_background": "light"
     },
     "output_type": "display_data"
    }
   ],
   "source": [
    "data_7 = full_data[full_data['Site'] == 7]\n",
    "data_7 = data_7.drop(['LOT_ID 2', 'WF_ID', 'Site', 'X axis', 'Y axis'], axis=1)\n",
    "\n",
    "data_7_X = data_7.drop(['Response'], axis=1)\n",
    "data_7_Y = data_7['Response']\n",
    "\n",
    "train_x, test_x, train_y, test_y = train_test_split(data_7_X, data_7_Y, test_size=0.3, random_state=2020)\n",
    "\n",
    "sc = StandardScaler()\n",
    "train_x_sc = sc.fit_transform(train_x)\n",
    "test_x_sc = sc.fit_transform(test_x)\n",
    "\n",
    "model = sm.OLS(train_y, train_x_sc)\n",
    "model_trained = model.fit()\n",
    "\n",
    "y_pred_tr = model_trained.predict(train_x_sc)\n",
    "y_pred_ts = model_trained.predict(test_x_sc)\n",
    "\n",
    "print('Training MSE in Linear: {:.3f}' .format(mean_squared_error(train_y, y_pred_tr)))\n",
    "print('Testing MSE in Linear: {:.3f}' .format(mean_squared_error(test_y, y_pred_ts)))\n",
    "\n",
    "print('Training MAE in Linear: {:.3f}' .format(mean_absolute_error(train_y, y_pred_tr)))\n",
    "print('Testing MAE in Linear: {:.3f}' .format(mean_absolute_error(test_y, y_pred_ts)))\n",
    "\n",
    "print('Training R2 in Linear: {:.3f}' .format(r2_score(train_y, y_pred_tr)))\n",
    "print('Testing R2 in Linear: {:.3f}' .format(r2_score(test_y, y_pred_ts)))\n",
    "\n",
    "plt.figure(figsize=(8,8))\n",
    "plt.title('[Testing]True vs Predictied')\n",
    "plt.xlim(-0.75,0.75)\n",
    "plt.ylim(-0.75,0.75)\n",
    "plt.xlabel('true value')\n",
    "plt.ylabel('prediction')\n",
    "plt.scatter(test_y, y_pred_ts)"
   ]
  },
  {
   "cell_type": "markdown",
   "metadata": {},
   "source": [
    "## Site=8일 때 결과 도출"
   ]
  },
  {
   "cell_type": "code",
   "execution_count": 61,
   "metadata": {},
   "outputs": [
    {
     "name": "stdout",
     "output_type": "stream",
     "text": [
      "Training MSE in Linear: 0.038\n",
      "Testing MSE in Linear: 0.041\n",
      "Training MAE in Linear: 0.142\n",
      "Testing MAE in Linear: 0.150\n",
      "Training R2 in Linear: 0.444\n",
      "Testing R2 in Linear: 0.340\n"
     ]
    },
    {
     "data": {
      "text/plain": [
       "<matplotlib.collections.PathCollection at 0x1a31dd08f48>"
      ]
     },
     "execution_count": 61,
     "metadata": {},
     "output_type": "execute_result"
    },
    {
     "data": {
      "image/png": "[encoded data removed]",
      "text/plain": [
       "<Figure size 576x576 with 1 Axes>"
      ]
     },
     "metadata": {
      "needs_background": "light"
     },
     "output_type": "display_data"
    }
   ],
   "source": [
    "data_8 = full_data[full_data['Site'] == 8]\n",
    "data_8 = data_8.drop(['LOT_ID 2', 'WF_ID', 'Site', 'X axis', 'Y axis'], axis=1)\n",
    "\n",
    "data_8_X = data_8.drop(['Response'], axis=1)\n",
    "data_8_Y = data_8['Response']\n",
    "\n",
    "train_x, test_x, train_y, test_y = train_test_split(data_8_X, data_8_Y, test_size=0.3, random_state=2020)\n",
    "\n",
    "sc = StandardScaler()\n",
    "train_x_sc = sc.fit_transform(train_x)\n",
    "test_x_sc = sc.fit_transform(test_x)\n",
    "\n",
    "model = sm.OLS(train_y, train_x_sc)\n",
    "model_trained = model.fit()\n",
    "\n",
    "y_pred_tr = model_trained.predict(train_x_sc)\n",
    "y_pred_ts = model_trained.predict(test_x_sc)\n",
    "\n",
    "print('Training MSE in Linear: {:.3f}' .format(mean_squared_error(train_y, y_pred_tr)))\n",
    "print('Testing MSE in Linear: {:.3f}' .format(mean_squared_error(test_y, y_pred_ts)))\n",
    "\n",
    "print('Training MAE in Linear: {:.3f}' .format(mean_absolute_error(train_y, y_pred_tr)))\n",
    "print('Testing MAE in Linear: {:.3f}' .format(mean_absolute_error(test_y, y_pred_ts)))\n",
    "\n",
    "print('Training R2 in Linear: {:.3f}' .format(r2_score(train_y, y_pred_tr)))\n",
    "print('Testing R2 in Linear: {:.3f}' .format(r2_score(test_y, y_pred_ts)))\n",
    "\n",
    "plt.figure(figsize=(8,8))\n",
    "plt.title('[Testing]True vs Predictied')\n",
    "plt.xlim(-0.75,0.75)\n",
    "plt.ylim(-0.75,0.75)\n",
    "plt.xlabel('true value')\n",
    "plt.ylabel('prediction')\n",
    "plt.scatter(test_y, y_pred_ts)"
   ]
  },
  {
   "cell_type": "markdown",
   "metadata": {},
   "source": [
    "## Site=9일 때 결과 도출"
   ]
  },
  {
   "cell_type": "code",
   "execution_count": 62,
   "metadata": {},
   "outputs": [
    {
     "name": "stdout",
     "output_type": "stream",
     "text": [
      "Training MSE in Linear: 0.033\n",
      "Testing MSE in Linear: 0.035\n",
      "Training MAE in Linear: 0.128\n",
      "Testing MAE in Linear: 0.133\n",
      "Training R2 in Linear: 0.490\n",
      "Testing R2 in Linear: 0.436\n"
     ]
    },
    {
     "data": {
      "text/plain": [
       "<matplotlib.collections.PathCollection at 0x1a31dd7c648>"
      ]
     },
     "execution_count": 62,
     "metadata": {},
     "output_type": "execute_result"
    },
    {
     "data": {
      "image/png": "[encoded data removed]",
      "text/plain": [
       "<Figure size 576x576 with 1 Axes>"
      ]
     },
     "metadata": {
      "needs_background": "light"
     },
     "output_type": "display_data"
    }
   ],
   "source": [
    "data_9 = full_data[full_data['Site'] == 9]\n",
    "data_9 = data_9.drop(['LOT_ID 2', 'WF_ID', 'Site', 'X axis', 'Y axis'], axis=1)\n",
    "\n",
    "data_9_X = data_9.drop(['Response'], axis=1)\n",
    "data_9_Y = data_9['Response']\n",
    "\n",
    "train_x, test_x, train_y, test_y = train_test_split(data_9_X, data_9_Y, test_size=0.3, random_state=2020)\n",
    "\n",
    "sc = StandardScaler()\n",
    "train_x_sc = sc.fit_transform(train_x)\n",
    "test_x_sc = sc.fit_transform(test_x)\n",
    "\n",
    "model = sm.OLS(train_y, train_x_sc)\n",
    "model_trained = model.fit()\n",
    "\n",
    "y_pred_tr = model_trained.predict(train_x_sc)\n",
    "y_pred_ts = model_trained.predict(test_x_sc)\n",
    "\n",
    "print('Training MSE in Linear: {:.3f}' .format(mean_squared_error(train_y, y_pred_tr)))\n",
    "print('Testing MSE in Linear: {:.3f}' .format(mean_squared_error(test_y, y_pred_ts)))\n",
    "\n",
    "print('Training MAE in Linear: {:.3f}' .format(mean_absolute_error(train_y, y_pred_tr)))\n",
    "print('Testing MAE in Linear: {:.3f}' .format(mean_absolute_error(test_y, y_pred_ts)))\n",
    "\n",
    "print('Training R2 in Linear: {:.3f}' .format(r2_score(train_y, y_pred_tr)))\n",
    "print('Testing R2 in Linear: {:.3f}' .format(r2_score(test_y, y_pred_ts)))\n",
    "\n",
    "plt.figure(figsize=(8,8))\n",
    "plt.title('[Testing]True vs Predictied')\n",
    "plt.xlim(-0.75,0.75)\n",
    "plt.ylim(-0.75,0.75)\n",
    "plt.xlabel('true value')\n",
    "plt.ylabel('prediction')\n",
    "plt.scatter(test_y, y_pred_ts)"
   ]
  },
  {
   "cell_type": "markdown",
   "metadata": {},
   "source": [
    "## Site=10일 때 결과 도출"
   ]
  },
  {
   "cell_type": "code",
   "execution_count": 63,
   "metadata": {},
   "outputs": [
    {
     "name": "stdout",
     "output_type": "stream",
     "text": [
      "Training MSE in Linear: 0.134\n",
      "Testing MSE in Linear: 0.152\n",
      "Training MAE in Linear: 0.172\n",
      "Testing MAE in Linear: 0.180\n",
      "Training R2 in Linear: 0.177\n",
      "Testing R2 in Linear: 0.115\n"
     ]
    },
    {
     "data": {
      "text/plain": [
       "<matplotlib.collections.PathCollection at 0x1a31e7ebc08>"
      ]
     },
     "execution_count": 63,
     "metadata": {},
     "output_type": "execute_result"
    },
    {
     "data": {
      "image/png": "[encoded data removed]",
      "text/plain": [
       "<Figure size 576x576 with 1 Axes>"
      ]
     },
     "metadata": {
      "needs_background": "light"
     },
     "output_type": "display_data"
    }
   ],
   "source": [
    "data_10 = full_data[full_data['Site'] == 10]\n",
    "data_10 = data_10.drop(['LOT_ID 2', 'WF_ID', 'Site', 'X axis', 'Y axis'], axis=1)\n",
    "\n",
    "data_10_X = data_10.drop(['Response'], axis=1)\n",
    "data_10_Y = data_10['Response']\n",
    "\n",
    "train_x, test_x, train_y, test_y = train_test_split(data_10_X, data_10_Y, test_size=0.3, random_state=2020)\n",
    "\n",
    "sc = StandardScaler()\n",
    "train_x_sc = sc.fit_transform(train_x)\n",
    "test_x_sc = sc.fit_transform(test_x)\n",
    "\n",
    "model = sm.OLS(train_y, train_x_sc)\n",
    "model_trained = model.fit()\n",
    "\n",
    "y_pred_tr = model_trained.predict(train_x_sc)\n",
    "y_pred_ts = model_trained.predict(test_x_sc)\n",
    "\n",
    "print('Training MSE in Linear: {:.3f}' .format(mean_squared_error(train_y, y_pred_tr)))\n",
    "print('Testing MSE in Linear: {:.3f}' .format(mean_squared_error(test_y, y_pred_ts)))\n",
    "\n",
    "print('Training MAE in Linear: {:.3f}' .format(mean_absolute_error(train_y, y_pred_tr)))\n",
    "print('Testing MAE in Linear: {:.3f}' .format(mean_absolute_error(test_y, y_pred_ts)))\n",
    "\n",
    "print('Training R2 in Linear: {:.3f}' .format(r2_score(train_y, y_pred_tr)))\n",
    "print('Testing R2 in Linear: {:.3f}' .format(r2_score(test_y, y_pred_ts)))\n",
    "\n",
    "plt.figure(figsize=(8,8))\n",
    "plt.title('[Testing]True vs Predictied')\n",
    "plt.xlim(-0.75,0.75)\n",
    "plt.ylim(-0.75,0.75)\n",
    "plt.xlabel('true value')\n",
    "plt.ylabel('prediction')\n",
    "plt.scatter(test_y, y_pred_ts)"
   ]
  },
  {
   "cell_type": "markdown",
   "metadata": {},
   "source": [
    "## Site=11일 때 결과 도출"
   ]
  },
  {
   "cell_type": "code",
   "execution_count": 64,
   "metadata": {},
   "outputs": [
    {
     "name": "stdout",
     "output_type": "stream",
     "text": [
      "Training MSE in Linear: 3.774\n",
      "Testing MSE in Linear: 3.589\n",
      "Training MAE in Linear: 1.298\n",
      "Testing MAE in Linear: 1.306\n",
      "Training R2 in Linear: 0.233\n",
      "Testing R2 in Linear: 0.154\n"
     ]
    },
    {
     "data": {
      "text/plain": [
       "<matplotlib.collections.PathCollection at 0x1a31e888788>"
      ]
     },
     "execution_count": 64,
     "metadata": {},
     "output_type": "execute_result"
    },
    {
     "data": {
      "image/png": "[encoded data removed]",
      "text/plain": [
       "<Figure size 576x576 with 1 Axes>"
      ]
     },
     "metadata": {
      "needs_background": "light"
     },
     "output_type": "display_data"
    }
   ],
   "source": [
    "data_11 = full_data[full_data['Site'] == 11]\n",
    "data_11 = data_11.drop(['LOT_ID 2', 'WF_ID', 'Site', 'X axis', 'Y axis'], axis=1)\n",
    "\n",
    "data_11_X = data_11.drop(['Response'], axis=1)\n",
    "data_11_Y = data_11['Response']\n",
    "\n",
    "train_x, test_x, train_y, test_y = train_test_split(data_11_X, data_11_Y, test_size=0.3, random_state=2020)\n",
    "\n",
    "sc = StandardScaler()\n",
    "train_x_sc = sc.fit_transform(train_x)\n",
    "test_x_sc = sc.fit_transform(test_x)\n",
    "\n",
    "model = sm.OLS(train_y, train_x_sc)\n",
    "model_trained = model.fit()\n",
    "\n",
    "y_pred_tr = model_trained.predict(train_x_sc)\n",
    "y_pred_ts = model_trained.predict(test_x_sc)\n",
    "\n",
    "print('Training MSE in Linear: {:.3f}' .format(mean_squared_error(train_y, y_pred_tr)))\n",
    "print('Testing MSE in Linear: {:.3f}' .format(mean_squared_error(test_y, y_pred_ts)))\n",
    "\n",
    "print('Training MAE in Linear: {:.3f}' .format(mean_absolute_error(train_y, y_pred_tr)))\n",
    "print('Testing MAE in Linear: {:.3f}' .format(mean_absolute_error(test_y, y_pred_ts)))\n",
    "\n",
    "print('Training R2 in Linear: {:.3f}' .format(r2_score(train_y, y_pred_tr)))\n",
    "print('Testing R2 in Linear: {:.3f}' .format(r2_score(test_y, y_pred_ts)))\n",
    "\n",
    "plt.figure(figsize=(8,8))\n",
    "plt.title('[Testing]True vs Predictied')\n",
    "plt.xlim(-0.75,0.75)\n",
    "plt.ylim(-0.75,0.75)\n",
    "plt.xlabel('true value')\n",
    "plt.ylabel('prediction')\n",
    "plt.scatter(test_y, y_pred_ts)"
   ]
  },
  {
   "cell_type": "markdown",
   "metadata": {},
   "source": [
    "## Site=12일 때 결과 도출"
   ]
  },
  {
   "cell_type": "code",
   "execution_count": 65,
   "metadata": {},
   "outputs": [
    {
     "name": "stdout",
     "output_type": "stream",
     "text": [
      "Training MSE in Linear: 1.149\n",
      "Testing MSE in Linear: 1.196\n",
      "Training MAE in Linear: 0.578\n",
      "Testing MAE in Linear: 0.568\n",
      "Training R2 in Linear: 0.174\n",
      "Testing R2 in Linear: 0.081\n"
     ]
    },
    {
     "data": {
      "text/plain": [
       "<matplotlib.collections.PathCollection at 0x1a31f05e108>"
      ]
     },
     "execution_count": 65,
     "metadata": {},
     "output_type": "execute_result"
    },
    {
     "data": {
      "image/png": "[encoded data removed]",
      "text/plain": [
       "<Figure size 576x576 with 1 Axes>"
      ]
     },
     "metadata": {
      "needs_background": "light"
     },
     "output_type": "display_data"
    }
   ],
   "source": [
    "data_12 = full_data[full_data['Site'] == 12]\n",
    "data_12 = data_12.drop(['LOT_ID 2', 'WF_ID', 'Site', 'X axis', 'Y axis'], axis=1)\n",
    "\n",
    "data_12_X = data_12.drop(['Response'], axis=1)\n",
    "data_12_Y = data_12['Response']\n",
    "\n",
    "train_x, test_x, train_y, test_y = train_test_split(data_12_X, data_12_Y, test_size=0.3, random_state=2020)\n",
    "\n",
    "sc = StandardScaler()\n",
    "train_x_sc = sc.fit_transform(train_x)\n",
    "test_x_sc = sc.fit_transform(test_x)\n",
    "\n",
    "model = sm.OLS(train_y, train_x_sc)\n",
    "model_trained = model.fit()\n",
    "\n",
    "y_pred_tr = model_trained.predict(train_x_sc)\n",
    "y_pred_ts = model_trained.predict(test_x_sc)\n",
    "\n",
    "print('Training MSE in Linear: {:.3f}' .format(mean_squared_error(train_y, y_pred_tr)))\n",
    "print('Testing MSE in Linear: {:.3f}' .format(mean_squared_error(test_y, y_pred_ts)))\n",
    "\n",
    "print('Training MAE in Linear: {:.3f}' .format(mean_absolute_error(train_y, y_pred_tr)))\n",
    "print('Testing MAE in Linear: {:.3f}' .format(mean_absolute_error(test_y, y_pred_ts)))\n",
    "\n",
    "print('Training R2 in Linear: {:.3f}' .format(r2_score(train_y, y_pred_tr)))\n",
    "print('Testing R2 in Linear: {:.3f}' .format(r2_score(test_y, y_pred_ts)))\n",
    "\n",
    "plt.figure(figsize=(8,8))\n",
    "plt.title('[Testing]True vs Predictied')\n",
    "plt.xlim(-0.75,0.75)\n",
    "plt.ylim(-0.75,0.75)\n",
    "plt.xlabel('true value')\n",
    "plt.ylabel('prediction')\n",
    "plt.scatter(test_y, y_pred_ts)"
   ]
  },
  {
   "cell_type": "markdown",
   "metadata": {},
   "source": [
    "## Site=13일 때 결과 도출"
   ]
  },
  {
   "cell_type": "code",
   "execution_count": 66,
   "metadata": {},
   "outputs": [
    {
     "name": "stdout",
     "output_type": "stream",
     "text": [
      "Training MSE in Linear: 0.035\n",
      "Testing MSE in Linear: 0.035\n",
      "Training MAE in Linear: 0.126\n",
      "Testing MAE in Linear: 0.127\n",
      "Training R2 in Linear: 0.416\n",
      "Testing R2 in Linear: 0.379\n"
     ]
    },
    {
     "data": {
      "text/plain": [
       "<matplotlib.collections.PathCollection at 0x1a31f0c48c8>"
      ]
     },
     "execution_count": 66,
     "metadata": {},
     "output_type": "execute_result"
    },
    {
     "data": {
      "image/png": "[encoded data removed]",
      "text/plain": [
       "<Figure size 576x576 with 1 Axes>"
      ]
     },
     "metadata": {
      "needs_background": "light"
     },
     "output_type": "display_data"
    }
   ],
   "source": [
    "data_13 = full_data[full_data['Site'] == 13]\n",
    "data_13 = data_13.drop(['LOT_ID 2', 'WF_ID', 'Site', 'X axis', 'Y axis'], axis=1)\n",
    "\n",
    "data_13_X = data_13.drop(['Response'], axis=1)\n",
    "data_13_Y = data_13['Response']\n",
    "\n",
    "train_x, test_x, train_y, test_y = train_test_split(data_13_X, data_13_Y, test_size=0.3, random_state=2020)\n",
    "\n",
    "sc = StandardScaler()\n",
    "train_x_sc = sc.fit_transform(train_x)\n",
    "test_x_sc = sc.fit_transform(test_x)\n",
    "\n",
    "model = sm.OLS(train_y, train_x_sc)\n",
    "model_trained = model.fit()\n",
    "\n",
    "y_pred_tr = model_trained.predict(train_x_sc)\n",
    "y_pred_ts = model_trained.predict(test_x_sc)\n",
    "\n",
    "print('Training MSE in Linear: {:.3f}' .format(mean_squared_error(train_y, y_pred_tr)))\n",
    "print('Testing MSE in Linear: {:.3f}' .format(mean_squared_error(test_y, y_pred_ts)))\n",
    "\n",
    "print('Training MAE in Linear: {:.3f}' .format(mean_absolute_error(train_y, y_pred_tr)))\n",
    "print('Testing MAE in Linear: {:.3f}' .format(mean_absolute_error(test_y, y_pred_ts)))\n",
    "\n",
    "print('Training R2 in Linear: {:.3f}' .format(r2_score(train_y, y_pred_tr)))\n",
    "print('Testing R2 in Linear: {:.3f}' .format(r2_score(test_y, y_pred_ts)))\n",
    "\n",
    "plt.figure(figsize=(8,8))\n",
    "plt.title('[Testing]True vs Predictied')\n",
    "plt.xlim(-0.75,0.75)\n",
    "plt.ylim(-0.75,0.75)\n",
    "plt.xlabel('true value')\n",
    "plt.ylabel('prediction')\n",
    "plt.scatter(test_y, y_pred_ts)"
   ]
  }
 ],
 "metadata": {
  "kernelspec": {
   "display_name": "Python 3",
   "language": "python",
   "name": "python3"
  },
  "language_info": {
   "codemirror_mode": {
    "name": "ipython",
    "version": 3
   },
   "file_extension": ".py",
   "mimetype": "text/x-python",
   "name": "python",
   "nbconvert_exporter": "python",
   "pygments_lexer": "ipython3",
   "version": "3.7.6"
  }
 },
 "nbformat": 4,
 "nbformat_minor": 2
}
